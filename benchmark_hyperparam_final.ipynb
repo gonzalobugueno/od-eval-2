{
 "cells": [
  {
   "cell_type": "code",
   "execution_count": 1,
   "id": "c451905f7e71bccb",
   "metadata": {
    "ExecuteTime": {
     "end_time": "2025-08-20T10:17:52.292908Z",
     "start_time": "2025-08-20T10:17:49.063053Z"
    }
   },
   "outputs": [],
   "source": [
    "import albumentations.pytorch\n",
    "import datasets as ds\n",
    "import utils\n",
    "import torch as t\n",
    "import torchvision as tv\n",
    "import albumentations as A\n",
    "from tqdm.auto import tqdm\n",
    "import torchmetrics as tm\n",
    "import optuna\n",
    "from codecarbon import EmissionsTracker\n",
    "import random\n",
    "import json\n",
    "\n",
    "\n",
    "def sample_trial_config():\n",
    "    config = {\n",
    "        \"enable_horizontal_flip\": random.choice([True, False]),\n",
    "        \"enable_color_jitter\": random.choice([True, False]),\n",
    "        \"enable_affine\": random.choice([True, False])\n",
    "    }\n",
    "\n",
    "    # Only sample color_jitter params if enabled\n",
    "    if config[\"enable_color_jitter\"]:\n",
    "        config.update({\n",
    "            \"color_jitter_brightness\": random.choice([0.1, 0.2, 0.3, 0.4, 0.5]),\n",
    "            \"color_jitter_contrast\": random.choice([0.1, 0.2, 0.3, 0.4, 0.5]),\n",
    "            \"color_jitter_saturation\": random.choice([0.1, 0.2, 0.3, 0.4, 0.5]),\n",
    "            \"color_jitter_hue\": random.choice([0.1, 0.15, 0.2])\n",
    "        })\n",
    "\n",
    "    # Only sample affine params if enabled\n",
    "    if config[\"enable_affine\"]:\n",
    "        config[\"enable_affine_scale\"] = random.choice([True, False])\n",
    "        config[\"enable_affine_rotate\"] = random.choice([True, False])\n",
    "        config[\"enable_affine_shear\"] = random.choice([True, False])\n",
    "\n",
    "        if config.get(\"enable_affine_scale\", False):\n",
    "            scale_min = random.choice([0.05, 0.1, 0.15, 0.2])\n",
    "            scale_max = random.choice([0.2, 0.3, 0.4, 0.5])\n",
    "            config[\"affine_scale_min\"], config[\"affine_scale_max\"] = min(scale_min, scale_max), max(scale_min,\n",
    "                                                                                                    scale_max)\n",
    "\n",
    "        if config.get(\"enable_affine_rotate\", False):\n",
    "            rotate_min = random.choice([-20, -18, -15])\n",
    "            rotate_max = random.choice([15, 18, 20])\n",
    "            config[\"affine_rotate_min\"], config[\"affine_rotate_max\"] = min(rotate_min, rotate_max), max(rotate_min,\n",
    "                                                                                                        rotate_max)\n",
    "\n",
    "        if config.get(\"enable_affine_shear\", False):\n",
    "            shear_min = random.choice([-20, -18, -15])\n",
    "            shear_max = random.choice([15, 18, 20])\n",
    "            config[\"affine_shear_min\"], config[\"affine_shear_max\"] = min(shear_min, shear_max), max(shear_min,\n",
    "                                                                                                    shear_max)\n",
    "\n",
    "    return config\n",
    "\n",
    "\n",
    "def train_model(config: dict, num_epochs=3):\n",
    "    # for train\n",
    "    x2, y2 = ds.extract_all('./datasets/30/annotations.xml')\n",
    "    x3, y3 = ds.extract_all('./datasets/60/annotations.xml')\n",
    "    x4, y4 = ds.extract_all('./datasets/90/annotations.xml')\n",
    "    x6, y6 = ds.extract_all('./datasets/clear2/annotations.xml')\n",
    "    x7, y7 = ds.extract_all('./datasets/clear3/annotations.xml')\n",
    "    # for val\n",
    "    x0, y0 = ds.extract_all('./datasets/090/annotations.xml')\n",
    "    x1, y1 = ds.extract_all('./datasets/190/annotations.xml')\n",
    "    x5, y5 = ds.extract_all('./datasets/clear1/annotations.xml')\n",
    "\n",
    "    augmentations = []\n",
    "\n",
    "    if config.get(\"enable_horizontal_flip\", False):\n",
    "        augmentations.append(A.HorizontalFlip(p=0.5))\n",
    "    if config.get(\"enable_color_jitter\", False):\n",
    "        augmentations.append(A.ColorJitter(\n",
    "            brightness=config[\"color_jitter_brightness\"],\n",
    "            contrast=config[\"color_jitter_contrast\"],\n",
    "            saturation=config[\"color_jitter_saturation\"],\n",
    "            hue=config[\"color_jitter_hue\"]\n",
    "        ))\n",
    "    if config.get(\"enable_affine\", False):\n",
    "        kwords = {}\n",
    "        if config.get(\"enable_affine_scale\", False):\n",
    "            kwords[\"scale\"] = (config[\"affine_scale_min\"], config[\"affine_scale_max\"])\n",
    "        if config.get(\"enable_affine_rotate\", False):\n",
    "            kwords[\"rotate\"] = (config[\"affine_rotate_min\"], config[\"affine_rotate_max\"])\n",
    "        if config.get(\"enable_affine_shear\", False):\n",
    "            kwords[\"shear\"] = (config[\"affine_shear_min\"], config[\"affine_shear_max\"])\n",
    "        augmentations.append(A.Affine(**kwords, p=0.5))\n",
    "\n",
    "    train_ds = ds.CustomImageDataset([*x2, *x3, *x4, *x6, *x7], [*y2, *y3, *y4, *y6, *y7],\n",
    "                                     transform=A.Compose([*augmentations, albumentations.pytorch.ToTensorV2()],\n",
    "                                                         bbox_params=ds.albumentations_params))\n",
    "    val_ds = ds.CustomImageDataset([*x0, *x1, *x5], [*y0, *y1, *y5])\n",
    "\n",
    "    dl_train = t.utils.data.DataLoader(train_ds, batch_size=4, shuffle=True, collate_fn=utils.unroller)\n",
    "    dl_val = t.utils.data.DataLoader(val_ds, batch_size=4, shuffle=True, collate_fn=utils.unroller)\n",
    "\n",
    "    device = t.device('cuda') if t.cuda.is_available() else t.device('cpu')\n",
    "\n",
    "    model = tv.models.detection.fasterrcnn_resnet50_fpn(weights='COCO_V1', backbone_weights='IMAGENET1K_V2').to(device)\n",
    "    model.roi_heads.box_predictor = tv.models.detection.faster_rcnn.FastRCNNPredictor(\n",
    "        in_channels=model.roi_heads.box_predictor.cls_score.in_features,\n",
    "        num_classes=2\n",
    "    ).to(device)\n",
    "\n",
    "    optimizer = t.optim.SGD([p for p in model.parameters() if p.requires_grad],\n",
    "                            lr=0.005, momentum=0.9, weight_decay=0.0005)\n",
    "    metric = tm.detection.mean_ap.MeanAveragePrecision(box_format=\"xyxy\", iou_thresholds=[0.5])\n",
    "    val_map = 0.0\n",
    "\n",
    "    for epoch in range(num_epochs):\n",
    "        # ---- TRAIN ----\n",
    "        model.train()\n",
    "        train_loss = 0\n",
    "        for images, targets in tqdm(dl_train, desc=f\"Train Epoch {epoch + 1}\", leave=True):\n",
    "            images = [img.to(device) for img in images]\n",
    "            targets = [{k: v.to(device) for k, v in t.items()} for t in targets]\n",
    "            loss_dict = model(images, targets)\n",
    "            total_loss = sum(loss for loss in loss_dict.values())\n",
    "            optimizer.zero_grad()\n",
    "            total_loss.backward()\n",
    "            optimizer.step()\n",
    "            train_loss += total_loss.item()\n",
    "        train_loss /= len(dl_train)\n",
    "\n",
    "        # ---- VALIDATION ----\n",
    "        val_loss = 0\n",
    "        metric.reset()\n",
    "        with t.no_grad():\n",
    "            for images, targets in dl_val:\n",
    "                images = [img.to(device) for img in images]\n",
    "                targets = [{k: v.to(device) for k, v in t.items()} for t in targets]\n",
    "                # loss\n",
    "                model.train()\n",
    "                loss_dict = model(images, targets)\n",
    "                val_loss += sum(loss for loss in loss_dict.values())\n",
    "                # predictions\n",
    "                model.eval()\n",
    "                pred = model(images)\n",
    "                metric.update(pred, targets)\n",
    "        val_loss /= len(dl_val)\n",
    "        val_metrics = metric.compute()\n",
    "        val_map = val_metrics[\"map\"].item()\n",
    "        print(f\"epoch={epoch + 1}; train_loss={train_loss:.4f}; val_loss={val_loss:.4f}; val_map={val_map:.4f}\")\n",
    "\n",
    "    return val_map\n",
    "\n",
    "\n",
    "# optuna objective\n",
    "def objective(trial):\n",
    "    config = {}\n",
    "\n",
    "    config[\"enable_horizontal_flip\"] = trial.suggest_categorical(\"enable_horizontal_flip\", [True, False])\n",
    "\n",
    "    config[\"enable_color_jitter\"] = trial.suggest_categorical(\"enable_color_jitter\", [True, False])\n",
    "    if config[\"enable_color_jitter\"]:\n",
    "        config[\"color_jitter_brightness\"] = trial.suggest_float(\"color_jitter_brightness\", 0.1, 0.5)\n",
    "        config[\"color_jitter_contrast\"] = trial.suggest_float(\"color_jitter_contrast\", 0.1, 0.5)\n",
    "        config[\"color_jitter_saturation\"] = trial.suggest_float(\"color_jitter_saturation\", 0.1, 0.5)\n",
    "        config[\"color_jitter_hue\"] = trial.suggest_float(\"color_jitter_hue\", 0.1, 0.2)\n",
    "\n",
    "    config[\"enable_affine\"] = trial.suggest_categorical(\"enable_affine\", [True, False])\n",
    "    if config[\"enable_affine\"]:\n",
    "        config[\"enable_affine_scale\"] = trial.suggest_categorical(\"enable_affine_scale\", [True, False])\n",
    "        if config[\"enable_affine_scale\"]:\n",
    "            config[\"affine_scale_min\"] = trial.suggest_float(\"affine_scale_min\", 0.05, 0.2)\n",
    "            config[\"affine_scale_max\"] = trial.suggest_float(\"affine_scale_max\", config[\"affine_scale_min\"], 0.5)\n",
    "\n",
    "        config[\"enable_affine_rotate\"] = trial.suggest_categorical(\"enable_affine_rotate\", [True, False])\n",
    "        if config[\"enable_affine_rotate\"]:\n",
    "            config[\"affine_rotate_min\"] = trial.suggest_float(\"affine_rotate_min\", -20, -15)\n",
    "            config[\"affine_rotate_max\"] = trial.suggest_float(\"affine_rotate_max\", 15, 20)\n",
    "\n",
    "        config[\"enable_affine_shear\"] = trial.suggest_categorical(\"enable_affine_shear\", [True, False])\n",
    "        if config[\"enable_affine_shear\"]:\n",
    "            config[\"affine_shear_min\"] = trial.suggest_float(\"affine_shear_min\", -20, -15)\n",
    "            config[\"affine_shear_max\"] = trial.suggest_float(\"affine_shear_max\", 15, 20)\n",
    "\n",
    "    return train_model(config)\n"
   ]
  },
  {
   "cell_type": "code",
   "execution_count": 2,
   "id": "5e9a791e82917db3",
   "metadata": {},
   "outputs": [
    {
     "name": "stderr",
     "output_type": "stream",
     "text": [
      "[codecarbon WARNING @ 10:30:46] Multiple instances of codecarbon are allowed to run at the same time.\n",
      "[codecarbon INFO @ 10:30:46] [setup] RAM Tracking...\n",
      "[codecarbon INFO @ 10:30:46] [setup] CPU Tracking...\n",
      "[codecarbon WARNING @ 10:30:47] No CPU tracking mode found. Falling back on estimation based on TDP for CPU. \n",
      " Linux OS detected: Please ensure RAPL files exist at /sys/class/powercap/intel-rapl/subsystem to measure CPU\n",
      "\n",
      "[codecarbon INFO @ 10:30:47] CPU Model on constant consumption mode: AMD EPYC 9534 64-Core Processor\n",
      "[codecarbon WARNING @ 10:30:47] No CPU tracking mode found. Falling back on CPU load mode.\n",
      "[codecarbon INFO @ 10:30:47] [setup] GPU Tracking...\n",
      "[codecarbon INFO @ 10:30:47] Tracking Nvidia GPU via pynvml\n",
      "[codecarbon INFO @ 10:30:47] The below tracking methods have been set up:\n",
      "                RAM Tracking Method: RAM power estimation model\n",
      "                CPU Tracking Method: cpu_load\n",
      "                GPU Tracking Method: pynvml\n",
      "            \n",
      "[codecarbon INFO @ 10:30:47] >>> Tracker's metadata:\n",
      "[codecarbon INFO @ 10:30:47]   Platform system: Linux-5.15.0-139-generic-x86_64-with-glibc2.35\n",
      "[codecarbon INFO @ 10:30:47]   Python version: 3.10.12\n",
      "[codecarbon INFO @ 10:30:47]   CodeCarbon version: 3.0.4\n",
      "[codecarbon INFO @ 10:30:47]   Available RAM : 1511.534 GB\n",
      "[codecarbon INFO @ 10:30:47]   CPU count: 224 thread(s) in 2 physical CPU(s)\n",
      "[codecarbon INFO @ 10:30:47]   CPU model: AMD EPYC 9534 64-Core Processor\n",
      "[codecarbon INFO @ 10:30:47]   GPU count: 1\n",
      "[codecarbon INFO @ 10:30:47]   GPU model: 1 x NVIDIA H100 NVL\n",
      "[codecarbon INFO @ 10:30:49] Emissions data (if any) will be saved to file /workspace/od-eval-2/emissions.csv\n"
     ]
    },
    {
     "data": {
      "application/vnd.jupyter.widget-view+json": {
       "model_id": "0d3f4e05f9b04425a56f917a62a84732",
       "version_major": 2,
       "version_minor": 0
      },
      "text/plain": [
       "Train Epoch 1:   0%|          | 0/84 [00:00<?, ?it/s]"
      ]
     },
     "metadata": {},
     "output_type": "display_data"
    },
    {
     "name": "stderr",
     "output_type": "stream",
     "text": [
      "[codecarbon INFO @ 10:31:05] Energy consumed for RAM : 0.000233 kWh. RAM Power : 54.0 W\n",
      "[codecarbon INFO @ 10:31:05] Delta energy consumed for CPU with cpu_load : 0.000250 kWh, power : 58.04904563360002 W\n",
      "[codecarbon INFO @ 10:31:05] Energy consumed for All CPU : 0.000250 kWh\n",
      "[codecarbon INFO @ 10:31:05] Energy consumed for all GPUs : 0.000671 kWh. Total GPU Power : 150.7528310673641 W\n",
      "[codecarbon INFO @ 10:31:05] 0.001153 kWh of electricity used since the beginning.\n",
      "[codecarbon INFO @ 10:31:20] Energy consumed for RAM : 0.000450 kWh. RAM Power : 54.0 W\n",
      "[codecarbon INFO @ 10:31:20] Delta energy consumed for CPU with cpu_load : 0.000233 kWh, power : 57.814627367000014 W\n",
      "[codecarbon INFO @ 10:31:20] Energy consumed for All CPU : 0.000483 kWh\n",
      "[codecarbon INFO @ 10:31:20] Energy consumed for all GPUs : 0.001362 kWh. Total GPU Power : 165.99796754817018 W\n",
      "[codecarbon INFO @ 10:31:20] 0.002295 kWh of electricity used since the beginning.\n"
     ]
    },
    {
     "name": "stdout",
     "output_type": "stream",
     "text": [
      "epoch=1; train_loss=0.4586; val_loss=1.1619; val_map=0.0047\n"
     ]
    },
    {
     "data": {
      "application/vnd.jupyter.widget-view+json": {
       "model_id": "e835e0e4f176451090a3eb8367758fdc",
       "version_major": 2,
       "version_minor": 0
      },
      "text/plain": [
       "Train Epoch 2:   0%|          | 0/84 [00:00<?, ?it/s]"
      ]
     },
     "metadata": {},
     "output_type": "display_data"
    },
    {
     "name": "stderr",
     "output_type": "stream",
     "text": [
      "[codecarbon INFO @ 10:31:35] Energy consumed for RAM : 0.000667 kWh. RAM Power : 54.0 W\n",
      "[codecarbon INFO @ 10:31:35] Delta energy consumed for CPU with cpu_load : 0.000234 kWh, power : 58.11053698100001 W\n",
      "[codecarbon INFO @ 10:31:35] Energy consumed for All CPU : 0.000717 kWh\n",
      "[codecarbon INFO @ 10:31:35] Energy consumed for all GPUs : 0.002049 kWh. Total GPU Power : 164.8493210058217 W\n",
      "[codecarbon INFO @ 10:31:35] 0.003433 kWh of electricity used since the beginning.\n",
      "[codecarbon INFO @ 10:31:50] Energy consumed for RAM : 0.000885 kWh. RAM Power : 54.0 W\n",
      "[codecarbon INFO @ 10:31:50] Delta energy consumed for CPU with cpu_load : 0.000236 kWh, power : 58.575377409500014 W\n",
      "[codecarbon INFO @ 10:31:50] Energy consumed for All CPU : 0.000953 kWh\n",
      "[codecarbon INFO @ 10:31:50] Energy consumed for all GPUs : 0.002752 kWh. Total GPU Power : 168.79290549915262 W\n",
      "[codecarbon INFO @ 10:31:50] 0.004589 kWh of electricity used since the beginning.\n"
     ]
    },
    {
     "name": "stdout",
     "output_type": "stream",
     "text": [
      "epoch=2; train_loss=0.2284; val_loss=1.0245; val_map=0.0192\n"
     ]
    },
    {
     "data": {
      "application/vnd.jupyter.widget-view+json": {
       "model_id": "4f71d2d45312479c9d561be2a14e46be",
       "version_major": 2,
       "version_minor": 0
      },
      "text/plain": [
       "Train Epoch 3:   0%|          | 0/84 [00:00<?, ?it/s]"
      ]
     },
     "metadata": {},
     "output_type": "display_data"
    },
    {
     "name": "stderr",
     "output_type": "stream",
     "text": [
      "[codecarbon INFO @ 10:32:05] Energy consumed for RAM : 0.001102 kWh. RAM Power : 54.0 W\n",
      "[codecarbon INFO @ 10:32:05] Delta energy consumed for CPU with cpu_load : 0.000232 kWh, power : 57.68983145450001 W\n",
      "[codecarbon INFO @ 10:32:05] Energy consumed for All CPU : 0.001185 kWh\n",
      "[codecarbon INFO @ 10:32:05] Energy consumed for all GPUs : 0.003450 kWh. Total GPU Power : 167.68281202677244 W\n",
      "[codecarbon INFO @ 10:32:05] 0.005737 kWh of electricity used since the beginning.\n",
      "[codecarbon INFO @ 10:32:20] Energy consumed for RAM : 0.001319 kWh. RAM Power : 54.0 W\n",
      "[codecarbon INFO @ 10:32:20] Delta energy consumed for CPU with cpu_load : 0.000231 kWh, power : 57.41703565850001 W\n",
      "[codecarbon INFO @ 10:32:20] Energy consumed for All CPU : 0.001416 kWh\n",
      "[codecarbon INFO @ 10:32:20] Energy consumed for all GPUs : 0.004163 kWh. Total GPU Power : 171.10643366213273 W\n",
      "[codecarbon INFO @ 10:32:20] 0.006899 kWh of electricity used since the beginning.\n"
     ]
    },
    {
     "name": "stdout",
     "output_type": "stream",
     "text": [
      "epoch=3; train_loss=0.1908; val_loss=1.2077; val_map=0.0325\n"
     ]
    },
    {
     "data": {
      "application/vnd.jupyter.widget-view+json": {
       "model_id": "c126e9e8ce074c89867d64ccedcfd609",
       "version_major": 2,
       "version_minor": 0
      },
      "text/plain": [
       "Train Epoch 1:   0%|          | 0/84 [00:00<?, ?it/s]"
      ]
     },
     "metadata": {},
     "output_type": "display_data"
    },
    {
     "name": "stderr",
     "output_type": "stream",
     "text": [
      "[codecarbon INFO @ 10:32:35] Energy consumed for RAM : 0.001537 kWh. RAM Power : 54.0 W\n",
      "[codecarbon INFO @ 10:32:35] Delta energy consumed for CPU with cpu_load : 0.000231 kWh, power : 57.537554375 W\n",
      "[codecarbon INFO @ 10:32:35] Energy consumed for All CPU : 0.001647 kWh\n",
      "[codecarbon INFO @ 10:32:35] Energy consumed for all GPUs : 0.004895 kWh. Total GPU Power : 175.62574412059527 W\n",
      "[codecarbon INFO @ 10:32:35] 0.008079 kWh of electricity used since the beginning.\n"
     ]
    },
    {
     "name": "stdout",
     "output_type": "stream",
     "text": [
      "epoch=1; train_loss=0.1628; val_loss=0.5071; val_map=0.0258\n"
     ]
    },
    {
     "data": {
      "application/vnd.jupyter.widget-view+json": {
       "model_id": "957ba62275e144939e3ceff420e31496",
       "version_major": 2,
       "version_minor": 0
      },
      "text/plain": [
       "Train Epoch 2:   0%|          | 0/84 [00:00<?, ?it/s]"
      ]
     },
     "metadata": {},
     "output_type": "display_data"
    },
    {
     "name": "stderr",
     "output_type": "stream",
     "text": [
      "[codecarbon INFO @ 10:32:50] Energy consumed for RAM : 0.001754 kWh. RAM Power : 54.0 W\n",
      "[codecarbon INFO @ 10:32:50] Delta energy consumed for CPU with cpu_load : 0.000243 kWh, power : 60.409991810000015 W\n",
      "[codecarbon INFO @ 10:32:50] Energy consumed for All CPU : 0.001891 kWh\n",
      "[codecarbon INFO @ 10:32:50] Energy consumed for all GPUs : 0.005629 kWh. Total GPU Power : 176.30353039991564 W\n",
      "[codecarbon INFO @ 10:32:50] 0.009273 kWh of electricity used since the beginning.\n",
      "[codecarbon INFO @ 10:32:50] 0.025696 g.CO2eq/s mean an estimation of 810.3579641607007 kg.CO2eq/year\n",
      "[codecarbon INFO @ 10:33:05] Energy consumed for RAM : 0.001971 kWh. RAM Power : 54.0 W\n",
      "[codecarbon INFO @ 10:33:05] Delta energy consumed for CPU with cpu_load : 0.000239 kWh, power : 59.29307961500002 W\n",
      "[codecarbon INFO @ 10:33:05] Energy consumed for All CPU : 0.002129 kWh\n",
      "[codecarbon INFO @ 10:33:05] Energy consumed for all GPUs : 0.006364 kWh. Total GPU Power : 176.57076238352818 W\n",
      "[codecarbon INFO @ 10:33:05] 0.010465 kWh of electricity used since the beginning.\n"
     ]
    },
    {
     "name": "stdout",
     "output_type": "stream",
     "text": [
      "epoch=2; train_loss=0.0572; val_loss=0.7727; val_map=0.0369\n"
     ]
    },
    {
     "data": {
      "application/vnd.jupyter.widget-view+json": {
       "model_id": "d72c36eed4b145289109d29e07ed0428",
       "version_major": 2,
       "version_minor": 0
      },
      "text/plain": [
       "Train Epoch 3:   0%|          | 0/84 [00:00<?, ?it/s]"
      ]
     },
     "metadata": {},
     "output_type": "display_data"
    },
    {
     "name": "stderr",
     "output_type": "stream",
     "text": [
      "[codecarbon INFO @ 10:33:20] Energy consumed for RAM : 0.002188 kWh. RAM Power : 54.0 W\n",
      "[codecarbon INFO @ 10:33:20] Delta energy consumed for CPU with cpu_load : 0.000235 kWh, power : 58.58202614600001 W\n",
      "[codecarbon INFO @ 10:33:20] Energy consumed for All CPU : 0.002365 kWh\n",
      "[codecarbon INFO @ 10:33:20] Energy consumed for all GPUs : 0.007117 kWh. Total GPU Power : 181.15236340820996 W\n",
      "[codecarbon INFO @ 10:33:20] 0.011670 kWh of electricity used since the beginning.\n",
      "[codecarbon INFO @ 10:33:35] Energy consumed for RAM : 0.002405 kWh. RAM Power : 54.0 W\n",
      "[codecarbon INFO @ 10:33:35] Delta energy consumed for CPU with cpu_load : 0.000234 kWh, power : 58.06743883850002 W\n",
      "[codecarbon INFO @ 10:33:35] Energy consumed for All CPU : 0.002598 kWh\n",
      "[codecarbon INFO @ 10:33:35] Energy consumed for all GPUs : 0.007853 kWh. Total GPU Power : 176.56118705682002 W\n",
      "[codecarbon INFO @ 10:33:35] 0.012856 kWh of electricity used since the beginning.\n"
     ]
    },
    {
     "name": "stdout",
     "output_type": "stream",
     "text": [
      "epoch=3; train_loss=0.0422; val_loss=0.8001; val_map=0.0443\n"
     ]
    },
    {
     "name": "stderr",
     "output_type": "stream",
     "text": [
      "/venv/main/lib/python3.10/site-packages/albumentations/core/composition.py:331: UserWarning: Got processor for bboxes, but no transform to process it.\n",
      "  self._set_keys()\n"
     ]
    },
    {
     "data": {
      "application/vnd.jupyter.widget-view+json": {
       "model_id": "c3d8424d6aeb4d2887cfd62db547df18",
       "version_major": 2,
       "version_minor": 0
      },
      "text/plain": [
       "Train Epoch 1:   0%|          | 0/84 [00:00<?, ?it/s]"
      ]
     },
     "metadata": {},
     "output_type": "display_data"
    },
    {
     "name": "stderr",
     "output_type": "stream",
     "text": [
      "[codecarbon INFO @ 10:33:50] Energy consumed for RAM : 0.002623 kWh. RAM Power : 54.0 W\n",
      "[codecarbon INFO @ 10:33:50] Delta energy consumed for CPU with cpu_load : 0.000235 kWh, power : 58.29760508600002 W\n",
      "[codecarbon INFO @ 10:33:50] Energy consumed for All CPU : 0.002833 kWh\n",
      "[codecarbon INFO @ 10:33:50] Energy consumed for all GPUs : 0.008611 kWh. Total GPU Power : 182.11440717184263 W\n",
      "[codecarbon INFO @ 10:33:50] 0.014067 kWh of electricity used since the beginning.\n",
      "[codecarbon INFO @ 10:34:05] Energy consumed for RAM : 0.002840 kWh. RAM Power : 54.0 W\n",
      "[codecarbon INFO @ 10:34:05] Delta energy consumed for CPU with cpu_load : 0.000232 kWh, power : 57.75537703250002 W\n",
      "[codecarbon INFO @ 10:34:05] Energy consumed for All CPU : 0.003065 kWh\n",
      "[codecarbon INFO @ 10:34:05] Energy consumed for all GPUs : 0.009369 kWh. Total GPU Power : 182.00954557072617 W\n",
      "[codecarbon INFO @ 10:34:05] 0.015275 kWh of electricity used since the beginning.\n"
     ]
    },
    {
     "name": "stdout",
     "output_type": "stream",
     "text": [
      "epoch=1; train_loss=0.1764; val_loss=1.3828; val_map=0.0180\n"
     ]
    },
    {
     "data": {
      "application/vnd.jupyter.widget-view+json": {
       "model_id": "25c5f13fe37d4427b172bdf3af2c793c",
       "version_major": 2,
       "version_minor": 0
      },
      "text/plain": [
       "Train Epoch 2:   0%|          | 0/84 [00:00<?, ?it/s]"
      ]
     },
     "metadata": {},
     "output_type": "display_data"
    },
    {
     "name": "stderr",
     "output_type": "stream",
     "text": [
      "[codecarbon INFO @ 10:34:20] Energy consumed for RAM : 0.003058 kWh. RAM Power : 54.0 W\n",
      "[codecarbon INFO @ 10:34:20] Delta energy consumed for CPU with cpu_load : 0.000233 kWh, power : 57.97338172850001 W\n",
      "[codecarbon INFO @ 10:34:20] Energy consumed for All CPU : 0.003299 kWh\n",
      "[codecarbon INFO @ 10:34:20] Energy consumed for all GPUs : 0.010122 kWh. Total GPU Power : 180.80235882867547 W\n",
      "[codecarbon INFO @ 10:34:20] 0.016479 kWh of electricity used since the beginning.\n"
     ]
    },
    {
     "name": "stdout",
     "output_type": "stream",
     "text": [
      "epoch=2; train_loss=0.0657; val_loss=0.4598; val_map=0.0157\n"
     ]
    },
    {
     "data": {
      "application/vnd.jupyter.widget-view+json": {
       "model_id": "bdc3ca0e685c49868d0c0c72eaf59cf0",
       "version_major": 2,
       "version_minor": 0
      },
      "text/plain": [
       "Train Epoch 3:   0%|          | 0/84 [00:00<?, ?it/s]"
      ]
     },
     "metadata": {},
     "output_type": "display_data"
    },
    {
     "name": "stderr",
     "output_type": "stream",
     "text": [
      "[codecarbon INFO @ 10:34:35] Energy consumed for RAM : 0.003275 kWh. RAM Power : 54.0 W\n",
      "[codecarbon INFO @ 10:34:35] Delta energy consumed for CPU with cpu_load : 0.000231 kWh, power : 57.4166175275 W\n",
      "[codecarbon INFO @ 10:34:35] Energy consumed for All CPU : 0.003530 kWh\n",
      "[codecarbon INFO @ 10:34:35] Energy consumed for all GPUs : 0.010881 kWh. Total GPU Power : 181.98597725814847 W\n",
      "[codecarbon INFO @ 10:34:35] 0.017686 kWh of electricity used since the beginning.\n",
      "[codecarbon INFO @ 10:34:50] Energy consumed for RAM : 0.003492 kWh. RAM Power : 54.0 W\n",
      "[codecarbon INFO @ 10:34:50] Delta energy consumed for CPU with cpu_load : 0.000236 kWh, power : 58.626274385000016 W\n",
      "[codecarbon INFO @ 10:34:50] Energy consumed for All CPU : 0.003766 kWh\n",
      "[codecarbon INFO @ 10:34:50] Energy consumed for all GPUs : 0.011642 kWh. Total GPU Power : 182.88229095547663 W\n",
      "[codecarbon INFO @ 10:34:50] 0.018901 kWh of electricity used since the beginning.\n",
      "[codecarbon INFO @ 10:34:50] 0.026902 g.CO2eq/s mean an estimation of 848.3758085474218 kg.CO2eq/year\n"
     ]
    },
    {
     "name": "stdout",
     "output_type": "stream",
     "text": [
      "epoch=3; train_loss=0.0765; val_loss=1.0282; val_map=0.0303\n"
     ]
    },
    {
     "data": {
      "application/vnd.jupyter.widget-view+json": {
       "model_id": "c4b4bad6fa184bffb5c9229d9a26d713",
       "version_major": 2,
       "version_minor": 0
      },
      "text/plain": [
       "Train Epoch 1:   0%|          | 0/84 [00:00<?, ?it/s]"
      ]
     },
     "metadata": {},
     "output_type": "display_data"
    },
    {
     "name": "stderr",
     "output_type": "stream",
     "text": [
      "[codecarbon INFO @ 10:35:05] Energy consumed for RAM : 0.003710 kWh. RAM Power : 54.0 W\n",
      "[codecarbon INFO @ 10:35:05] Delta energy consumed for CPU with cpu_load : 0.000239 kWh, power : 59.306283785000005 W\n",
      "[codecarbon INFO @ 10:35:05] Energy consumed for All CPU : 0.004005 kWh\n",
      "[codecarbon INFO @ 10:35:05] Energy consumed for all GPUs : 0.012374 kWh. Total GPU Power : 175.58652916612624 W\n",
      "[codecarbon INFO @ 10:35:05] 0.020088 kWh of electricity used since the beginning.\n",
      "[codecarbon INFO @ 10:35:20] Energy consumed for RAM : 0.003927 kWh. RAM Power : 54.0 W\n",
      "[codecarbon INFO @ 10:35:20] Delta energy consumed for CPU with cpu_load : 0.000239 kWh, power : 59.290349352500016 W\n",
      "[codecarbon INFO @ 10:35:20] Energy consumed for All CPU : 0.004243 kWh\n",
      "[codecarbon INFO @ 10:35:20] Energy consumed for all GPUs : 0.013107 kWh. Total GPU Power : 176.11978948495772 W\n",
      "[codecarbon INFO @ 10:35:20] 0.021278 kWh of electricity used since the beginning.\n"
     ]
    },
    {
     "name": "stdout",
     "output_type": "stream",
     "text": [
      "epoch=1; train_loss=0.1464; val_loss=1.1306; val_map=0.0247\n"
     ]
    },
    {
     "data": {
      "application/vnd.jupyter.widget-view+json": {
       "model_id": "812c6aebadc44c1599a084c9f14fc3cb",
       "version_major": 2,
       "version_minor": 0
      },
      "text/plain": [
       "Train Epoch 2:   0%|          | 0/84 [00:00<?, ?it/s]"
      ]
     },
     "metadata": {},
     "output_type": "display_data"
    },
    {
     "name": "stderr",
     "output_type": "stream",
     "text": [
      "[codecarbon INFO @ 10:35:35] Energy consumed for RAM : 0.004144 kWh. RAM Power : 54.0 W\n",
      "[codecarbon INFO @ 10:35:35] Delta energy consumed for CPU with cpu_load : 0.000238 kWh, power : 59.00509833050001 W\n",
      "[codecarbon INFO @ 10:35:35] Energy consumed for All CPU : 0.004481 kWh\n",
      "[codecarbon INFO @ 10:35:35] Energy consumed for all GPUs : 0.013856 kWh. Total GPU Power : 179.7252968816145 W\n",
      "[codecarbon INFO @ 10:35:35] 0.022481 kWh of electricity used since the beginning.\n",
      "[codecarbon INFO @ 10:35:50] Energy consumed for RAM : 0.004362 kWh. RAM Power : 54.0 W\n",
      "[codecarbon INFO @ 10:35:50] Delta energy consumed for CPU with cpu_load : 0.000235 kWh, power : 58.4263597925 W\n",
      "[codecarbon INFO @ 10:35:50] Energy consumed for All CPU : 0.004716 kWh\n",
      "[codecarbon INFO @ 10:35:50] Energy consumed for all GPUs : 0.014563 kWh. Total GPU Power : 169.68002805796445 W\n",
      "[codecarbon INFO @ 10:35:50] 0.023641 kWh of electricity used since the beginning.\n"
     ]
    },
    {
     "name": "stdout",
     "output_type": "stream",
     "text": [
      "epoch=2; train_loss=0.0616; val_loss=0.9839; val_map=0.0309\n"
     ]
    },
    {
     "data": {
      "application/vnd.jupyter.widget-view+json": {
       "model_id": "b28e8eac632c4b1f99459022996aa5be",
       "version_major": 2,
       "version_minor": 0
      },
      "text/plain": [
       "Train Epoch 3:   0%|          | 0/84 [00:00<?, ?it/s]"
      ]
     },
     "metadata": {},
     "output_type": "display_data"
    },
    {
     "name": "stderr",
     "output_type": "stream",
     "text": [
      "[codecarbon INFO @ 10:36:05] Energy consumed for RAM : 0.004579 kWh. RAM Power : 54.0 W\n",
      "[codecarbon INFO @ 10:36:05] Delta energy consumed for CPU with cpu_load : 0.000233 kWh, power : 57.9308709665 W\n",
      "[codecarbon INFO @ 10:36:05] Energy consumed for All CPU : 0.004949 kWh\n",
      "[codecarbon INFO @ 10:36:05] Energy consumed for all GPUs : 0.015301 kWh. Total GPU Power : 177.1457388736775 W\n",
      "[codecarbon INFO @ 10:36:05] 0.024829 kWh of electricity used since the beginning.\n",
      "[codecarbon INFO @ 10:36:20] Energy consumed for RAM : 0.004797 kWh. RAM Power : 54.0 W\n",
      "[codecarbon INFO @ 10:36:20] Delta energy consumed for CPU with cpu_load : 0.000233 kWh, power : 57.74657334950002 W\n",
      "[codecarbon INFO @ 10:36:20] Energy consumed for All CPU : 0.005182 kWh\n",
      "[codecarbon INFO @ 10:36:20] Energy consumed for all GPUs : 0.016012 kWh. Total GPU Power : 170.70686416178305 W\n",
      "[codecarbon INFO @ 10:36:20] 0.025991 kWh of electricity used since the beginning.\n"
     ]
    },
    {
     "name": "stdout",
     "output_type": "stream",
     "text": [
      "epoch=3; train_loss=0.0453; val_loss=1.2146; val_map=0.0282\n"
     ]
    },
    {
     "data": {
      "application/vnd.jupyter.widget-view+json": {
       "model_id": "90c3f3d785544d22815439865695bd22",
       "version_major": 2,
       "version_minor": 0
      },
      "text/plain": [
       "Train Epoch 1:   0%|          | 0/84 [00:00<?, ?it/s]"
      ]
     },
     "metadata": {},
     "output_type": "display_data"
    },
    {
     "name": "stderr",
     "output_type": "stream",
     "text": [
      "[codecarbon INFO @ 10:36:35] Energy consumed for RAM : 0.005014 kWh. RAM Power : 54.0 W\n",
      "[codecarbon INFO @ 10:36:35] Delta energy consumed for CPU with cpu_load : 0.000232 kWh, power : 57.64693217150001 W\n",
      "[codecarbon INFO @ 10:36:35] Energy consumed for All CPU : 0.005414 kWh\n",
      "[codecarbon INFO @ 10:36:35] Energy consumed for all GPUs : 0.016729 kWh. Total GPU Power : 172.12243895214763 W\n",
      "[codecarbon INFO @ 10:36:35] 0.027157 kWh of electricity used since the beginning.\n",
      "[codecarbon INFO @ 10:36:50] Energy consumed for RAM : 0.005231 kWh. RAM Power : 54.0 W\n",
      "[codecarbon INFO @ 10:36:50] Delta energy consumed for CPU with cpu_load : 0.000232 kWh, power : 57.59266998800001 W\n",
      "[codecarbon INFO @ 10:36:50] Energy consumed for All CPU : 0.005646 kWh\n",
      "[codecarbon INFO @ 10:36:50] Energy consumed for all GPUs : 0.017441 kWh. Total GPU Power : 170.9421974552515 W\n",
      "[codecarbon INFO @ 10:36:50] 0.028318 kWh of electricity used since the beginning.\n",
      "[codecarbon INFO @ 10:36:50] 0.026317 g.CO2eq/s mean an estimation of 829.9182999435332 kg.CO2eq/year\n"
     ]
    },
    {
     "name": "stdout",
     "output_type": "stream",
     "text": [
      "epoch=1; train_loss=0.5250; val_loss=0.3587; val_map=0.0114\n"
     ]
    },
    {
     "data": {
      "application/vnd.jupyter.widget-view+json": {
       "model_id": "5647631c14a84b57a8974fef5e68df47",
       "version_major": 2,
       "version_minor": 0
      },
      "text/plain": [
       "Train Epoch 2:   0%|          | 0/84 [00:00<?, ?it/s]"
      ]
     },
     "metadata": {},
     "output_type": "display_data"
    },
    {
     "name": "stderr",
     "output_type": "stream",
     "text": [
      "[codecarbon INFO @ 10:37:05] Energy consumed for RAM : 0.005449 kWh. RAM Power : 54.0 W\n",
      "[codecarbon INFO @ 10:37:05] Delta energy consumed for CPU with cpu_load : 0.000231 kWh, power : 57.449036981000006 W\n",
      "[codecarbon INFO @ 10:37:05] Energy consumed for All CPU : 0.005877 kWh\n",
      "[codecarbon INFO @ 10:37:05] Energy consumed for all GPUs : 0.018161 kWh. Total GPU Power : 172.71161378664956 W\n",
      "[codecarbon INFO @ 10:37:05] 0.029487 kWh of electricity used since the beginning.\n",
      "[codecarbon INFO @ 10:37:20] Energy consumed for RAM : 0.005666 kWh. RAM Power : 54.0 W\n",
      "[codecarbon INFO @ 10:37:20] Delta energy consumed for CPU with cpu_load : 0.000232 kWh, power : 57.59569288550001 W\n",
      "[codecarbon INFO @ 10:37:20] Energy consumed for All CPU : 0.006109 kWh\n",
      "[codecarbon INFO @ 10:37:20] Energy consumed for all GPUs : 0.018866 kWh. Total GPU Power : 169.4384257431129 W\n",
      "[codecarbon INFO @ 10:37:20] 0.030641 kWh of electricity used since the beginning.\n"
     ]
    },
    {
     "name": "stdout",
     "output_type": "stream",
     "text": [
      "epoch=2; train_loss=0.3045; val_loss=0.4007; val_map=0.0376\n"
     ]
    },
    {
     "data": {
      "application/vnd.jupyter.widget-view+json": {
       "model_id": "c240bad619da4ef8be98175f6ee47b5d",
       "version_major": 2,
       "version_minor": 0
      },
      "text/plain": [
       "Train Epoch 3:   0%|          | 0/84 [00:00<?, ?it/s]"
      ]
     },
     "metadata": {},
     "output_type": "display_data"
    },
    {
     "name": "stderr",
     "output_type": "stream",
     "text": [
      "[codecarbon INFO @ 10:37:35] Energy consumed for RAM : 0.005883 kWh. RAM Power : 54.0 W\n",
      "[codecarbon INFO @ 10:37:35] Delta energy consumed for CPU with cpu_load : 0.000231 kWh, power : 57.474737295500006 W\n",
      "[codecarbon INFO @ 10:37:35] Energy consumed for All CPU : 0.006340 kWh\n",
      "[codecarbon INFO @ 10:37:35] Energy consumed for all GPUs : 0.019582 kWh. Total GPU Power : 171.7805008219185 W\n",
      "[codecarbon INFO @ 10:37:35] 0.031806 kWh of electricity used since the beginning.\n",
      "[codecarbon INFO @ 10:37:50] Energy consumed for RAM : 0.006101 kWh. RAM Power : 54.0 W\n",
      "[codecarbon INFO @ 10:37:50] Delta energy consumed for CPU with cpu_load : 0.000231 kWh, power : 57.42733174850001 W\n",
      "[codecarbon INFO @ 10:37:50] Energy consumed for All CPU : 0.006572 kWh\n",
      "[codecarbon INFO @ 10:37:50] Energy consumed for all GPUs : 0.020294 kWh. Total GPU Power : 170.961729214515 W\n",
      "[codecarbon INFO @ 10:37:50] 0.032967 kWh of electricity used since the beginning.\n"
     ]
    },
    {
     "name": "stdout",
     "output_type": "stream",
     "text": [
      "epoch=3; train_loss=0.2046; val_loss=0.3355; val_map=0.0181\n"
     ]
    },
    {
     "data": {
      "application/vnd.jupyter.widget-view+json": {
       "model_id": "8cd3ff86fa7b410fa05237efa147d14b",
       "version_major": 2,
       "version_minor": 0
      },
      "text/plain": [
       "Train Epoch 1:   0%|          | 0/84 [00:00<?, ?it/s]"
      ]
     },
     "metadata": {},
     "output_type": "display_data"
    },
    {
     "name": "stderr",
     "output_type": "stream",
     "text": [
      "[codecarbon INFO @ 10:38:05] Energy consumed for RAM : 0.006318 kWh. RAM Power : 54.0 W\n",
      "[codecarbon INFO @ 10:38:05] Delta energy consumed for CPU with cpu_load : 0.000231 kWh, power : 57.30190690700001 W\n",
      "[codecarbon INFO @ 10:38:05] Energy consumed for All CPU : 0.006802 kWh\n",
      "[codecarbon INFO @ 10:38:05] Energy consumed for all GPUs : 0.021001 kWh. Total GPU Power : 169.6262038502647 W\n",
      "[codecarbon INFO @ 10:38:05] 0.034121 kWh of electricity used since the beginning.\n",
      "[codecarbon INFO @ 10:38:20] Energy consumed for RAM : 0.006536 kWh. RAM Power : 54.0 W\n",
      "[codecarbon INFO @ 10:38:20] Delta energy consumed for CPU with cpu_load : 0.000231 kWh, power : 57.43017056 W\n",
      "[codecarbon INFO @ 10:38:20] Energy consumed for All CPU : 0.007034 kWh\n",
      "[codecarbon INFO @ 10:38:20] Energy consumed for all GPUs : 0.021720 kWh. Total GPU Power : 172.6044953004686 W\n",
      "[codecarbon INFO @ 10:38:20] 0.035289 kWh of electricity used since the beginning.\n"
     ]
    },
    {
     "name": "stdout",
     "output_type": "stream",
     "text": [
      "epoch=1; train_loss=0.4119; val_loss=0.4038; val_map=0.0241\n"
     ]
    },
    {
     "data": {
      "application/vnd.jupyter.widget-view+json": {
       "model_id": "e772f115032149a59648145a9653464f",
       "version_major": 2,
       "version_minor": 0
      },
      "text/plain": [
       "Train Epoch 2:   0%|          | 0/84 [00:00<?, ?it/s]"
      ]
     },
     "metadata": {},
     "output_type": "display_data"
    },
    {
     "name": "stderr",
     "output_type": "stream",
     "text": [
      "[codecarbon INFO @ 10:38:35] Energy consumed for RAM : 0.006753 kWh. RAM Power : 54.0 W\n",
      "[codecarbon INFO @ 10:38:35] Delta energy consumed for CPU with cpu_load : 0.000232 kWh, power : 57.61352648450001 W\n",
      "[codecarbon INFO @ 10:38:35] Energy consumed for All CPU : 0.007265 kWh\n",
      "[codecarbon INFO @ 10:38:35] Energy consumed for all GPUs : 0.022432 kWh. Total GPU Power : 171.0054860470288 W\n",
      "[codecarbon INFO @ 10:38:35] 0.036450 kWh of electricity used since the beginning.\n",
      "[codecarbon INFO @ 10:38:50] Energy consumed for RAM : 0.006970 kWh. RAM Power : 54.0 W\n",
      "[codecarbon INFO @ 10:38:50] Delta energy consumed for CPU with cpu_load : 0.000238 kWh, power : 59.12840388350002 W\n",
      "[codecarbon INFO @ 10:38:50] Energy consumed for All CPU : 0.007504 kWh\n",
      "[codecarbon INFO @ 10:38:50] Energy consumed for all GPUs : 0.023148 kWh. Total GPU Power : 171.94519441116222 W\n",
      "[codecarbon INFO @ 10:38:50] 0.037622 kWh of electricity used since the beginning.\n",
      "[codecarbon INFO @ 10:38:50] 0.025999 g.CO2eq/s mean an estimation of 819.9023028937951 kg.CO2eq/year\n"
     ]
    },
    {
     "name": "stdout",
     "output_type": "stream",
     "text": [
      "epoch=2; train_loss=0.2179; val_loss=0.8138; val_map=0.0193\n"
     ]
    },
    {
     "data": {
      "application/vnd.jupyter.widget-view+json": {
       "model_id": "777548f9c4d84594942c53dffd99c543",
       "version_major": 2,
       "version_minor": 0
      },
      "text/plain": [
       "Train Epoch 3:   0%|          | 0/84 [00:00<?, ?it/s]"
      ]
     },
     "metadata": {},
     "output_type": "display_data"
    },
    {
     "name": "stderr",
     "output_type": "stream",
     "text": [
      "[codecarbon INFO @ 10:39:05] Energy consumed for RAM : 0.007188 kWh. RAM Power : 54.0 W\n",
      "[codecarbon INFO @ 10:39:05] Delta energy consumed for CPU with cpu_load : 0.000236 kWh, power : 58.67048936000002 W\n",
      "[codecarbon INFO @ 10:39:05] Energy consumed for All CPU : 0.007740 kWh\n",
      "[codecarbon INFO @ 10:39:05] Energy consumed for all GPUs : 0.023861 kWh. Total GPU Power : 170.9799214727548 W\n",
      "[codecarbon INFO @ 10:39:05] 0.038788 kWh of electricity used since the beginning.\n",
      "[codecarbon INFO @ 10:39:20] Energy consumed for RAM : 0.007405 kWh. RAM Power : 54.0 W\n",
      "[codecarbon INFO @ 10:39:20] Delta energy consumed for CPU with cpu_load : 0.000236 kWh, power : 58.61135803250002 W\n",
      "[codecarbon INFO @ 10:39:20] Energy consumed for All CPU : 0.007976 kWh\n",
      "[codecarbon INFO @ 10:39:20] Energy consumed for all GPUs : 0.024579 kWh. Total GPU Power : 172.3767052622511 W\n",
      "[codecarbon INFO @ 10:39:20] 0.039960 kWh of electricity used since the beginning.\n"
     ]
    },
    {
     "name": "stdout",
     "output_type": "stream",
     "text": [
      "epoch=3; train_loss=0.2072; val_loss=0.6821; val_map=0.0296\n"
     ]
    },
    {
     "data": {
      "application/vnd.jupyter.widget-view+json": {
       "model_id": "ae1aa79383c24c7ba6552aba7bdc8667",
       "version_major": 2,
       "version_minor": 0
      },
      "text/plain": [
       "Train Epoch 1:   0%|          | 0/84 [00:00<?, ?it/s]"
      ]
     },
     "metadata": {},
     "output_type": "display_data"
    },
    {
     "name": "stderr",
     "output_type": "stream",
     "text": [
      "[codecarbon INFO @ 10:39:35] Energy consumed for RAM : 0.007623 kWh. RAM Power : 54.0 W\n",
      "[codecarbon INFO @ 10:39:35] Delta energy consumed for CPU with cpu_load : 0.000237 kWh, power : 58.929753512000005 W\n",
      "[codecarbon INFO @ 10:39:35] Energy consumed for All CPU : 0.008213 kWh\n",
      "[codecarbon INFO @ 10:39:35] Energy consumed for all GPUs : 0.025318 kWh. Total GPU Power : 177.57652065896986 W\n",
      "[codecarbon INFO @ 10:39:35] 0.041154 kWh of electricity used since the beginning.\n"
     ]
    },
    {
     "name": "stdout",
     "output_type": "stream",
     "text": [
      "epoch=1; train_loss=0.1447; val_loss=0.7920; val_map=0.0255\n"
     ]
    },
    {
     "data": {
      "application/vnd.jupyter.widget-view+json": {
       "model_id": "454686d6efe34733a56006f120bd182a",
       "version_major": 2,
       "version_minor": 0
      },
      "text/plain": [
       "Train Epoch 2:   0%|          | 0/84 [00:00<?, ?it/s]"
      ]
     },
     "metadata": {},
     "output_type": "display_data"
    },
    {
     "name": "stderr",
     "output_type": "stream",
     "text": [
      "[codecarbon INFO @ 10:39:50] Energy consumed for RAM : 0.007840 kWh. RAM Power : 54.0 W\n",
      "[codecarbon INFO @ 10:39:50] Delta energy consumed for CPU with cpu_load : 0.000240 kWh, power : 59.534164235000006 W\n",
      "[codecarbon INFO @ 10:39:50] Energy consumed for All CPU : 0.008453 kWh\n",
      "[codecarbon INFO @ 10:39:50] Energy consumed for all GPUs : 0.026072 kWh. Total GPU Power : 180.7992545861138 W\n",
      "[codecarbon INFO @ 10:39:50] 0.042364 kWh of electricity used since the beginning.\n",
      "[codecarbon INFO @ 10:40:05] Energy consumed for RAM : 0.008057 kWh. RAM Power : 54.0 W\n",
      "[codecarbon INFO @ 10:40:05] Delta energy consumed for CPU with cpu_load : 0.000232 kWh, power : 57.73692461600001 W\n",
      "[codecarbon INFO @ 10:40:05] Energy consumed for All CPU : 0.008685 kWh\n",
      "[codecarbon INFO @ 10:40:05] Energy consumed for all GPUs : 0.026820 kWh. Total GPU Power : 179.58255316525896 W\n",
      "[codecarbon INFO @ 10:40:05] 0.043562 kWh of electricity used since the beginning.\n"
     ]
    },
    {
     "name": "stdout",
     "output_type": "stream",
     "text": [
      "epoch=2; train_loss=0.0558; val_loss=1.0167; val_map=0.0433\n"
     ]
    },
    {
     "data": {
      "application/vnd.jupyter.widget-view+json": {
       "model_id": "951d78265dac477c932c100be1bc39be",
       "version_major": 2,
       "version_minor": 0
      },
      "text/plain": [
       "Train Epoch 3:   0%|          | 0/84 [00:00<?, ?it/s]"
      ]
     },
     "metadata": {},
     "output_type": "display_data"
    },
    {
     "name": "stderr",
     "output_type": "stream",
     "text": [
      "[codecarbon INFO @ 10:40:20] Energy consumed for RAM : 0.008275 kWh. RAM Power : 54.0 W\n",
      "[codecarbon INFO @ 10:40:20] Delta energy consumed for CPU with cpu_load : 0.000232 kWh, power : 57.576638378000006 W\n",
      "[codecarbon INFO @ 10:40:20] Energy consumed for All CPU : 0.008917 kWh\n",
      "[codecarbon INFO @ 10:40:20] Energy consumed for all GPUs : 0.027587 kWh. Total GPU Power : 184.23817220890984 W\n",
      "[codecarbon INFO @ 10:40:20] 0.044779 kWh of electricity used since the beginning.\n",
      "[codecarbon INFO @ 10:40:35] Energy consumed for RAM : 0.008492 kWh. RAM Power : 54.0 W\n",
      "[codecarbon INFO @ 10:40:35] Delta energy consumed for CPU with cpu_load : 0.000232 kWh, power : 57.63065672 W\n",
      "[codecarbon INFO @ 10:40:35] Energy consumed for All CPU : 0.009149 kWh\n",
      "[codecarbon INFO @ 10:40:35] Energy consumed for all GPUs : 0.028337 kWh. Total GPU Power : 180.11203037958452 W\n",
      "[codecarbon INFO @ 10:40:35] 0.045978 kWh of electricity used since the beginning.\n"
     ]
    },
    {
     "name": "stdout",
     "output_type": "stream",
     "text": [
      "epoch=3; train_loss=0.0448; val_loss=1.1981; val_map=0.0446\n"
     ]
    },
    {
     "data": {
      "application/vnd.jupyter.widget-view+json": {
       "model_id": "d649d8f7e26d4912befd2f2f9e161ee5",
       "version_major": 2,
       "version_minor": 0
      },
      "text/plain": [
       "Train Epoch 1:   0%|          | 0/84 [00:00<?, ?it/s]"
      ]
     },
     "metadata": {},
     "output_type": "display_data"
    },
    {
     "name": "stderr",
     "output_type": "stream",
     "text": [
      "[codecarbon INFO @ 10:40:50] Energy consumed for RAM : 0.008709 kWh. RAM Power : 54.0 W\n",
      "[codecarbon INFO @ 10:40:50] Delta energy consumed for CPU with cpu_load : 0.000248 kWh, power : 61.60985317550001 W\n",
      "[codecarbon INFO @ 10:40:50] Energy consumed for All CPU : 0.009397 kWh\n",
      "[codecarbon INFO @ 10:40:50] Energy consumed for all GPUs : 0.029076 kWh. Total GPU Power : 177.25261184065508 W\n",
      "[codecarbon INFO @ 10:40:50] 0.047182 kWh of electricity used since the beginning.\n",
      "[codecarbon INFO @ 10:40:50] 0.026714 g.CO2eq/s mean an estimation of 842.4421221370061 kg.CO2eq/year\n",
      "[codecarbon INFO @ 10:41:05] Energy consumed for RAM : 0.008927 kWh. RAM Power : 54.0 W\n",
      "[codecarbon INFO @ 10:41:05] Delta energy consumed for CPU with cpu_load : 0.000238 kWh, power : 59.174052833000005 W\n",
      "[codecarbon INFO @ 10:41:05] Energy consumed for All CPU : 0.009635 kWh\n",
      "[codecarbon INFO @ 10:41:05] Energy consumed for all GPUs : 0.029811 kWh. Total GPU Power : 176.4711719235639 W\n",
      "[codecarbon INFO @ 10:41:05] 0.048373 kWh of electricity used since the beginning.\n"
     ]
    },
    {
     "name": "stdout",
     "output_type": "stream",
     "text": [
      "epoch=1; train_loss=0.6390; val_loss=0.8014; val_map=0.0217\n"
     ]
    },
    {
     "data": {
      "application/vnd.jupyter.widget-view+json": {
       "model_id": "9226e6beb0fc4b5d978b5650f798f162",
       "version_major": 2,
       "version_minor": 0
      },
      "text/plain": [
       "Train Epoch 2:   0%|          | 0/84 [00:00<?, ?it/s]"
      ]
     },
     "metadata": {},
     "output_type": "display_data"
    },
    {
     "name": "stderr",
     "output_type": "stream",
     "text": [
      "[codecarbon INFO @ 10:41:20] Energy consumed for RAM : 0.009144 kWh. RAM Power : 54.0 W\n",
      "[codecarbon INFO @ 10:41:20] Delta energy consumed for CPU with cpu_load : 0.000237 kWh, power : 58.77710514200001 W\n",
      "[codecarbon INFO @ 10:41:20] Energy consumed for All CPU : 0.009872 kWh\n",
      "[codecarbon INFO @ 10:41:20] Energy consumed for all GPUs : 0.030541 kWh. Total GPU Power : 175.19858460984716 W\n",
      "[codecarbon INFO @ 10:41:20] 0.049557 kWh of electricity used since the beginning.\n"
     ]
    },
    {
     "name": "stdout",
     "output_type": "stream",
     "text": [
      "epoch=2; train_loss=0.2293; val_loss=0.6354; val_map=0.0276\n"
     ]
    },
    {
     "data": {
      "application/vnd.jupyter.widget-view+json": {
       "model_id": "4a5c5274c6e9464e836cfe67aa71e4c7",
       "version_major": 2,
       "version_minor": 0
      },
      "text/plain": [
       "Train Epoch 3:   0%|          | 0/84 [00:00<?, ?it/s]"
      ]
     },
     "metadata": {},
     "output_type": "display_data"
    },
    {
     "name": "stderr",
     "output_type": "stream",
     "text": [
      "[codecarbon INFO @ 10:41:35] Energy consumed for RAM : 0.009362 kWh. RAM Power : 54.0 W\n",
      "[codecarbon INFO @ 10:41:35] Delta energy consumed for CPU with cpu_load : 0.000236 kWh, power : 58.52818814150001 W\n",
      "[codecarbon INFO @ 10:41:35] Energy consumed for All CPU : 0.010107 kWh\n",
      "[codecarbon INFO @ 10:41:35] Energy consumed for all GPUs : 0.031279 kWh. Total GPU Power : 177.19381545641474 W\n",
      "[codecarbon INFO @ 10:41:35] 0.050748 kWh of electricity used since the beginning.\n",
      "[codecarbon INFO @ 10:41:50] Energy consumed for RAM : 0.009579 kWh. RAM Power : 54.0 W\n",
      "[codecarbon INFO @ 10:41:50] Delta energy consumed for CPU with cpu_load : 0.000235 kWh, power : 58.313073413000005 W\n",
      "[codecarbon INFO @ 10:41:50] Energy consumed for All CPU : 0.010342 kWh\n",
      "[codecarbon INFO @ 10:41:50] Energy consumed for all GPUs : 0.032018 kWh. Total GPU Power : 177.4958933840197 W\n",
      "[codecarbon INFO @ 10:41:50] 0.051939 kWh of electricity used since the beginning.\n"
     ]
    },
    {
     "name": "stdout",
     "output_type": "stream",
     "text": [
      "epoch=3; train_loss=0.1982; val_loss=1.2714; val_map=0.0260\n"
     ]
    },
    {
     "data": {
      "application/vnd.jupyter.widget-view+json": {
       "model_id": "e10ef63839d649a49ade2677e7c45cb0",
       "version_major": 2,
       "version_minor": 0
      },
      "text/plain": [
       "Train Epoch 1:   0%|          | 0/84 [00:00<?, ?it/s]"
      ]
     },
     "metadata": {},
     "output_type": "display_data"
    },
    {
     "name": "stderr",
     "output_type": "stream",
     "text": [
      "[codecarbon INFO @ 10:42:05] Energy consumed for RAM : 0.009796 kWh. RAM Power : 54.0 W\n",
      "[codecarbon INFO @ 10:42:05] Delta energy consumed for CPU with cpu_load : 0.000232 kWh, power : 57.56302685000002 W\n",
      "[codecarbon INFO @ 10:42:05] Energy consumed for All CPU : 0.010574 kWh\n",
      "[codecarbon INFO @ 10:42:05] Energy consumed for all GPUs : 0.032751 kWh. Total GPU Power : 175.95291954061676 W\n",
      "[codecarbon INFO @ 10:42:05] 0.053121 kWh of electricity used since the beginning.\n",
      "[codecarbon INFO @ 10:42:20] Energy consumed for RAM : 0.010014 kWh. RAM Power : 54.0 W\n",
      "[codecarbon INFO @ 10:42:20] Delta energy consumed for CPU with cpu_load : 0.000232 kWh, power : 57.59729541650002 W\n",
      "[codecarbon INFO @ 10:42:20] Energy consumed for All CPU : 0.010806 kWh\n",
      "[codecarbon INFO @ 10:42:20] Energy consumed for all GPUs : 0.033475 kWh. Total GPU Power : 173.79719538986026 W\n",
      "[codecarbon INFO @ 10:42:20] 0.054295 kWh of electricity used since the beginning.\n"
     ]
    },
    {
     "name": "stdout",
     "output_type": "stream",
     "text": [
      "epoch=1; train_loss=0.1794; val_loss=0.4404; val_map=0.0216\n"
     ]
    },
    {
     "data": {
      "application/vnd.jupyter.widget-view+json": {
       "model_id": "e51d0a518d0c41d4b6d7ea35c287081f",
       "version_major": 2,
       "version_minor": 0
      },
      "text/plain": [
       "Train Epoch 2:   0%|          | 0/84 [00:00<?, ?it/s]"
      ]
     },
     "metadata": {},
     "output_type": "display_data"
    },
    {
     "name": "stderr",
     "output_type": "stream",
     "text": [
      "[codecarbon INFO @ 10:42:35] Energy consumed for RAM : 0.010231 kWh. RAM Power : 54.0 W\n",
      "[codecarbon INFO @ 10:42:35] Delta energy consumed for CPU with cpu_load : 0.000231 kWh, power : 57.436200101 W\n",
      "[codecarbon INFO @ 10:42:35] Energy consumed for All CPU : 0.011037 kWh\n",
      "[codecarbon INFO @ 10:42:35] Energy consumed for all GPUs : 0.034200 kWh. Total GPU Power : 173.99794801298515 W\n",
      "[codecarbon INFO @ 10:42:35] 0.055468 kWh of electricity used since the beginning.\n",
      "[codecarbon INFO @ 10:42:50] Energy consumed for RAM : 0.010448 kWh. RAM Power : 54.0 W\n",
      "[codecarbon INFO @ 10:42:50] Delta energy consumed for CPU with cpu_load : 0.000235 kWh, power : 58.29109368950001 W\n",
      "[codecarbon INFO @ 10:42:50] Energy consumed for All CPU : 0.011272 kWh\n",
      "[codecarbon INFO @ 10:42:50] Energy consumed for all GPUs : 0.034925 kWh. Total GPU Power : 174.1289834862896 W\n",
      "[codecarbon INFO @ 10:42:50] 0.056645 kWh of electricity used since the beginning.\n",
      "[codecarbon INFO @ 10:42:50] 0.026444 g.CO2eq/s mean an estimation of 833.9406106265739 kg.CO2eq/year\n"
     ]
    },
    {
     "name": "stdout",
     "output_type": "stream",
     "text": [
      "epoch=2; train_loss=0.0785; val_loss=0.7848; val_map=0.0076\n"
     ]
    },
    {
     "data": {
      "application/vnd.jupyter.widget-view+json": {
       "model_id": "705077957cbc4a5ca23193d16aecca3f",
       "version_major": 2,
       "version_minor": 0
      },
      "text/plain": [
       "Train Epoch 3:   0%|          | 0/84 [00:00<?, ?it/s]"
      ]
     },
     "metadata": {},
     "output_type": "display_data"
    },
    {
     "name": "stderr",
     "output_type": "stream",
     "text": [
      "[codecarbon INFO @ 10:43:05] Energy consumed for RAM : 0.010666 kWh. RAM Power : 54.0 W\n",
      "[codecarbon INFO @ 10:43:05] Delta energy consumed for CPU with cpu_load : 0.000235 kWh, power : 58.33392975200001 W\n",
      "[codecarbon INFO @ 10:43:05] Energy consumed for All CPU : 0.011507 kWh\n",
      "[codecarbon INFO @ 10:43:05] Energy consumed for all GPUs : 0.035653 kWh. Total GPU Power : 174.66714446327805 W\n",
      "[codecarbon INFO @ 10:43:05] 0.057825 kWh of electricity used since the beginning.\n",
      "[codecarbon INFO @ 10:43:20] Energy consumed for RAM : 0.010883 kWh. RAM Power : 54.0 W\n",
      "[codecarbon INFO @ 10:43:20] Delta energy consumed for CPU with cpu_load : 0.000234 kWh, power : 58.17829313450001 W\n",
      "[codecarbon INFO @ 10:43:20] Energy consumed for All CPU : 0.011741 kWh\n",
      "[codecarbon INFO @ 10:43:20] Energy consumed for all GPUs : 0.036377 kWh. Total GPU Power : 173.84867990031296 W\n",
      "[codecarbon INFO @ 10:43:20] 0.059001 kWh of electricity used since the beginning.\n"
     ]
    },
    {
     "name": "stdout",
     "output_type": "stream",
     "text": [
      "epoch=3; train_loss=0.0616; val_loss=0.5614; val_map=0.0073\n"
     ]
    },
    {
     "data": {
      "application/vnd.jupyter.widget-view+json": {
       "model_id": "f45d2f7161524284a06dc74d19f4585e",
       "version_major": 2,
       "version_minor": 0
      },
      "text/plain": [
       "Train Epoch 1:   0%|          | 0/84 [00:00<?, ?it/s]"
      ]
     },
     "metadata": {},
     "output_type": "display_data"
    },
    {
     "name": "stderr",
     "output_type": "stream",
     "text": [
      "[codecarbon INFO @ 10:43:35] Energy consumed for RAM : 0.011101 kWh. RAM Power : 54.0 W\n",
      "[codecarbon INFO @ 10:43:35] Delta energy consumed for CPU with cpu_load : 0.000237 kWh, power : 58.89594868850001 W\n",
      "[codecarbon INFO @ 10:43:35] Energy consumed for All CPU : 0.011978 kWh\n",
      "[codecarbon INFO @ 10:43:35] Energy consumed for all GPUs : 0.037115 kWh. Total GPU Power : 177.15602817584423 W\n",
      "[codecarbon INFO @ 10:43:35] 0.060194 kWh of electricity used since the beginning.\n",
      "[codecarbon INFO @ 10:43:50] Energy consumed for RAM : 0.011318 kWh. RAM Power : 54.0 W\n",
      "[codecarbon INFO @ 10:43:50] Delta energy consumed for CPU with cpu_load : 0.000235 kWh, power : 58.397333802500015 W\n",
      "[codecarbon INFO @ 10:43:50] Energy consumed for All CPU : 0.012213 kWh\n",
      "[codecarbon INFO @ 10:43:50] Energy consumed for all GPUs : 0.037874 kWh. Total GPU Power : 182.0963488335892 W\n",
      "[codecarbon INFO @ 10:43:50] 0.061405 kWh of electricity used since the beginning.\n"
     ]
    },
    {
     "name": "stdout",
     "output_type": "stream",
     "text": [
      "epoch=1; train_loss=0.1449; val_loss=1.3111; val_map=0.0432\n"
     ]
    },
    {
     "data": {
      "application/vnd.jupyter.widget-view+json": {
       "model_id": "47fb60493358459c8fba695b218ae886",
       "version_major": 2,
       "version_minor": 0
      },
      "text/plain": [
       "Train Epoch 2:   0%|          | 0/84 [00:00<?, ?it/s]"
      ]
     },
     "metadata": {},
     "output_type": "display_data"
    },
    {
     "name": "stderr",
     "output_type": "stream",
     "text": [
      "[codecarbon INFO @ 10:44:05] Energy consumed for RAM : 0.011535 kWh. RAM Power : 54.0 W\n",
      "[codecarbon INFO @ 10:44:05] Delta energy consumed for CPU with cpu_load : 0.000237 kWh, power : 58.8304986815 W\n",
      "[codecarbon INFO @ 10:44:05] Energy consumed for All CPU : 0.012450 kWh\n",
      "[codecarbon INFO @ 10:44:05] Energy consumed for all GPUs : 0.038628 kWh. Total GPU Power : 181.1014093303667 W\n",
      "[codecarbon INFO @ 10:44:05] 0.062613 kWh of electricity used since the beginning.\n",
      "[codecarbon INFO @ 10:44:20] Energy consumed for RAM : 0.011753 kWh. RAM Power : 54.0 W\n",
      "[codecarbon INFO @ 10:44:20] Delta energy consumed for CPU with cpu_load : 0.000233 kWh, power : 57.879904848500004 W\n",
      "[codecarbon INFO @ 10:44:20] Energy consumed for All CPU : 0.012683 kWh\n",
      "[codecarbon INFO @ 10:44:20] Energy consumed for all GPUs : 0.039385 kWh. Total GPU Power : 181.698810093927 W\n",
      "[codecarbon INFO @ 10:44:20] 0.063820 kWh of electricity used since the beginning.\n"
     ]
    },
    {
     "name": "stdout",
     "output_type": "stream",
     "text": [
      "epoch=2; train_loss=0.0537; val_loss=1.1661; val_map=0.0436\n"
     ]
    },
    {
     "data": {
      "application/vnd.jupyter.widget-view+json": {
       "model_id": "8b3b77f034544ccbb1ee62fd1be70304",
       "version_major": 2,
       "version_minor": 0
      },
      "text/plain": [
       "Train Epoch 3:   0%|          | 0/84 [00:00<?, ?it/s]"
      ]
     },
     "metadata": {},
     "output_type": "display_data"
    },
    {
     "name": "stderr",
     "output_type": "stream",
     "text": [
      "[codecarbon INFO @ 10:44:35] Energy consumed for RAM : 0.011970 kWh. RAM Power : 54.0 W\n",
      "[codecarbon INFO @ 10:44:35] Delta energy consumed for CPU with cpu_load : 0.000232 kWh, power : 57.70489396700002 W\n",
      "[codecarbon INFO @ 10:44:35] Energy consumed for All CPU : 0.012915 kWh\n",
      "[codecarbon INFO @ 10:44:35] Energy consumed for all GPUs : 0.040139 kWh. Total GPU Power : 181.0499802417101 W\n",
      "[codecarbon INFO @ 10:44:35] 0.065024 kWh of electricity used since the beginning.\n"
     ]
    },
    {
     "name": "stdout",
     "output_type": "stream",
     "text": [
      "epoch=3; train_loss=0.0409; val_loss=1.5431; val_map=0.0429\n"
     ]
    },
    {
     "data": {
      "application/vnd.jupyter.widget-view+json": {
       "model_id": "53869f26a37d41349f363b7beb093153",
       "version_major": 2,
       "version_minor": 0
      },
      "text/plain": [
       "Train Epoch 1:   0%|          | 0/84 [00:00<?, ?it/s]"
      ]
     },
     "metadata": {},
     "output_type": "display_data"
    },
    {
     "name": "stderr",
     "output_type": "stream",
     "text": [
      "[codecarbon INFO @ 10:44:50] Energy consumed for RAM : 0.012187 kWh. RAM Power : 54.0 W\n",
      "[codecarbon INFO @ 10:44:50] Delta energy consumed for CPU with cpu_load : 0.000251 kWh, power : 62.250717683000005 W\n",
      "[codecarbon INFO @ 10:44:50] Energy consumed for All CPU : 0.013166 kWh\n",
      "[codecarbon INFO @ 10:44:50] Energy consumed for all GPUs : 0.040883 kWh. Total GPU Power : 178.4533388439012 W\n",
      "[codecarbon INFO @ 10:44:50] 0.066236 kWh of electricity used since the beginning.\n",
      "[codecarbon INFO @ 10:44:50] 0.026799 g.CO2eq/s mean an estimation of 845.1266280070092 kg.CO2eq/year\n",
      "[codecarbon INFO @ 10:45:05] Energy consumed for RAM : 0.012405 kWh. RAM Power : 54.0 W\n",
      "[codecarbon INFO @ 10:45:05] Delta energy consumed for CPU with cpu_load : 0.000237 kWh, power : 58.911808749500004 W\n",
      "[codecarbon INFO @ 10:45:05] Energy consumed for All CPU : 0.013403 kWh\n",
      "[codecarbon INFO @ 10:45:05] Energy consumed for all GPUs : 0.041636 kWh. Total GPU Power : 180.79144205695465 W\n",
      "[codecarbon INFO @ 10:45:05] 0.067443 kWh of electricity used since the beginning.\n"
     ]
    },
    {
     "name": "stdout",
     "output_type": "stream",
     "text": [
      "epoch=1; train_loss=0.1503; val_loss=1.3086; val_map=0.0206\n"
     ]
    },
    {
     "data": {
      "application/vnd.jupyter.widget-view+json": {
       "model_id": "a053aa9a9f974287aaaa32c8e1dba8b5",
       "version_major": 2,
       "version_minor": 0
      },
      "text/plain": [
       "Train Epoch 2:   0%|          | 0/84 [00:00<?, ?it/s]"
      ]
     },
     "metadata": {},
     "output_type": "display_data"
    },
    {
     "name": "stderr",
     "output_type": "stream",
     "text": [
      "[codecarbon INFO @ 10:45:20] Energy consumed for RAM : 0.012622 kWh. RAM Power : 54.0 W\n",
      "[codecarbon INFO @ 10:45:20] Delta energy consumed for CPU with cpu_load : 0.000238 kWh, power : 59.129835401 W\n",
      "[codecarbon INFO @ 10:45:20] Energy consumed for All CPU : 0.013641 kWh\n",
      "[codecarbon INFO @ 10:45:20] Energy consumed for all GPUs : 0.042381 kWh. Total GPU Power : 178.9436692411131 W\n",
      "[codecarbon INFO @ 10:45:20] 0.068644 kWh of electricity used since the beginning.\n",
      "[codecarbon INFO @ 10:45:35] Energy consumed for RAM : 0.012840 kWh. RAM Power : 54.0 W\n",
      "[codecarbon INFO @ 10:45:35] Delta energy consumed for CPU with cpu_load : 0.000239 kWh, power : 59.48161039100001 W\n",
      "[codecarbon INFO @ 10:45:35] Energy consumed for All CPU : 0.013880 kWh\n",
      "[codecarbon INFO @ 10:45:35] Energy consumed for all GPUs : 0.043145 kWh. Total GPU Power : 183.3639852950886 W\n",
      "[codecarbon INFO @ 10:45:35] 0.069865 kWh of electricity used since the beginning.\n"
     ]
    },
    {
     "name": "stdout",
     "output_type": "stream",
     "text": [
      "epoch=2; train_loss=0.0649; val_loss=1.1304; val_map=0.0277\n"
     ]
    },
    {
     "data": {
      "application/vnd.jupyter.widget-view+json": {
       "model_id": "5da3b36280c94da681bff3a866baa84f",
       "version_major": 2,
       "version_minor": 0
      },
      "text/plain": [
       "Train Epoch 3:   0%|          | 0/84 [00:00<?, ?it/s]"
      ]
     },
     "metadata": {},
     "output_type": "display_data"
    },
    {
     "name": "stderr",
     "output_type": "stream",
     "text": [
      "[codecarbon INFO @ 10:45:50] Energy consumed for RAM : 0.013057 kWh. RAM Power : 54.0 W\n",
      "[codecarbon INFO @ 10:45:50] Delta energy consumed for CPU with cpu_load : 0.000238 kWh, power : 59.042325566 W\n",
      "[codecarbon INFO @ 10:45:50] Energy consumed for All CPU : 0.014118 kWh\n",
      "[codecarbon INFO @ 10:45:50] Energy consumed for all GPUs : 0.043906 kWh. Total GPU Power : 182.6307015910082 W\n",
      "[codecarbon INFO @ 10:45:50] 0.071080 kWh of electricity used since the beginning.\n",
      "[codecarbon INFO @ 10:46:05] Energy consumed for RAM : 0.013274 kWh. RAM Power : 54.0 W\n",
      "[codecarbon INFO @ 10:46:05] Delta energy consumed for CPU with cpu_load : 0.000236 kWh, power : 58.514215655000015 W\n",
      "[codecarbon INFO @ 10:46:05] Energy consumed for All CPU : 0.014354 kWh\n",
      "[codecarbon INFO @ 10:46:05] Energy consumed for all GPUs : 0.044675 kWh. Total GPU Power : 184.81409431319486 W\n",
      "[codecarbon INFO @ 10:46:05] 0.072303 kWh of electricity used since the beginning.\n"
     ]
    },
    {
     "name": "stdout",
     "output_type": "stream",
     "text": [
      "epoch=3; train_loss=0.0586; val_loss=1.0924; val_map=0.0314\n"
     ]
    },
    {
     "data": {
      "application/vnd.jupyter.widget-view+json": {
       "model_id": "f45ec8ccd56247f8968e9c1d7e93b44a",
       "version_major": 2,
       "version_minor": 0
      },
      "text/plain": [
       "Train Epoch 1:   0%|          | 0/84 [00:00<?, ?it/s]"
      ]
     },
     "metadata": {},
     "output_type": "display_data"
    },
    {
     "name": "stderr",
     "output_type": "stream",
     "text": [
      "[codecarbon INFO @ 10:46:20] Energy consumed for RAM : 0.013492 kWh. RAM Power : 54.0 W\n",
      "[codecarbon INFO @ 10:46:20] Delta energy consumed for CPU with cpu_load : 0.000237 kWh, power : 58.80085333850001 W\n",
      "[codecarbon INFO @ 10:46:20] Energy consumed for All CPU : 0.014590 kWh\n",
      "[codecarbon INFO @ 10:46:20] Energy consumed for all GPUs : 0.045424 kWh. Total GPU Power : 179.692657566891 W\n",
      "[codecarbon INFO @ 10:46:20] 0.073506 kWh of electricity used since the beginning.\n"
     ]
    },
    {
     "name": "stdout",
     "output_type": "stream",
     "text": [
      "epoch=1; train_loss=0.5913; val_loss=1.6617; val_map=0.0260\n"
     ]
    },
    {
     "data": {
      "application/vnd.jupyter.widget-view+json": {
       "model_id": "d870f87f73d54027aa3942f344cba51a",
       "version_major": 2,
       "version_minor": 0
      },
      "text/plain": [
       "Train Epoch 2:   0%|          | 0/84 [00:00<?, ?it/s]"
      ]
     },
     "metadata": {},
     "output_type": "display_data"
    },
    {
     "name": "stderr",
     "output_type": "stream",
     "text": [
      "[codecarbon INFO @ 10:46:35] Energy consumed for RAM : 0.013709 kWh. RAM Power : 54.0 W\n",
      "[codecarbon INFO @ 10:46:35] Delta energy consumed for CPU with cpu_load : 0.000234 kWh, power : 58.1860559 W\n",
      "[codecarbon INFO @ 10:46:35] Energy consumed for All CPU : 0.014825 kWh\n",
      "[codecarbon INFO @ 10:46:35] Energy consumed for all GPUs : 0.046178 kWh. Total GPU Power : 180.97364735932527 W\n",
      "[codecarbon INFO @ 10:46:35] 0.074712 kWh of electricity used since the beginning.\n",
      "[codecarbon INFO @ 10:46:50] Energy consumed for RAM : 0.013926 kWh. RAM Power : 54.0 W\n",
      "[codecarbon INFO @ 10:46:50] Delta energy consumed for CPU with cpu_load : 0.000241 kWh, power : 59.8587352895 W\n",
      "[codecarbon INFO @ 10:46:50] Energy consumed for All CPU : 0.015066 kWh\n",
      "[codecarbon INFO @ 10:46:50] Energy consumed for all GPUs : 0.046935 kWh. Total GPU Power : 181.69290471692005 W\n",
      "[codecarbon INFO @ 10:46:50] 0.075927 kWh of electricity used since the beginning.\n",
      "[codecarbon INFO @ 10:46:50] 0.027080 g.CO2eq/s mean an estimation of 854.001456958955 kg.CO2eq/year\n"
     ]
    },
    {
     "name": "stdout",
     "output_type": "stream",
     "text": [
      "epoch=2; train_loss=0.2841; val_loss=0.8100; val_map=0.0225\n"
     ]
    },
    {
     "data": {
      "application/vnd.jupyter.widget-view+json": {
       "model_id": "6e11f809d3b940d6a99f81e9c98555fe",
       "version_major": 2,
       "version_minor": 0
      },
      "text/plain": [
       "Train Epoch 3:   0%|          | 0/84 [00:00<?, ?it/s]"
      ]
     },
     "metadata": {},
     "output_type": "display_data"
    },
    {
     "name": "stderr",
     "output_type": "stream",
     "text": [
      "[codecarbon INFO @ 10:47:05] Energy consumed for RAM : 0.014144 kWh. RAM Power : 54.0 W\n",
      "[codecarbon INFO @ 10:47:05] Delta energy consumed for CPU with cpu_load : 0.000240 kWh, power : 59.698661172500024 W\n",
      "[codecarbon INFO @ 10:47:05] Energy consumed for All CPU : 0.015306 kWh\n",
      "[codecarbon INFO @ 10:47:05] Energy consumed for all GPUs : 0.047684 kWh. Total GPU Power : 179.82666754164333 W\n",
      "[codecarbon INFO @ 10:47:05] 0.077134 kWh of electricity used since the beginning.\n",
      "[codecarbon INFO @ 10:47:20] Energy consumed for RAM : 0.014361 kWh. RAM Power : 54.0 W\n",
      "[codecarbon INFO @ 10:47:20] Delta energy consumed for CPU with cpu_load : 0.000240 kWh, power : 59.63469021650001 W\n",
      "[codecarbon INFO @ 10:47:20] Energy consumed for All CPU : 0.015546 kWh\n",
      "[codecarbon INFO @ 10:47:20] Energy consumed for all GPUs : 0.048445 kWh. Total GPU Power : 182.7967318562727 W\n",
      "[codecarbon INFO @ 10:47:20] 0.078352 kWh of electricity used since the beginning.\n"
     ]
    },
    {
     "name": "stdout",
     "output_type": "stream",
     "text": [
      "epoch=3; train_loss=0.1982; val_loss=1.5414; val_map=0.0297\n"
     ]
    },
    {
     "data": {
      "application/vnd.jupyter.widget-view+json": {
       "model_id": "a66c74d7a2e748009d0ed1cbf715d176",
       "version_major": 2,
       "version_minor": 0
      },
      "text/plain": [
       "Train Epoch 1:   0%|          | 0/84 [00:00<?, ?it/s]"
      ]
     },
     "metadata": {},
     "output_type": "display_data"
    },
    {
     "name": "stderr",
     "output_type": "stream",
     "text": [
      "[codecarbon INFO @ 10:47:35] Energy consumed for RAM : 0.014579 kWh. RAM Power : 54.0 W\n",
      "[codecarbon INFO @ 10:47:35] Delta energy consumed for CPU with cpu_load : 0.000236 kWh, power : 58.69531892000002 W\n",
      "[codecarbon INFO @ 10:47:35] Energy consumed for All CPU : 0.015782 kWh\n",
      "[codecarbon INFO @ 10:47:35] Energy consumed for all GPUs : 0.049192 kWh. Total GPU Power : 179.3157312048268 W\n",
      "[codecarbon INFO @ 10:47:35] 0.079553 kWh of electricity used since the beginning.\n",
      "[codecarbon INFO @ 10:47:50] Energy consumed for RAM : 0.014796 kWh. RAM Power : 54.0 W\n",
      "[codecarbon INFO @ 10:47:50] Delta energy consumed for CPU with cpu_load : 0.000238 kWh, power : 59.086971618499994 W\n",
      "[codecarbon INFO @ 10:47:50] Energy consumed for All CPU : 0.016020 kWh\n",
      "[codecarbon INFO @ 10:47:50] Energy consumed for all GPUs : 0.049936 kWh. Total GPU Power : 178.61898188239087 W\n",
      "[codecarbon INFO @ 10:47:50] 0.080752 kWh of electricity used since the beginning.\n"
     ]
    },
    {
     "name": "stdout",
     "output_type": "stream",
     "text": [
      "epoch=1; train_loss=0.1539; val_loss=0.3234; val_map=0.0222\n"
     ]
    },
    {
     "data": {
      "application/vnd.jupyter.widget-view+json": {
       "model_id": "b443ccbf1eeb4f508a4dc93d774d404a",
       "version_major": 2,
       "version_minor": 0
      },
      "text/plain": [
       "Train Epoch 2:   0%|          | 0/84 [00:00<?, ?it/s]"
      ]
     },
     "metadata": {},
     "output_type": "display_data"
    },
    {
     "name": "stderr",
     "output_type": "stream",
     "text": [
      "[codecarbon INFO @ 10:48:05] Energy consumed for RAM : 0.015013 kWh. RAM Power : 54.0 W\n",
      "[codecarbon INFO @ 10:48:05] Delta energy consumed for CPU with cpu_load : 0.000233 kWh, power : 57.88005289850002 W\n",
      "[codecarbon INFO @ 10:48:05] Energy consumed for All CPU : 0.016253 kWh\n",
      "[codecarbon INFO @ 10:48:05] Energy consumed for all GPUs : 0.050703 kWh. Total GPU Power : 183.98480941095568 W\n",
      "[codecarbon INFO @ 10:48:05] 0.081969 kWh of electricity used since the beginning.\n",
      "[codecarbon INFO @ 10:48:20] Energy consumed for RAM : 0.015231 kWh. RAM Power : 54.0 W\n",
      "[codecarbon INFO @ 10:48:20] Delta energy consumed for CPU with cpu_load : 0.000231 kWh, power : 57.277398111500005 W\n",
      "[codecarbon INFO @ 10:48:20] Energy consumed for All CPU : 0.016484 kWh\n",
      "[codecarbon INFO @ 10:48:20] Energy consumed for all GPUs : 0.051452 kWh. Total GPU Power : 179.8677652124834 W\n",
      "[codecarbon INFO @ 10:48:20] 0.083166 kWh of electricity used since the beginning.\n"
     ]
    },
    {
     "name": "stdout",
     "output_type": "stream",
     "text": [
      "epoch=2; train_loss=0.0794; val_loss=0.7718; val_map=0.0276\n"
     ]
    },
    {
     "data": {
      "application/vnd.jupyter.widget-view+json": {
       "model_id": "4f0ebb717b174af98767cff26e781359",
       "version_major": 2,
       "version_minor": 0
      },
      "text/plain": [
       "Train Epoch 3:   0%|          | 0/84 [00:00<?, ?it/s]"
      ]
     },
     "metadata": {},
     "output_type": "display_data"
    },
    {
     "name": "stderr",
     "output_type": "stream",
     "text": [
      "[codecarbon INFO @ 10:48:35] Energy consumed for RAM : 0.015448 kWh. RAM Power : 54.0 W\n",
      "[codecarbon INFO @ 10:48:35] Delta energy consumed for CPU with cpu_load : 0.000234 kWh, power : 58.21473053899999 W\n",
      "[codecarbon INFO @ 10:48:35] Energy consumed for All CPU : 0.016718 kWh\n",
      "[codecarbon INFO @ 10:48:35] Energy consumed for all GPUs : 0.052189 kWh. Total GPU Power : 176.92721491886695 W\n",
      "[codecarbon INFO @ 10:48:35] 0.084355 kWh of electricity used since the beginning.\n",
      "[codecarbon INFO @ 10:48:50] Energy consumed for RAM : 0.015665 kWh. RAM Power : 54.0 W\n",
      "[codecarbon INFO @ 10:48:50] Delta energy consumed for CPU with cpu_load : 0.000242 kWh, power : 60.10653807200002 W\n",
      "[codecarbon INFO @ 10:48:50] Energy consumed for All CPU : 0.016960 kWh\n",
      "[codecarbon INFO @ 10:48:50] Energy consumed for all GPUs : 0.052949 kWh. Total GPU Power : 182.4734301890078 W\n",
      "[codecarbon INFO @ 10:48:50] 0.085575 kWh of electricity used since the beginning.\n",
      "[codecarbon INFO @ 10:48:50] 0.026959 g.CO2eq/s mean an estimation of 850.1782237747337 kg.CO2eq/year\n"
     ]
    },
    {
     "name": "stdout",
     "output_type": "stream",
     "text": [
      "epoch=3; train_loss=0.0462; val_loss=0.8341; val_map=0.0333\n"
     ]
    },
    {
     "data": {
      "application/vnd.jupyter.widget-view+json": {
       "model_id": "a7106642a00b44428fc6d3e3cc9e9013",
       "version_major": 2,
       "version_minor": 0
      },
      "text/plain": [
       "Train Epoch 1:   0%|          | 0/84 [00:00<?, ?it/s]"
      ]
     },
     "metadata": {},
     "output_type": "display_data"
    },
    {
     "name": "stderr",
     "output_type": "stream",
     "text": [
      "[codecarbon INFO @ 10:49:05] Energy consumed for RAM : 0.015883 kWh. RAM Power : 54.0 W\n",
      "[codecarbon INFO @ 10:49:05] Delta energy consumed for CPU with cpu_load : 0.000240 kWh, power : 59.581642043000016 W\n",
      "[codecarbon INFO @ 10:49:05] Energy consumed for All CPU : 0.017200 kWh\n",
      "[codecarbon INFO @ 10:49:05] Energy consumed for all GPUs : 0.053719 kWh. Total GPU Power : 184.92003972668593 W\n",
      "[codecarbon INFO @ 10:49:05] 0.086802 kWh of electricity used since the beginning.\n"
     ]
    },
    {
     "name": "stdout",
     "output_type": "stream",
     "text": [
      "epoch=1; train_loss=0.1617; val_loss=1.2431; val_map=0.0302\n"
     ]
    },
    {
     "data": {
      "application/vnd.jupyter.widget-view+json": {
       "model_id": "888137581476469580e599486456d22d",
       "version_major": 2,
       "version_minor": 0
      },
      "text/plain": [
       "Train Epoch 2:   0%|          | 0/84 [00:00<?, ?it/s]"
      ]
     },
     "metadata": {},
     "output_type": "display_data"
    },
    {
     "name": "stderr",
     "output_type": "stream",
     "text": [
      "[codecarbon INFO @ 10:49:20] Energy consumed for RAM : 0.016100 kWh. RAM Power : 54.0 W\n",
      "[codecarbon INFO @ 10:49:20] Delta energy consumed for CPU with cpu_load : 0.000243 kWh, power : 60.27706804700001 W\n",
      "[codecarbon INFO @ 10:49:20] Energy consumed for All CPU : 0.017443 kWh\n",
      "[codecarbon INFO @ 10:49:20] Energy consumed for all GPUs : 0.054499 kWh. Total GPU Power : 187.18050621071671 W\n",
      "[codecarbon INFO @ 10:49:20] 0.088042 kWh of electricity used since the beginning.\n",
      "[codecarbon INFO @ 10:49:35] Energy consumed for RAM : 0.016317 kWh. RAM Power : 54.0 W\n",
      "[codecarbon INFO @ 10:49:35] Delta energy consumed for CPU with cpu_load : 0.000241 kWh, power : 59.962722711500014 W\n",
      "[codecarbon INFO @ 10:49:35] Energy consumed for All CPU : 0.017684 kWh\n",
      "[codecarbon INFO @ 10:49:35] Energy consumed for all GPUs : 0.055261 kWh. Total GPU Power : 182.9822464497887 W\n",
      "[codecarbon INFO @ 10:49:35] 0.089262 kWh of electricity used since the beginning.\n"
     ]
    },
    {
     "name": "stdout",
     "output_type": "stream",
     "text": [
      "epoch=2; train_loss=0.0564; val_loss=0.4825; val_map=0.0507\n"
     ]
    },
    {
     "data": {
      "application/vnd.jupyter.widget-view+json": {
       "model_id": "0841d2e1ae6c49f2add4b5078bfe2e79",
       "version_major": 2,
       "version_minor": 0
      },
      "text/plain": [
       "Train Epoch 3:   0%|          | 0/84 [00:00<?, ?it/s]"
      ]
     },
     "metadata": {},
     "output_type": "display_data"
    },
    {
     "name": "stderr",
     "output_type": "stream",
     "text": [
      "[codecarbon INFO @ 10:49:50] Energy consumed for RAM : 0.016535 kWh. RAM Power : 54.0 W\n",
      "[codecarbon INFO @ 10:49:50] Delta energy consumed for CPU with cpu_load : 0.000243 kWh, power : 60.408184371500006 W\n",
      "[codecarbon INFO @ 10:49:50] Energy consumed for All CPU : 0.017927 kWh\n",
      "[codecarbon INFO @ 10:49:50] Energy consumed for all GPUs : 0.056043 kWh. Total GPU Power : 187.85110088721774 W\n",
      "[codecarbon INFO @ 10:49:50] 0.090505 kWh of electricity used since the beginning.\n",
      "[codecarbon INFO @ 10:50:05] Energy consumed for RAM : 0.016752 kWh. RAM Power : 54.0 W\n",
      "[codecarbon INFO @ 10:50:05] Delta energy consumed for CPU with cpu_load : 0.000235 kWh, power : 58.4578748495 W\n",
      "[codecarbon INFO @ 10:50:05] Energy consumed for All CPU : 0.018162 kWh\n",
      "[codecarbon INFO @ 10:50:05] Energy consumed for all GPUs : 0.056810 kWh. Total GPU Power : 184.11266031222092 W\n",
      "[codecarbon INFO @ 10:50:05] 0.091725 kWh of electricity used since the beginning.\n"
     ]
    },
    {
     "name": "stdout",
     "output_type": "stream",
     "text": [
      "epoch=3; train_loss=0.0470; val_loss=1.1520; val_map=0.0334\n"
     ]
    },
    {
     "data": {
      "application/vnd.jupyter.widget-view+json": {
       "model_id": "88b90590efa7457596974e0dc0babf82",
       "version_major": 2,
       "version_minor": 0
      },
      "text/plain": [
       "Train Epoch 1:   0%|          | 0/84 [00:00<?, ?it/s]"
      ]
     },
     "metadata": {},
     "output_type": "display_data"
    },
    {
     "name": "stderr",
     "output_type": "stream",
     "text": [
      "[codecarbon INFO @ 10:50:20] Energy consumed for RAM : 0.016969 kWh. RAM Power : 54.0 W\n",
      "[codecarbon INFO @ 10:50:20] Delta energy consumed for CPU with cpu_load : 0.000236 kWh, power : 58.63424341250001 W\n",
      "[codecarbon INFO @ 10:50:20] Energy consumed for All CPU : 0.018398 kWh\n",
      "[codecarbon INFO @ 10:50:20] Energy consumed for all GPUs : 0.057572 kWh. Total GPU Power : 183.0179579364033 W\n",
      "[codecarbon INFO @ 10:50:20] 0.092940 kWh of electricity used since the beginning.\n",
      "[codecarbon INFO @ 10:50:35] Energy consumed for RAM : 0.017187 kWh. RAM Power : 54.0 W\n",
      "[codecarbon INFO @ 10:50:35] Delta energy consumed for CPU with cpu_load : 0.000232 kWh, power : 57.75166790750001 W\n",
      "[codecarbon INFO @ 10:50:35] Energy consumed for All CPU : 0.018631 kWh\n",
      "[codecarbon INFO @ 10:50:35] Energy consumed for all GPUs : 0.058341 kWh. Total GPU Power : 184.4991088041269 W\n",
      "[codecarbon INFO @ 10:50:35] 0.094159 kWh of electricity used since the beginning.\n"
     ]
    },
    {
     "name": "stdout",
     "output_type": "stream",
     "text": [
      "epoch=1; train_loss=0.1269; val_loss=0.4043; val_map=0.0239\n"
     ]
    },
    {
     "data": {
      "application/vnd.jupyter.widget-view+json": {
       "model_id": "53691780d65740c984335f578d01d48b",
       "version_major": 2,
       "version_minor": 0
      },
      "text/plain": [
       "Train Epoch 2:   0%|          | 0/84 [00:00<?, ?it/s]"
      ]
     },
     "metadata": {},
     "output_type": "display_data"
    },
    {
     "name": "stderr",
     "output_type": "stream",
     "text": [
      "[codecarbon INFO @ 10:50:50] Energy consumed for RAM : 0.017404 kWh. RAM Power : 54.0 W\n",
      "[codecarbon INFO @ 10:50:50] Delta energy consumed for CPU with cpu_load : 0.000243 kWh, power : 60.36323289500001 W\n",
      "[codecarbon INFO @ 10:50:50] Energy consumed for All CPU : 0.018874 kWh\n",
      "[codecarbon INFO @ 10:50:50] Energy consumed for all GPUs : 0.059107 kWh. Total GPU Power : 184.00008063938319 W\n",
      "[codecarbon INFO @ 10:50:50] 0.095385 kWh of electricity used since the beginning.\n",
      "[codecarbon INFO @ 10:50:50] 0.027415 g.CO2eq/s mean an estimation of 864.5626844933671 kg.CO2eq/year\n",
      "[codecarbon INFO @ 10:51:05] Energy consumed for RAM : 0.017621 kWh. RAM Power : 54.0 W\n",
      "[codecarbon INFO @ 10:51:05] Delta energy consumed for CPU with cpu_load : 0.000239 kWh, power : 59.381416419500006 W\n",
      "[codecarbon INFO @ 10:51:05] Energy consumed for All CPU : 0.019113 kWh\n",
      "[codecarbon INFO @ 10:51:05] Energy consumed for all GPUs : 0.059877 kWh. Total GPU Power : 184.77477912212288 W\n",
      "[codecarbon INFO @ 10:51:05] 0.096611 kWh of electricity used since the beginning.\n"
     ]
    },
    {
     "name": "stdout",
     "output_type": "stream",
     "text": [
      "epoch=2; train_loss=0.0537; val_loss=0.6144; val_map=0.0271\n"
     ]
    },
    {
     "data": {
      "application/vnd.jupyter.widget-view+json": {
       "model_id": "877f6b5aeb9e4a6a865c87b18fe95115",
       "version_major": 2,
       "version_minor": 0
      },
      "text/plain": [
       "Train Epoch 3:   0%|          | 0/84 [00:00<?, ?it/s]"
      ]
     },
     "metadata": {},
     "output_type": "display_data"
    },
    {
     "name": "stderr",
     "output_type": "stream",
     "text": [
      "[codecarbon INFO @ 10:51:20] Energy consumed for RAM : 0.017839 kWh. RAM Power : 54.0 W\n",
      "[codecarbon INFO @ 10:51:20] Delta energy consumed for CPU with cpu_load : 0.000238 kWh, power : 59.081024418500014 W\n",
      "[codecarbon INFO @ 10:51:20] Energy consumed for All CPU : 0.019351 kWh\n",
      "[codecarbon INFO @ 10:51:20] Energy consumed for all GPUs : 0.060642 kWh. Total GPU Power : 183.63068120222448 W\n",
      "[codecarbon INFO @ 10:51:20] 0.097831 kWh of electricity used since the beginning.\n"
     ]
    },
    {
     "name": "stdout",
     "output_type": "stream",
     "text": [
      "epoch=3; train_loss=0.0442; val_loss=0.8683; val_map=0.0245\n"
     ]
    },
    {
     "data": {
      "application/vnd.jupyter.widget-view+json": {
       "model_id": "05e45e6b89be4508b852b810ed5c88f7",
       "version_major": 2,
       "version_minor": 0
      },
      "text/plain": [
       "Train Epoch 1:   0%|          | 0/84 [00:00<?, ?it/s]"
      ]
     },
     "metadata": {},
     "output_type": "display_data"
    },
    {
     "name": "stderr",
     "output_type": "stream",
     "text": [
      "[codecarbon INFO @ 10:51:35] Energy consumed for RAM : 0.018056 kWh. RAM Power : 54.0 W\n",
      "[codecarbon INFO @ 10:51:35] Delta energy consumed for CPU with cpu_load : 0.000235 kWh, power : 58.311272085500015 W\n",
      "[codecarbon INFO @ 10:51:35] Energy consumed for All CPU : 0.019585 kWh\n",
      "[codecarbon INFO @ 10:51:35] Energy consumed for all GPUs : 0.061398 kWh. Total GPU Power : 181.62705111749904 W\n",
      "[codecarbon INFO @ 10:51:35] 0.099040 kWh of electricity used since the beginning.\n",
      "[codecarbon INFO @ 10:51:50] Energy consumed for RAM : 0.018274 kWh. RAM Power : 54.0 W\n",
      "[codecarbon INFO @ 10:51:50] Delta energy consumed for CPU with cpu_load : 0.000233 kWh, power : 57.840324122 W\n",
      "[codecarbon INFO @ 10:51:50] Energy consumed for All CPU : 0.019818 kWh\n",
      "[codecarbon INFO @ 10:51:50] Energy consumed for all GPUs : 0.062136 kWh. Total GPU Power : 177.04981072613242 W\n",
      "[codecarbon INFO @ 10:51:50] 0.100227 kWh of electricity used since the beginning.\n"
     ]
    },
    {
     "name": "stdout",
     "output_type": "stream",
     "text": [
      "epoch=1; train_loss=0.1643; val_loss=0.8252; val_map=0.0106\n"
     ]
    },
    {
     "data": {
      "application/vnd.jupyter.widget-view+json": {
       "model_id": "18c8896415294c6d92005c5e39f3b014",
       "version_major": 2,
       "version_minor": 0
      },
      "text/plain": [
       "Train Epoch 2:   0%|          | 0/84 [00:00<?, ?it/s]"
      ]
     },
     "metadata": {},
     "output_type": "display_data"
    },
    {
     "name": "stderr",
     "output_type": "stream",
     "text": [
      "[codecarbon INFO @ 10:52:05] Energy consumed for RAM : 0.018491 kWh. RAM Power : 54.0 W\n",
      "[codecarbon INFO @ 10:52:05] Delta energy consumed for CPU with cpu_load : 0.000231 kWh, power : 57.427962410000006 W\n",
      "[codecarbon INFO @ 10:52:05] Energy consumed for All CPU : 0.020049 kWh\n",
      "[codecarbon INFO @ 10:52:05] Energy consumed for all GPUs : 0.062882 kWh. Total GPU Power : 179.26417979020587 W\n",
      "[codecarbon INFO @ 10:52:05] 0.101423 kWh of electricity used since the beginning.\n",
      "[codecarbon INFO @ 10:52:20] Energy consumed for RAM : 0.018708 kWh. RAM Power : 54.0 W\n",
      "[codecarbon INFO @ 10:52:20] Delta energy consumed for CPU with cpu_load : 0.000231 kWh, power : 57.42990586550001 W\n",
      "[codecarbon INFO @ 10:52:20] Energy consumed for All CPU : 0.020281 kWh\n",
      "[codecarbon INFO @ 10:52:20] Energy consumed for all GPUs : 0.063622 kWh. Total GPU Power : 177.59096387946767 W\n",
      "[codecarbon INFO @ 10:52:20] 0.102611 kWh of electricity used since the beginning.\n"
     ]
    },
    {
     "name": "stdout",
     "output_type": "stream",
     "text": [
      "epoch=2; train_loss=0.0678; val_loss=0.9091; val_map=0.0328\n"
     ]
    },
    {
     "data": {
      "application/vnd.jupyter.widget-view+json": {
       "model_id": "f176bab3c70848c1ac8fccf9d37c8760",
       "version_major": 2,
       "version_minor": 0
      },
      "text/plain": [
       "Train Epoch 3:   0%|          | 0/84 [00:00<?, ?it/s]"
      ]
     },
     "metadata": {},
     "output_type": "display_data"
    },
    {
     "name": "stderr",
     "output_type": "stream",
     "text": [
      "[codecarbon INFO @ 10:52:35] Energy consumed for RAM : 0.018926 kWh. RAM Power : 54.0 W\n",
      "[codecarbon INFO @ 10:52:35] Delta energy consumed for CPU with cpu_load : 0.000231 kWh, power : 57.343829123000006 W\n",
      "[codecarbon INFO @ 10:52:35] Energy consumed for All CPU : 0.020511 kWh\n",
      "[codecarbon INFO @ 10:52:35] Energy consumed for all GPUs : 0.064362 kWh. Total GPU Power : 177.6558570059416 W\n",
      "[codecarbon INFO @ 10:52:35] 0.103799 kWh of electricity used since the beginning.\n",
      "[codecarbon INFO @ 10:52:50] Energy consumed for RAM : 0.019143 kWh. RAM Power : 54.0 W\n",
      "[codecarbon INFO @ 10:52:50] Delta energy consumed for CPU with cpu_load : 0.000239 kWh, power : 59.354958845000006 W\n",
      "[codecarbon INFO @ 10:52:50] Energy consumed for All CPU : 0.020750 kWh\n",
      "[codecarbon INFO @ 10:52:50] Energy consumed for all GPUs : 0.065106 kWh. Total GPU Power : 178.4985113991173 W\n",
      "[codecarbon INFO @ 10:52:50] 0.104999 kWh of electricity used since the beginning.\n",
      "[codecarbon INFO @ 10:52:50] 0.026864 g.CO2eq/s mean an estimation of 847.1947985180375 kg.CO2eq/year\n"
     ]
    },
    {
     "name": "stdout",
     "output_type": "stream",
     "text": [
      "epoch=3; train_loss=0.0439; val_loss=1.1026; val_map=0.0421\n"
     ]
    },
    {
     "data": {
      "application/vnd.jupyter.widget-view+json": {
       "model_id": "6154f21b8c6f4299b751bf23ab6ae3a5",
       "version_major": 2,
       "version_minor": 0
      },
      "text/plain": [
       "Train Epoch 1:   0%|          | 0/84 [00:00<?, ?it/s]"
      ]
     },
     "metadata": {},
     "output_type": "display_data"
    },
    {
     "name": "stderr",
     "output_type": "stream",
     "text": [
      "[codecarbon INFO @ 10:53:05] Energy consumed for RAM : 0.019360 kWh. RAM Power : 54.0 W\n",
      "[codecarbon INFO @ 10:53:05] Delta energy consumed for CPU with cpu_load : 0.000237 kWh, power : 58.810421526500015 W\n",
      "[codecarbon INFO @ 10:53:05] Energy consumed for All CPU : 0.020987 kWh\n",
      "[codecarbon INFO @ 10:53:05] Energy consumed for all GPUs : 0.065857 kWh. Total GPU Power : 180.35463247999914 W\n",
      "[codecarbon INFO @ 10:53:05] 0.106204 kWh of electricity used since the beginning.\n",
      "[codecarbon INFO @ 10:53:20] Energy consumed for RAM : 0.019578 kWh. RAM Power : 54.0 W\n",
      "[codecarbon INFO @ 10:53:20] Delta energy consumed for CPU with cpu_load : 0.000235 kWh, power : 58.452354002000014 W\n",
      "[codecarbon INFO @ 10:53:20] Energy consumed for All CPU : 0.021222 kWh\n",
      "[codecarbon INFO @ 10:53:20] Energy consumed for all GPUs : 0.066581 kWh. Total GPU Power : 173.8374522715379 W\n",
      "[codecarbon INFO @ 10:53:20] 0.107381 kWh of electricity used since the beginning.\n"
     ]
    },
    {
     "name": "stdout",
     "output_type": "stream",
     "text": [
      "epoch=1; train_loss=0.1517; val_loss=0.2440; val_map=0.0503\n"
     ]
    },
    {
     "data": {
      "application/vnd.jupyter.widget-view+json": {
       "model_id": "46d9b3fb3b5f4428ba5b7609534e550d",
       "version_major": 2,
       "version_minor": 0
      },
      "text/plain": [
       "Train Epoch 2:   0%|          | 0/84 [00:00<?, ?it/s]"
      ]
     },
     "metadata": {},
     "output_type": "display_data"
    },
    {
     "name": "stderr",
     "output_type": "stream",
     "text": [
      "[codecarbon INFO @ 10:53:35] Energy consumed for RAM : 0.019795 kWh. RAM Power : 54.0 W\n",
      "[codecarbon INFO @ 10:53:35] Delta energy consumed for CPU with cpu_load : 0.000236 kWh, power : 58.743040979 W\n",
      "[codecarbon INFO @ 10:53:35] Energy consumed for All CPU : 0.021459 kWh\n",
      "[codecarbon INFO @ 10:53:35] Energy consumed for all GPUs : 0.067323 kWh. Total GPU Power : 178.2411193293048 W\n",
      "[codecarbon INFO @ 10:53:35] 0.108577 kWh of electricity used since the beginning.\n",
      "[codecarbon INFO @ 10:53:50] Energy consumed for RAM : 0.020012 kWh. RAM Power : 54.0 W\n",
      "[codecarbon INFO @ 10:53:50] Delta energy consumed for CPU with cpu_load : 0.000238 kWh, power : 59.055622598000014 W\n",
      "[codecarbon INFO @ 10:53:50] Energy consumed for All CPU : 0.021697 kWh\n",
      "[codecarbon INFO @ 10:53:50] Energy consumed for all GPUs : 0.068052 kWh. Total GPU Power : 175.0167275526132 W\n",
      "[codecarbon INFO @ 10:53:50] 0.109761 kWh of electricity used since the beginning.\n"
     ]
    },
    {
     "name": "stdout",
     "output_type": "stream",
     "text": [
      "epoch=2; train_loss=0.0804; val_loss=0.5643; val_map=0.0249\n"
     ]
    },
    {
     "data": {
      "application/vnd.jupyter.widget-view+json": {
       "model_id": "6ef3709ff7f540fa878cd0d04e2bc5ba",
       "version_major": 2,
       "version_minor": 0
      },
      "text/plain": [
       "Train Epoch 3:   0%|          | 0/84 [00:00<?, ?it/s]"
      ]
     },
     "metadata": {},
     "output_type": "display_data"
    },
    {
     "name": "stderr",
     "output_type": "stream",
     "text": [
      "[codecarbon INFO @ 10:54:05] Energy consumed for RAM : 0.020230 kWh. RAM Power : 54.0 W\n",
      "[codecarbon INFO @ 10:54:05] Delta energy consumed for CPU with cpu_load : 0.000234 kWh, power : 58.13044419350001 W\n",
      "[codecarbon INFO @ 10:54:05] Energy consumed for All CPU : 0.021931 kWh\n",
      "[codecarbon INFO @ 10:54:05] Energy consumed for all GPUs : 0.068808 kWh. Total GPU Power : 181.47170276560806 W\n",
      "[codecarbon INFO @ 10:54:05] 0.110969 kWh of electricity used since the beginning.\n",
      "[codecarbon INFO @ 10:54:20] Energy consumed for RAM : 0.020447 kWh. RAM Power : 54.0 W\n",
      "[codecarbon INFO @ 10:54:20] Delta energy consumed for CPU with cpu_load : 0.000235 kWh, power : 58.370093642000015 W\n",
      "[codecarbon INFO @ 10:54:20] Energy consumed for All CPU : 0.022166 kWh\n",
      "[codecarbon INFO @ 10:54:20] Energy consumed for all GPUs : 0.069538 kWh. Total GPU Power : 175.1968110611895 W\n",
      "[codecarbon INFO @ 10:54:20] 0.112151 kWh of electricity used since the beginning.\n"
     ]
    },
    {
     "name": "stdout",
     "output_type": "stream",
     "text": [
      "epoch=3; train_loss=0.0605; val_loss=0.5026; val_map=0.0313\n"
     ]
    },
    {
     "data": {
      "application/vnd.jupyter.widget-view+json": {
       "model_id": "0d29700ecb8646448233620d516a269a",
       "version_major": 2,
       "version_minor": 0
      },
      "text/plain": [
       "Train Epoch 1:   0%|          | 0/84 [00:00<?, ?it/s]"
      ]
     },
     "metadata": {},
     "output_type": "display_data"
    },
    {
     "name": "stderr",
     "output_type": "stream",
     "text": [
      "[codecarbon INFO @ 10:54:35] Energy consumed for RAM : 0.020664 kWh. RAM Power : 54.0 W\n",
      "[codecarbon INFO @ 10:54:35] Delta energy consumed for CPU with cpu_load : 0.000234 kWh, power : 58.22815927250001 W\n",
      "[codecarbon INFO @ 10:54:35] Energy consumed for All CPU : 0.022400 kWh\n",
      "[codecarbon INFO @ 10:54:35] Energy consumed for all GPUs : 0.070296 kWh. Total GPU Power : 181.9092927742312 W\n",
      "[codecarbon INFO @ 10:54:35] 0.113360 kWh of electricity used since the beginning.\n",
      "[codecarbon INFO @ 10:54:50] Energy consumed for RAM : 0.020882 kWh. RAM Power : 54.0 W\n",
      "[codecarbon INFO @ 10:54:50] Delta energy consumed for CPU with cpu_load : 0.000244 kWh, power : 60.48963568550001 W\n",
      "[codecarbon INFO @ 10:54:50] Energy consumed for All CPU : 0.022644 kWh\n",
      "[codecarbon INFO @ 10:54:50] Energy consumed for all GPUs : 0.071070 kWh. Total GPU Power : 185.95515386718665 W\n",
      "[codecarbon INFO @ 10:54:50] 0.114596 kWh of electricity used since the beginning.\n",
      "[codecarbon INFO @ 10:54:50] 0.026817 g.CO2eq/s mean an estimation of 845.7146593456682 kg.CO2eq/year\n"
     ]
    },
    {
     "name": "stdout",
     "output_type": "stream",
     "text": [
      "epoch=1; train_loss=0.1705; val_loss=0.4790; val_map=0.0279\n"
     ]
    },
    {
     "data": {
      "application/vnd.jupyter.widget-view+json": {
       "model_id": "dc0c68baec62444d9643699979b7062a",
       "version_major": 2,
       "version_minor": 0
      },
      "text/plain": [
       "Train Epoch 2:   0%|          | 0/84 [00:00<?, ?it/s]"
      ]
     },
     "metadata": {},
     "output_type": "display_data"
    },
    {
     "name": "stderr",
     "output_type": "stream",
     "text": [
      "[codecarbon INFO @ 10:55:05] Energy consumed for RAM : 0.021099 kWh. RAM Power : 54.0 W\n",
      "[codecarbon INFO @ 10:55:05] Delta energy consumed for CPU with cpu_load : 0.000241 kWh, power : 59.82276181700001 W\n",
      "[codecarbon INFO @ 10:55:05] Energy consumed for All CPU : 0.022884 kWh\n",
      "[codecarbon INFO @ 10:55:05] Energy consumed for all GPUs : 0.071838 kWh. Total GPU Power : 184.0782383219797 W\n",
      "[codecarbon INFO @ 10:55:05] 0.115821 kWh of electricity used since the beginning.\n",
      "[codecarbon INFO @ 10:55:20] Energy consumed for RAM : 0.021317 kWh. RAM Power : 54.0 W\n"
     ]
    },
    {
     "name": "stdout",
     "output_type": "stream",
     "text": [
      "epoch=2; train_loss=0.0742; val_loss=0.9050; val_map=0.0471\n"
     ]
    },
    {
     "name": "stderr",
     "output_type": "stream",
     "text": [
      "[codecarbon INFO @ 10:55:20] Delta energy consumed for CPU with cpu_load : 0.000240 kWh, power : 59.74772475350001 W\n",
      "[codecarbon INFO @ 10:55:20] Energy consumed for All CPU : 0.023125 kWh\n"
     ]
    },
    {
     "data": {
      "application/vnd.jupyter.widget-view+json": {
       "model_id": "d1f66094f977450e90a38a924d6b96c0",
       "version_major": 2,
       "version_minor": 0
      },
      "text/plain": [
       "Train Epoch 3:   0%|          | 0/84 [00:00<?, ?it/s]"
      ]
     },
     "metadata": {},
     "output_type": "display_data"
    },
    {
     "name": "stderr",
     "output_type": "stream",
     "text": [
      "[codecarbon INFO @ 10:55:20] Energy consumed for all GPUs : 0.072615 kWh. Total GPU Power : 186.6160640724161 W\n",
      "[codecarbon INFO @ 10:55:20] 0.117057 kWh of electricity used since the beginning.\n",
      "[codecarbon INFO @ 10:55:35] Energy consumed for RAM : 0.021534 kWh. RAM Power : 54.0 W\n",
      "[codecarbon INFO @ 10:55:35] Delta energy consumed for CPU with cpu_load : 0.000239 kWh, power : 59.49809856200001 W\n",
      "[codecarbon INFO @ 10:55:35] Energy consumed for All CPU : 0.023364 kWh\n",
      "[codecarbon INFO @ 10:55:35] Energy consumed for all GPUs : 0.073380 kWh. Total GPU Power : 183.8202815584491 W\n",
      "[codecarbon INFO @ 10:55:35] 0.118279 kWh of electricity used since the beginning.\n"
     ]
    },
    {
     "name": "stdout",
     "output_type": "stream",
     "text": [
      "epoch=3; train_loss=0.0473; val_loss=1.1528; val_map=0.0476\n"
     ]
    },
    {
     "data": {
      "application/vnd.jupyter.widget-view+json": {
       "model_id": "3cf2898ed02e4817ae974bfd2d72eba9",
       "version_major": 2,
       "version_minor": 0
      },
      "text/plain": [
       "Train Epoch 1:   0%|          | 0/84 [00:00<?, ?it/s]"
      ]
     },
     "metadata": {},
     "output_type": "display_data"
    },
    {
     "name": "stderr",
     "output_type": "stream",
     "text": [
      "[codecarbon INFO @ 10:55:50] Energy consumed for RAM : 0.021751 kWh. RAM Power : 54.0 W\n",
      "[codecarbon INFO @ 10:55:50] Delta energy consumed for CPU with cpu_load : 0.000240 kWh, power : 59.621478329000006 W\n",
      "[codecarbon INFO @ 10:55:50] Energy consumed for All CPU : 0.023604 kWh\n",
      "[codecarbon INFO @ 10:55:50] Energy consumed for all GPUs : 0.074129 kWh. Total GPU Power : 179.7874293785059 W\n",
      "[codecarbon INFO @ 10:55:50] 0.119485 kWh of electricity used since the beginning.\n",
      "[codecarbon INFO @ 10:56:05] Energy consumed for RAM : 0.021969 kWh. RAM Power : 54.0 W\n",
      "[codecarbon INFO @ 10:56:05] Delta energy consumed for CPU with cpu_load : 0.000235 kWh, power : 58.48550910650002 W\n",
      "[codecarbon INFO @ 10:56:05] Energy consumed for All CPU : 0.023840 kWh\n",
      "[codecarbon INFO @ 10:56:05] Energy consumed for all GPUs : 0.074850 kWh. Total GPU Power : 173.0597301812443 W\n",
      "[codecarbon INFO @ 10:56:05] 0.120658 kWh of electricity used since the beginning.\n"
     ]
    },
    {
     "name": "stdout",
     "output_type": "stream",
     "text": [
      "epoch=1; train_loss=0.1825; val_loss=0.6111; val_map=0.0288\n"
     ]
    },
    {
     "data": {
      "application/vnd.jupyter.widget-view+json": {
       "model_id": "77a190cd20dc4246b1fee0406454c487",
       "version_major": 2,
       "version_minor": 0
      },
      "text/plain": [
       "Train Epoch 2:   0%|          | 0/84 [00:00<?, ?it/s]"
      ]
     },
     "metadata": {},
     "output_type": "display_data"
    },
    {
     "name": "stderr",
     "output_type": "stream",
     "text": [
      "[codecarbon INFO @ 10:56:20] Energy consumed for RAM : 0.022186 kWh. RAM Power : 54.0 W\n",
      "[codecarbon INFO @ 10:56:20] Delta energy consumed for CPU with cpu_load : 0.000236 kWh, power : 58.72597604300001 W\n",
      "[codecarbon INFO @ 10:56:20] Energy consumed for All CPU : 0.024076 kWh\n",
      "[codecarbon INFO @ 10:56:20] Energy consumed for all GPUs : 0.075595 kWh. Total GPU Power : 178.69442953669494 W\n",
      "[codecarbon INFO @ 10:56:20] 0.121857 kWh of electricity used since the beginning.\n",
      "[codecarbon INFO @ 10:56:35] Energy consumed for RAM : 0.022403 kWh. RAM Power : 54.0 W\n",
      "[codecarbon INFO @ 10:56:35] Delta energy consumed for CPU with cpu_load : 0.000235 kWh, power : 58.34195066000001 W\n",
      "[codecarbon INFO @ 10:56:35] Energy consumed for All CPU : 0.024311 kWh\n",
      "[codecarbon INFO @ 10:56:35] Energy consumed for all GPUs : 0.076332 kWh. Total GPU Power : 177.02333996156068 W\n",
      "[codecarbon INFO @ 10:56:35] 0.123046 kWh of electricity used since the beginning.\n"
     ]
    },
    {
     "name": "stdout",
     "output_type": "stream",
     "text": [
      "epoch=2; train_loss=0.0838; val_loss=0.7941; val_map=0.0314\n"
     ]
    },
    {
     "data": {
      "application/vnd.jupyter.widget-view+json": {
       "model_id": "2d38ca5054784be0a6986f55a0afba25",
       "version_major": 2,
       "version_minor": 0
      },
      "text/plain": [
       "Train Epoch 3:   0%|          | 0/84 [00:00<?, ?it/s]"
      ]
     },
     "metadata": {},
     "output_type": "display_data"
    },
    {
     "name": "stderr",
     "output_type": "stream",
     "text": [
      "[codecarbon INFO @ 10:56:50] Energy consumed for RAM : 0.022621 kWh. RAM Power : 54.0 W\n",
      "[codecarbon INFO @ 10:56:50] Delta energy consumed for CPU with cpu_load : 0.000244 kWh, power : 60.53295417050001 W\n",
      "[codecarbon INFO @ 10:56:50] Energy consumed for All CPU : 0.024555 kWh\n",
      "[codecarbon INFO @ 10:56:50] Energy consumed for all GPUs : 0.077076 kWh. Total GPU Power : 178.707206137321 W\n",
      "[codecarbon INFO @ 10:56:50] 0.124252 kWh of electricity used since the beginning.\n",
      "[codecarbon INFO @ 10:56:50] 0.026982 g.CO2eq/s mean an estimation of 850.908905596986 kg.CO2eq/year\n",
      "[codecarbon INFO @ 10:57:05] Energy consumed for RAM : 0.022838 kWh. RAM Power : 54.0 W\n",
      "[codecarbon INFO @ 10:57:05] Delta energy consumed for CPU with cpu_load : 0.000239 kWh, power : 59.27028117500001 W\n",
      "[codecarbon INFO @ 10:57:05] Energy consumed for All CPU : 0.024793 kWh\n",
      "[codecarbon INFO @ 10:57:05] Energy consumed for all GPUs : 0.077815 kWh. Total GPU Power : 177.33225694251536 W\n",
      "[codecarbon INFO @ 10:57:05] 0.125447 kWh of electricity used since the beginning.\n"
     ]
    },
    {
     "name": "stdout",
     "output_type": "stream",
     "text": [
      "epoch=3; train_loss=0.0618; val_loss=0.8909; val_map=0.0294\n"
     ]
    },
    {
     "data": {
      "application/vnd.jupyter.widget-view+json": {
       "model_id": "9727500b4aed45f9a12bc3672f23196e",
       "version_major": 2,
       "version_minor": 0
      },
      "text/plain": [
       "Train Epoch 1:   0%|          | 0/84 [00:00<?, ?it/s]"
      ]
     },
     "metadata": {},
     "output_type": "display_data"
    },
    {
     "name": "stderr",
     "output_type": "stream",
     "text": [
      "[codecarbon INFO @ 10:57:20] Energy consumed for RAM : 0.023055 kWh. RAM Power : 54.0 W\n",
      "[codecarbon INFO @ 10:57:20] Delta energy consumed for CPU with cpu_load : 0.000241 kWh, power : 59.78117964350001 W\n",
      "[codecarbon INFO @ 10:57:20] Energy consumed for All CPU : 0.025034 kWh\n",
      "[codecarbon INFO @ 10:57:20] Energy consumed for all GPUs : 0.078555 kWh. Total GPU Power : 177.54398299317913 W\n",
      "[codecarbon INFO @ 10:57:20] 0.126644 kWh of electricity used since the beginning.\n",
      "[codecarbon INFO @ 10:57:35] Energy consumed for RAM : 0.023273 kWh. RAM Power : 54.0 W\n",
      "[codecarbon INFO @ 10:57:35] Delta energy consumed for CPU with cpu_load : 0.000246 kWh, power : 61.09810902650001 W\n",
      "[codecarbon INFO @ 10:57:35] Energy consumed for All CPU : 0.025280 kWh\n",
      "[codecarbon INFO @ 10:57:35] Energy consumed for all GPUs : 0.079307 kWh. Total GPU Power : 180.48970524409054 W\n",
      "[codecarbon INFO @ 10:57:35] 0.127859 kWh of electricity used since the beginning.\n"
     ]
    },
    {
     "name": "stdout",
     "output_type": "stream",
     "text": [
      "epoch=1; train_loss=0.1396; val_loss=0.3362; val_map=0.0559\n"
     ]
    },
    {
     "data": {
      "application/vnd.jupyter.widget-view+json": {
       "model_id": "9fa8e7d066e0468c94d72b3fc2a856ae",
       "version_major": 2,
       "version_minor": 0
      },
      "text/plain": [
       "Train Epoch 2:   0%|          | 0/84 [00:00<?, ?it/s]"
      ]
     },
     "metadata": {},
     "output_type": "display_data"
    },
    {
     "name": "stderr",
     "output_type": "stream",
     "text": [
      "[codecarbon INFO @ 10:57:50] Energy consumed for RAM : 0.023490 kWh. RAM Power : 54.0 W\n",
      "[codecarbon INFO @ 10:57:50] Delta energy consumed for CPU with cpu_load : 0.000239 kWh, power : 59.39326177400001 W\n",
      "[codecarbon INFO @ 10:57:50] Energy consumed for All CPU : 0.025519 kWh\n",
      "[codecarbon INFO @ 10:57:50] Energy consumed for all GPUs : 0.080068 kWh. Total GPU Power : 182.84365766709885 W\n",
      "[codecarbon INFO @ 10:57:50] 0.129078 kWh of electricity used since the beginning.\n",
      "[codecarbon INFO @ 10:58:05] Energy consumed for RAM : 0.023708 kWh. RAM Power : 54.0 W\n",
      "[codecarbon INFO @ 10:58:05] Delta energy consumed for CPU with cpu_load : 0.000232 kWh, power : 57.587146526000005 W\n",
      "[codecarbon INFO @ 10:58:05] Energy consumed for All CPU : 0.025751 kWh\n",
      "[codecarbon INFO @ 10:58:05] Energy consumed for all GPUs : 0.080836 kWh. Total GPU Power : 184.27123733657749 W\n",
      "[codecarbon INFO @ 10:58:05] 0.130295 kWh of electricity used since the beginning.\n"
     ]
    },
    {
     "name": "stdout",
     "output_type": "stream",
     "text": [
      "epoch=2; train_loss=0.0671; val_loss=0.5588; val_map=0.0483\n"
     ]
    },
    {
     "data": {
      "application/vnd.jupyter.widget-view+json": {
       "model_id": "ffe221ae94a6458280175bfba80edec5",
       "version_major": 2,
       "version_minor": 0
      },
      "text/plain": [
       "Train Epoch 3:   0%|          | 0/84 [00:00<?, ?it/s]"
      ]
     },
     "metadata": {},
     "output_type": "display_data"
    },
    {
     "name": "stderr",
     "output_type": "stream",
     "text": [
      "[codecarbon INFO @ 10:58:20] Energy consumed for RAM : 0.023925 kWh. RAM Power : 54.0 W\n",
      "[codecarbon INFO @ 10:58:20] Delta energy consumed for CPU with cpu_load : 0.000228 kWh, power : 56.742720293000005 W\n",
      "[codecarbon INFO @ 10:58:20] Energy consumed for All CPU : 0.025979 kWh\n",
      "[codecarbon INFO @ 10:58:20] Energy consumed for all GPUs : 0.081600 kWh. Total GPU Power : 183.52404110864182 W\n",
      "[codecarbon INFO @ 10:58:20] 0.131505 kWh of electricity used since the beginning.\n",
      "[codecarbon INFO @ 10:58:35] Energy consumed for RAM : 0.024142 kWh. RAM Power : 54.0 W\n",
      "[codecarbon INFO @ 10:58:35] Delta energy consumed for CPU with cpu_load : 0.000229 kWh, power : 56.81425880900001 W\n",
      "[codecarbon INFO @ 10:58:35] Energy consumed for All CPU : 0.026208 kWh\n",
      "[codecarbon INFO @ 10:58:35] Energy consumed for all GPUs : 0.082366 kWh. Total GPU Power : 183.79732629503414 W\n",
      "[codecarbon INFO @ 10:58:35] 0.132716 kWh of electricity used since the beginning.\n"
     ]
    },
    {
     "name": "stdout",
     "output_type": "stream",
     "text": [
      "epoch=3; train_loss=0.0505; val_loss=0.7152; val_map=0.0451\n"
     ]
    },
    {
     "data": {
      "application/vnd.jupyter.widget-view+json": {
       "model_id": "90c31930bad64b39a65d678802bc6cd3",
       "version_major": 2,
       "version_minor": 0
      },
      "text/plain": [
       "Train Epoch 1:   0%|          | 0/84 [00:00<?, ?it/s]"
      ]
     },
     "metadata": {},
     "output_type": "display_data"
    },
    {
     "name": "stderr",
     "output_type": "stream",
     "text": [
      "[codecarbon INFO @ 10:58:50] Energy consumed for RAM : 0.024360 kWh. RAM Power : 54.0 W\n",
      "[codecarbon INFO @ 10:58:50] Delta energy consumed for CPU with cpu_load : 0.000233 kWh, power : 57.89545076000001 W\n",
      "[codecarbon INFO @ 10:58:50] Energy consumed for All CPU : 0.026441 kWh\n",
      "[codecarbon INFO @ 10:58:50] Energy consumed for all GPUs : 0.083114 kWh. Total GPU Power : 179.5989216701862 W\n",
      "[codecarbon INFO @ 10:58:50] 0.133915 kWh of electricity used since the beginning.\n",
      "[codecarbon INFO @ 10:58:50] 0.027003 g.CO2eq/s mean an estimation of 851.5582874301942 kg.CO2eq/year\n",
      "[codecarbon INFO @ 10:59:05] Energy consumed for RAM : 0.024577 kWh. RAM Power : 54.0 W\n",
      "[codecarbon INFO @ 10:59:05] Delta energy consumed for CPU with cpu_load : 0.000232 kWh, power : 57.500364561500014 W\n",
      "[codecarbon INFO @ 10:59:05] Energy consumed for All CPU : 0.026673 kWh\n",
      "[codecarbon INFO @ 10:59:05] Energy consumed for all GPUs : 0.083852 kWh. Total GPU Power : 177.10907163283477 W\n",
      "[codecarbon INFO @ 10:59:05] 0.135102 kWh of electricity used since the beginning.\n"
     ]
    },
    {
     "name": "stdout",
     "output_type": "stream",
     "text": [
      "epoch=1; train_loss=0.1599; val_loss=0.9314; val_map=0.0250\n"
     ]
    },
    {
     "data": {
      "application/vnd.jupyter.widget-view+json": {
       "model_id": "38135c5640f545499a69fd5bc441dc26",
       "version_major": 2,
       "version_minor": 0
      },
      "text/plain": [
       "Train Epoch 2:   0%|          | 0/84 [00:00<?, ?it/s]"
      ]
     },
     "metadata": {},
     "output_type": "display_data"
    },
    {
     "name": "stderr",
     "output_type": "stream",
     "text": [
      "[codecarbon INFO @ 10:59:20] Energy consumed for RAM : 0.024794 kWh. RAM Power : 54.0 W\n",
      "[codecarbon INFO @ 10:59:20] Delta energy consumed for CPU with cpu_load : 0.000230 kWh, power : 57.081913868 W\n",
      "[codecarbon INFO @ 10:59:20] Energy consumed for All CPU : 0.026903 kWh\n",
      "[codecarbon INFO @ 10:59:20] Energy consumed for all GPUs : 0.084585 kWh. Total GPU Power : 175.93353658478526 W\n",
      "[codecarbon INFO @ 10:59:20] 0.136282 kWh of electricity used since the beginning.\n"
     ]
    },
    {
     "name": "stdout",
     "output_type": "stream",
     "text": [
      "epoch=2; train_loss=0.0554; val_loss=0.7195; val_map=0.0357\n"
     ]
    },
    {
     "data": {
      "application/vnd.jupyter.widget-view+json": {
       "model_id": "0878b15bb59b40d395a4a101264dc98b",
       "version_major": 2,
       "version_minor": 0
      },
      "text/plain": [
       "Train Epoch 3:   0%|          | 0/84 [00:00<?, ?it/s]"
      ]
     },
     "metadata": {},
     "output_type": "display_data"
    },
    {
     "name": "stderr",
     "output_type": "stream",
     "text": [
      "[codecarbon INFO @ 10:59:35] Energy consumed for RAM : 0.025012 kWh. RAM Power : 54.0 W\n",
      "[codecarbon INFO @ 10:59:35] Delta energy consumed for CPU with cpu_load : 0.000232 kWh, power : 57.575440748000005 W\n",
      "[codecarbon INFO @ 10:59:35] Energy consumed for All CPU : 0.027134 kWh\n",
      "[codecarbon INFO @ 10:59:35] Energy consumed for all GPUs : 0.085319 kWh. Total GPU Power : 176.25242610615183 W\n",
      "[codecarbon INFO @ 10:59:35] 0.137465 kWh of electricity used since the beginning.\n",
      "[codecarbon INFO @ 10:59:50] Energy consumed for RAM : 0.025229 kWh. RAM Power : 54.0 W\n",
      "[codecarbon INFO @ 10:59:50] Delta energy consumed for CPU with cpu_load : 0.000230 kWh, power : 57.074919419 W\n",
      "[codecarbon INFO @ 10:59:50] Energy consumed for All CPU : 0.027364 kWh\n",
      "[codecarbon INFO @ 10:59:50] Energy consumed for all GPUs : 0.086056 kWh. Total GPU Power : 176.98934359444598 W\n",
      "[codecarbon INFO @ 10:59:50] 0.138650 kWh of electricity used since the beginning.\n"
     ]
    },
    {
     "name": "stdout",
     "output_type": "stream",
     "text": [
      "epoch=3; train_loss=0.0472; val_loss=0.9566; val_map=0.0336\n"
     ]
    },
    {
     "data": {
      "application/vnd.jupyter.widget-view+json": {
       "model_id": "2c316dad917a41ed98cb716d533b76e9",
       "version_major": 2,
       "version_minor": 0
      },
      "text/plain": [
       "Train Epoch 1:   0%|          | 0/84 [00:00<?, ?it/s]"
      ]
     },
     "metadata": {},
     "output_type": "display_data"
    },
    {
     "name": "stderr",
     "output_type": "stream",
     "text": [
      "[codecarbon INFO @ 11:00:05] Energy consumed for RAM : 0.025447 kWh. RAM Power : 54.0 W\n",
      "[codecarbon INFO @ 11:00:05] Delta energy consumed for CPU with cpu_load : 0.000228 kWh, power : 56.573130907999996 W\n",
      "[codecarbon INFO @ 11:00:05] Energy consumed for All CPU : 0.027592 kWh\n",
      "[codecarbon INFO @ 11:00:05] Energy consumed for all GPUs : 0.086795 kWh. Total GPU Power : 177.33459406481717 W\n",
      "[codecarbon INFO @ 11:00:05] 0.139834 kWh of electricity used since the beginning.\n",
      "[codecarbon INFO @ 11:00:20] Energy consumed for RAM : 0.025664 kWh. RAM Power : 54.0 W\n",
      "[codecarbon INFO @ 11:00:20] Delta energy consumed for CPU with cpu_load : 0.000229 kWh, power : 56.80500747950001 W\n",
      "[codecarbon INFO @ 11:00:20] Energy consumed for All CPU : 0.027821 kWh\n",
      "[codecarbon INFO @ 11:00:20] Energy consumed for all GPUs : 0.087574 kWh. Total GPU Power : 186.88708987969048 W\n",
      "[codecarbon INFO @ 11:00:20] 0.141058 kWh of electricity used since the beginning.\n"
     ]
    },
    {
     "name": "stdout",
     "output_type": "stream",
     "text": [
      "epoch=1; train_loss=0.1651; val_loss=1.2670; val_map=0.0337\n"
     ]
    },
    {
     "data": {
      "application/vnd.jupyter.widget-view+json": {
       "model_id": "ddf433592b2747db9510c0a39ea70992",
       "version_major": 2,
       "version_minor": 0
      },
      "text/plain": [
       "Train Epoch 2:   0%|          | 0/84 [00:00<?, ?it/s]"
      ]
     },
     "metadata": {},
     "output_type": "display_data"
    },
    {
     "name": "stderr",
     "output_type": "stream",
     "text": [
      "[codecarbon INFO @ 11:00:35] Energy consumed for RAM : 0.025881 kWh. RAM Power : 54.0 W\n",
      "[codecarbon INFO @ 11:00:35] Delta energy consumed for CPU with cpu_load : 0.000228 kWh, power : 56.52884571950002 W\n",
      "[codecarbon INFO @ 11:00:35] Energy consumed for All CPU : 0.028048 kWh\n",
      "[codecarbon INFO @ 11:00:35] Energy consumed for all GPUs : 0.088328 kWh. Total GPU Power : 181.17709517816135 W\n",
      "[codecarbon INFO @ 11:00:35] 0.142258 kWh of electricity used since the beginning.\n",
      "[codecarbon INFO @ 11:00:50] Energy consumed for RAM : 0.026099 kWh. RAM Power : 54.0 W\n",
      "[codecarbon INFO @ 11:00:50] Delta energy consumed for CPU with cpu_load : 0.000232 kWh, power : 57.68636213900001 W\n",
      "[codecarbon INFO @ 11:00:50] Energy consumed for All CPU : 0.028280 kWh\n",
      "[codecarbon INFO @ 11:00:50] Energy consumed for all GPUs : 0.089090 kWh. Total GPU Power : 182.92802623297158 W\n",
      "[codecarbon INFO @ 11:00:50] 0.143469 kWh of electricity used since the beginning.\n",
      "[codecarbon INFO @ 11:00:50] 0.026698 g.CO2eq/s mean an estimation of 841.9556356952305 kg.CO2eq/year\n"
     ]
    },
    {
     "name": "stdout",
     "output_type": "stream",
     "text": [
      "epoch=2; train_loss=0.0593; val_loss=1.1596; val_map=0.0330\n"
     ]
    },
    {
     "data": {
      "application/vnd.jupyter.widget-view+json": {
       "model_id": "9d1cd809cd8b4c17b7bfba6332724a32",
       "version_major": 2,
       "version_minor": 0
      },
      "text/plain": [
       "Train Epoch 3:   0%|          | 0/84 [00:00<?, ?it/s]"
      ]
     },
     "metadata": {},
     "output_type": "display_data"
    },
    {
     "name": "stderr",
     "output_type": "stream",
     "text": [
      "[codecarbon INFO @ 11:01:05] Energy consumed for RAM : 0.026316 kWh. RAM Power : 54.0 W\n",
      "[codecarbon INFO @ 11:01:05] Delta energy consumed for CPU with cpu_load : 0.000231 kWh, power : 57.26334867050001 W\n",
      "[codecarbon INFO @ 11:01:05] Energy consumed for All CPU : 0.028511 kWh\n",
      "[codecarbon INFO @ 11:01:05] Energy consumed for all GPUs : 0.089856 kWh. Total GPU Power : 183.82707206825526 W\n",
      "[codecarbon INFO @ 11:01:05] 0.144683 kWh of electricity used since the beginning.\n",
      "[codecarbon INFO @ 11:01:20] Energy consumed for RAM : 0.026533 kWh. RAM Power : 54.0 W\n",
      "[codecarbon INFO @ 11:01:20] Delta energy consumed for CPU with cpu_load : 0.000230 kWh, power : 57.21243575600001 W\n",
      "[codecarbon INFO @ 11:01:20] Energy consumed for All CPU : 0.028741 kWh\n",
      "[codecarbon INFO @ 11:01:20] Energy consumed for all GPUs : 0.090637 kWh. Total GPU Power : 187.3957660223338 W\n",
      "[codecarbon INFO @ 11:01:20] 0.145911 kWh of electricity used since the beginning.\n"
     ]
    },
    {
     "name": "stdout",
     "output_type": "stream",
     "text": [
      "epoch=3; train_loss=0.0414; val_loss=1.3756; val_map=0.0380\n"
     ]
    },
    {
     "data": {
      "application/vnd.jupyter.widget-view+json": {
       "model_id": "4c29c0237ede4e9da619eb73e1e5e994",
       "version_major": 2,
       "version_minor": 0
      },
      "text/plain": [
       "Train Epoch 1:   0%|          | 0/84 [00:00<?, ?it/s]"
      ]
     },
     "metadata": {},
     "output_type": "display_data"
    },
    {
     "name": "stderr",
     "output_type": "stream",
     "text": [
      "[codecarbon INFO @ 11:01:35] Energy consumed for RAM : 0.026751 kWh. RAM Power : 54.0 W\n",
      "[codecarbon INFO @ 11:01:35] Delta energy consumed for CPU with cpu_load : 0.000228 kWh, power : 56.62624107350001 W\n",
      "[codecarbon INFO @ 11:01:35] Energy consumed for All CPU : 0.028969 kWh\n",
      "[codecarbon INFO @ 11:01:35] Energy consumed for all GPUs : 0.091357 kWh. Total GPU Power : 172.85449345386468 W\n",
      "[codecarbon INFO @ 11:01:35] 0.147077 kWh of electricity used since the beginning.\n",
      "[codecarbon INFO @ 11:01:50] Energy consumed for RAM : 0.026968 kWh. RAM Power : 54.0 W\n",
      "[codecarbon INFO @ 11:01:50] Delta energy consumed for CPU with cpu_load : 0.000228 kWh, power : 56.644669802 W\n",
      "[codecarbon INFO @ 11:01:50] Energy consumed for All CPU : 0.029197 kWh\n",
      "[codecarbon INFO @ 11:01:50] Energy consumed for all GPUs : 0.092084 kWh. Total GPU Power : 174.50088869134288 W\n",
      "[codecarbon INFO @ 11:01:50] 0.148249 kWh of electricity used since the beginning.\n"
     ]
    },
    {
     "name": "stdout",
     "output_type": "stream",
     "text": [
      "epoch=1; train_loss=0.4002; val_loss=0.3895; val_map=0.0251\n"
     ]
    },
    {
     "data": {
      "application/vnd.jupyter.widget-view+json": {
       "model_id": "5b5d7e16fc7e4452826308263e059639",
       "version_major": 2,
       "version_minor": 0
      },
      "text/plain": [
       "Train Epoch 2:   0%|          | 0/84 [00:00<?, ?it/s]"
      ]
     },
     "metadata": {},
     "output_type": "display_data"
    },
    {
     "name": "stderr",
     "output_type": "stream",
     "text": [
      "[codecarbon INFO @ 11:02:05] Energy consumed for RAM : 0.027186 kWh. RAM Power : 54.0 W\n",
      "[codecarbon INFO @ 11:02:05] Delta energy consumed for CPU with cpu_load : 0.000229 kWh, power : 56.87724214550001 W\n",
      "[codecarbon INFO @ 11:02:05] Energy consumed for All CPU : 0.029426 kWh\n",
      "[codecarbon INFO @ 11:02:05] Energy consumed for all GPUs : 0.092802 kWh. Total GPU Power : 172.3109657237523 W\n",
      "[codecarbon INFO @ 11:02:05] 0.149413 kWh of electricity used since the beginning.\n",
      "[codecarbon INFO @ 11:02:20] Energy consumed for RAM : 0.027403 kWh. RAM Power : 54.0 W\n",
      "[codecarbon INFO @ 11:02:20] Delta energy consumed for CPU with cpu_load : 0.000229 kWh, power : 56.81819561600001 W\n",
      "[codecarbon INFO @ 11:02:20] Energy consumed for All CPU : 0.029655 kWh\n",
      "[codecarbon INFO @ 11:02:20] Energy consumed for all GPUs : 0.093533 kWh. Total GPU Power : 175.58349980594366 W\n",
      "[codecarbon INFO @ 11:02:20] 0.150591 kWh of electricity used since the beginning.\n"
     ]
    },
    {
     "name": "stdout",
     "output_type": "stream",
     "text": [
      "epoch=2; train_loss=0.2022; val_loss=0.4076; val_map=0.0469\n"
     ]
    },
    {
     "data": {
      "application/vnd.jupyter.widget-view+json": {
       "model_id": "9332c1e8888c40238501d53de629ab14",
       "version_major": 2,
       "version_minor": 0
      },
      "text/plain": [
       "Train Epoch 3:   0%|          | 0/84 [00:00<?, ?it/s]"
      ]
     },
     "metadata": {},
     "output_type": "display_data"
    },
    {
     "name": "stderr",
     "output_type": "stream",
     "text": [
      "[codecarbon INFO @ 11:02:35] Energy consumed for RAM : 0.027620 kWh. RAM Power : 54.0 W\n",
      "[codecarbon INFO @ 11:02:35] Delta energy consumed for CPU with cpu_load : 0.000228 kWh, power : 56.625779945 W\n",
      "[codecarbon INFO @ 11:02:35] Energy consumed for All CPU : 0.029883 kWh\n",
      "[codecarbon INFO @ 11:02:35] Energy consumed for all GPUs : 0.094261 kWh. Total GPU Power : 174.80694467966578 W\n",
      "[codecarbon INFO @ 11:02:35] 0.151764 kWh of electricity used since the beginning.\n",
      "[codecarbon INFO @ 11:02:50] Energy consumed for RAM : 0.027838 kWh. RAM Power : 54.0 W\n",
      "[codecarbon INFO @ 11:02:50] Delta energy consumed for CPU with cpu_load : 0.000233 kWh, power : 57.7706802995 W\n",
      "[codecarbon INFO @ 11:02:50] Energy consumed for All CPU : 0.030115 kWh\n",
      "[codecarbon INFO @ 11:02:50] Energy consumed for all GPUs : 0.094989 kWh. Total GPU Power : 174.6448667670677 W\n",
      "[codecarbon INFO @ 11:02:50] 0.152942 kWh of electricity used since the beginning.\n",
      "[codecarbon INFO @ 11:02:50] 0.026468 g.CO2eq/s mean an estimation of 834.7079281344782 kg.CO2eq/year\n"
     ]
    },
    {
     "name": "stdout",
     "output_type": "stream",
     "text": [
      "epoch=3; train_loss=0.1555; val_loss=0.6912; val_map=0.0360\n"
     ]
    },
    {
     "data": {
      "application/vnd.jupyter.widget-view+json": {
       "model_id": "51a9e316b8754c7a9300e27d1616c35e",
       "version_major": 2,
       "version_minor": 0
      },
      "text/plain": [
       "Train Epoch 1:   0%|          | 0/84 [00:00<?, ?it/s]"
      ]
     },
     "metadata": {},
     "output_type": "display_data"
    },
    {
     "name": "stderr",
     "output_type": "stream",
     "text": [
      "[codecarbon INFO @ 11:03:05] Energy consumed for RAM : 0.028055 kWh. RAM Power : 54.0 W\n",
      "[codecarbon INFO @ 11:03:05] Delta energy consumed for CPU with cpu_load : 0.000231 kWh, power : 57.277857098 W\n",
      "[codecarbon INFO @ 11:03:05] Energy consumed for All CPU : 0.030346 kWh\n",
      "[codecarbon INFO @ 11:03:05] Energy consumed for all GPUs : 0.095731 kWh. Total GPU Power : 178.23554354714173 W\n",
      "[codecarbon INFO @ 11:03:05] 0.154132 kWh of electricity used since the beginning.\n"
     ]
    },
    {
     "name": "stdout",
     "output_type": "stream",
     "text": [
      "epoch=1; train_loss=0.1940; val_loss=0.2554; val_map=0.0257\n"
     ]
    },
    {
     "data": {
      "application/vnd.jupyter.widget-view+json": {
       "model_id": "4b8bb8f241f2439cb09697c6d98d1177",
       "version_major": 2,
       "version_minor": 0
      },
      "text/plain": [
       "Train Epoch 2:   0%|          | 0/84 [00:00<?, ?it/s]"
      ]
     },
     "metadata": {},
     "output_type": "display_data"
    },
    {
     "name": "stderr",
     "output_type": "stream",
     "text": [
      "[codecarbon INFO @ 11:03:20] Energy consumed for RAM : 0.028272 kWh. RAM Power : 54.0 W\n",
      "[codecarbon INFO @ 11:03:20] Delta energy consumed for CPU with cpu_load : 0.000231 kWh, power : 57.46347138350003 W\n",
      "[codecarbon INFO @ 11:03:20] Energy consumed for All CPU : 0.030577 kWh\n",
      "[codecarbon INFO @ 11:03:20] Energy consumed for all GPUs : 0.096506 kWh. Total GPU Power : 186.0366326869304 W\n",
      "[codecarbon INFO @ 11:03:20] 0.155355 kWh of electricity used since the beginning.\n",
      "[codecarbon INFO @ 11:03:35] Energy consumed for RAM : 0.028490 kWh. RAM Power : 54.0 W\n",
      "[codecarbon INFO @ 11:03:35] Delta energy consumed for CPU with cpu_load : 0.000230 kWh, power : 57.257882066 W\n",
      "[codecarbon INFO @ 11:03:35] Energy consumed for All CPU : 0.030808 kWh\n",
      "[codecarbon INFO @ 11:03:35] Energy consumed for all GPUs : 0.097249 kWh. Total GPU Power : 178.37059249812935 W\n",
      "[codecarbon INFO @ 11:03:35] 0.156546 kWh of electricity used since the beginning.\n"
     ]
    },
    {
     "name": "stdout",
     "output_type": "stream",
     "text": [
      "epoch=2; train_loss=0.0906; val_loss=0.6455; val_map=0.0185\n"
     ]
    },
    {
     "data": {
      "application/vnd.jupyter.widget-view+json": {
       "model_id": "c79ed1e197fa4d209751f0804c455bf8",
       "version_major": 2,
       "version_minor": 0
      },
      "text/plain": [
       "Train Epoch 3:   0%|          | 0/84 [00:00<?, ?it/s]"
      ]
     },
     "metadata": {},
     "output_type": "display_data"
    },
    {
     "name": "stderr",
     "output_type": "stream",
     "text": [
      "[codecarbon INFO @ 11:03:50] Energy consumed for RAM : 0.028707 kWh. RAM Power : 54.0 W\n",
      "[codecarbon INFO @ 11:03:50] Delta energy consumed for CPU with cpu_load : 0.000229 kWh, power : 56.928227635999995 W\n",
      "[codecarbon INFO @ 11:03:50] Energy consumed for All CPU : 0.031037 kWh\n",
      "[codecarbon INFO @ 11:03:50] Energy consumed for all GPUs : 0.098032 kWh. Total GPU Power : 187.9557613904092 W\n",
      "[codecarbon INFO @ 11:03:50] 0.157776 kWh of electricity used since the beginning.\n",
      "[codecarbon INFO @ 11:04:05] Energy consumed for RAM : 0.028924 kWh. RAM Power : 54.0 W\n",
      "[codecarbon INFO @ 11:04:05] Delta energy consumed for CPU with cpu_load : 0.000228 kWh, power : 56.64745707950001 W\n",
      "[codecarbon INFO @ 11:04:05] Energy consumed for All CPU : 0.031265 kWh\n",
      "[codecarbon INFO @ 11:04:05] Energy consumed for all GPUs : 0.098798 kWh. Total GPU Power : 183.9930899861199 W\n",
      "[codecarbon INFO @ 11:04:05] 0.158988 kWh of electricity used since the beginning.\n"
     ]
    },
    {
     "name": "stdout",
     "output_type": "stream",
     "text": [
      "epoch=3; train_loss=0.0533; val_loss=0.6171; val_map=0.0356\n"
     ]
    },
    {
     "data": {
      "application/vnd.jupyter.widget-view+json": {
       "model_id": "5086d032b44449c8a8d3ecc4641f82b2",
       "version_major": 2,
       "version_minor": 0
      },
      "text/plain": [
       "Train Epoch 1:   0%|          | 0/84 [00:00<?, ?it/s]"
      ]
     },
     "metadata": {},
     "output_type": "display_data"
    },
    {
     "name": "stderr",
     "output_type": "stream",
     "text": [
      "[codecarbon INFO @ 11:04:20] Energy consumed for RAM : 0.029142 kWh. RAM Power : 54.0 W\n",
      "[codecarbon INFO @ 11:04:20] Delta energy consumed for CPU with cpu_load : 0.000227 kWh, power : 56.44227864799999 W\n",
      "[codecarbon INFO @ 11:04:20] Energy consumed for All CPU : 0.031492 kWh\n",
      "[codecarbon INFO @ 11:04:20] Energy consumed for all GPUs : 0.099544 kWh. Total GPU Power : 178.93402733545557 W\n",
      "[codecarbon INFO @ 11:04:20] 0.160178 kWh of electricity used since the beginning.\n",
      "[codecarbon INFO @ 11:04:35] Energy consumed for RAM : 0.029359 kWh. RAM Power : 54.0 W\n",
      "[codecarbon INFO @ 11:04:35] Delta energy consumed for CPU with cpu_load : 0.000227 kWh, power : 56.33371382240001 W\n",
      "[codecarbon INFO @ 11:04:35] Energy consumed for All CPU : 0.031719 kWh\n",
      "[codecarbon INFO @ 11:04:35] Energy consumed for all GPUs : 0.100294 kWh. Total GPU Power : 180.22314813528914 W\n",
      "[codecarbon INFO @ 11:04:35] 0.161373 kWh of electricity used since the beginning.\n"
     ]
    },
    {
     "name": "stdout",
     "output_type": "stream",
     "text": [
      "epoch=1; train_loss=0.5412; val_loss=0.8777; val_map=0.0336\n"
     ]
    },
    {
     "data": {
      "application/vnd.jupyter.widget-view+json": {
       "model_id": "14afa97aee784c2cb7ba19913c179df7",
       "version_major": 2,
       "version_minor": 0
      },
      "text/plain": [
       "Train Epoch 2:   0%|          | 0/84 [00:00<?, ?it/s]"
      ]
     },
     "metadata": {},
     "output_type": "display_data"
    },
    {
     "name": "stderr",
     "output_type": "stream",
     "text": [
      "[codecarbon INFO @ 11:04:50] Energy consumed for RAM : 0.029576 kWh. RAM Power : 54.0 W\n",
      "[codecarbon INFO @ 11:04:50] Delta energy consumed for CPU with cpu_load : 0.000229 kWh, power : 56.8891437275 W\n",
      "[codecarbon INFO @ 11:04:50] Energy consumed for All CPU : 0.031948 kWh\n",
      "[codecarbon INFO @ 11:04:50] Energy consumed for all GPUs : 0.101048 kWh. Total GPU Power : 180.42764683567583 W\n",
      "[codecarbon INFO @ 11:04:50] 0.162572 kWh of electricity used since the beginning.\n",
      "[codecarbon INFO @ 11:04:50] 0.026903 g.CO2eq/s mean an estimation of 848.410748074419 kg.CO2eq/year\n",
      "[codecarbon INFO @ 11:05:05] Energy consumed for RAM : 0.029793 kWh. RAM Power : 54.0 W\n",
      "[codecarbon INFO @ 11:05:05] Delta energy consumed for CPU with cpu_load : 0.000228 kWh, power : 56.883084167000014 W\n",
      "[codecarbon INFO @ 11:05:05] Energy consumed for All CPU : 0.032176 kWh\n",
      "[codecarbon INFO @ 11:05:05] Energy consumed for all GPUs : 0.101796 kWh. Total GPU Power : 180.0080374747159 W\n",
      "[codecarbon INFO @ 11:05:05] 0.163765 kWh of electricity used since the beginning.\n"
     ]
    },
    {
     "name": "stdout",
     "output_type": "stream",
     "text": [
      "epoch=2; train_loss=0.3007; val_loss=0.8997; val_map=0.0096\n"
     ]
    },
    {
     "data": {
      "application/vnd.jupyter.widget-view+json": {
       "model_id": "a366bf28a4e14e86a9a541fc8c59be29",
       "version_major": 2,
       "version_minor": 0
      },
      "text/plain": [
       "Train Epoch 3:   0%|          | 0/84 [00:00<?, ?it/s]"
      ]
     },
     "metadata": {},
     "output_type": "display_data"
    },
    {
     "name": "stderr",
     "output_type": "stream",
     "text": [
      "[codecarbon INFO @ 11:05:20] Energy consumed for RAM : 0.030011 kWh. RAM Power : 54.0 W\n",
      "[codecarbon INFO @ 11:05:20] Delta energy consumed for CPU with cpu_load : 0.000229 kWh, power : 56.78712140150001 W\n",
      "[codecarbon INFO @ 11:05:20] Energy consumed for All CPU : 0.032405 kWh\n",
      "[codecarbon INFO @ 11:05:20] Energy consumed for all GPUs : 0.102553 kWh. Total GPU Power : 181.90904394462248 W\n",
      "[codecarbon INFO @ 11:05:20] 0.164969 kWh of electricity used since the beginning.\n",
      "[codecarbon INFO @ 11:05:35] Energy consumed for RAM : 0.030228 kWh. RAM Power : 54.0 W\n",
      "[codecarbon INFO @ 11:05:35] Delta energy consumed for CPU with cpu_load : 0.000229 kWh, power : 56.928140506999995 W\n",
      "[codecarbon INFO @ 11:05:35] Energy consumed for All CPU : 0.032634 kWh\n",
      "[codecarbon INFO @ 11:05:35] Energy consumed for all GPUs : 0.103305 kWh. Total GPU Power : 180.56519988582644 W\n",
      "[codecarbon INFO @ 11:05:35] 0.166168 kWh of electricity used since the beginning.\n"
     ]
    },
    {
     "name": "stdout",
     "output_type": "stream",
     "text": [
      "epoch=3; train_loss=0.2574; val_loss=1.1598; val_map=0.0166\n"
     ]
    },
    {
     "data": {
      "application/vnd.jupyter.widget-view+json": {
       "model_id": "19ea6a92d48e425f851f9496d89397b7",
       "version_major": 2,
       "version_minor": 0
      },
      "text/plain": [
       "Train Epoch 1:   0%|          | 0/84 [00:00<?, ?it/s]"
      ]
     },
     "metadata": {},
     "output_type": "display_data"
    },
    {
     "name": "stderr",
     "output_type": "stream",
     "text": [
      "[codecarbon INFO @ 11:05:50] Energy consumed for RAM : 0.030445 kWh. RAM Power : 54.0 W\n",
      "[codecarbon INFO @ 11:05:50] Delta energy consumed for CPU with cpu_load : 0.000230 kWh, power : 57.10326551300002 W\n",
      "[codecarbon INFO @ 11:05:50] Energy consumed for All CPU : 0.032864 kWh\n",
      "[codecarbon INFO @ 11:05:50] Energy consumed for all GPUs : 0.104059 kWh. Total GPU Power : 180.80951862171813 W\n",
      "[codecarbon INFO @ 11:05:50] 0.167368 kWh of electricity used since the beginning.\n"
     ]
    },
    {
     "name": "stdout",
     "output_type": "stream",
     "text": [
      "epoch=1; train_loss=0.1403; val_loss=0.5768; val_map=0.0277\n"
     ]
    },
    {
     "data": {
      "application/vnd.jupyter.widget-view+json": {
       "model_id": "2ae38bf768904a2bbafd87c741975150",
       "version_major": 2,
       "version_minor": 0
      },
      "text/plain": [
       "Train Epoch 2:   0%|          | 0/84 [00:00<?, ?it/s]"
      ]
     },
     "metadata": {},
     "output_type": "display_data"
    },
    {
     "name": "stderr",
     "output_type": "stream",
     "text": [
      "[codecarbon INFO @ 11:06:05] Energy consumed for RAM : 0.030663 kWh. RAM Power : 54.0 W\n",
      "[codecarbon INFO @ 11:06:05] Delta energy consumed for CPU with cpu_load : 0.000228 kWh, power : 56.61963209000001 W\n",
      "[codecarbon INFO @ 11:06:05] Energy consumed for All CPU : 0.033092 kWh\n",
      "[codecarbon INFO @ 11:06:05] Energy consumed for all GPUs : 0.104825 kWh. Total GPU Power : 183.91480074427514 W\n",
      "[codecarbon INFO @ 11:06:05] 0.168579 kWh of electricity used since the beginning.\n",
      "[codecarbon INFO @ 11:06:20] Energy consumed for RAM : 0.030880 kWh. RAM Power : 54.0 W\n",
      "[codecarbon INFO @ 11:06:20] Delta energy consumed for CPU with cpu_load : 0.000228 kWh, power : 56.74958748200002 W\n",
      "[codecarbon INFO @ 11:06:20] Energy consumed for All CPU : 0.033320 kWh\n",
      "[codecarbon INFO @ 11:06:20] Energy consumed for all GPUs : 0.105594 kWh. Total GPU Power : 184.732723441579 W\n",
      "[codecarbon INFO @ 11:06:20] 0.169795 kWh of electricity used since the beginning.\n"
     ]
    },
    {
     "name": "stdout",
     "output_type": "stream",
     "text": [
      "epoch=2; train_loss=0.0513; val_loss=1.1141; val_map=0.0375\n"
     ]
    },
    {
     "data": {
      "application/vnd.jupyter.widget-view+json": {
       "model_id": "e33cc44baa0e475b8e3a99826f4dc144",
       "version_major": 2,
       "version_minor": 0
      },
      "text/plain": [
       "Train Epoch 3:   0%|          | 0/84 [00:00<?, ?it/s]"
      ]
     },
     "metadata": {},
     "output_type": "display_data"
    },
    {
     "name": "stderr",
     "output_type": "stream",
     "text": [
      "[codecarbon INFO @ 11:06:35] Energy consumed for RAM : 0.031097 kWh. RAM Power : 54.0 W\n",
      "[codecarbon INFO @ 11:06:35] Delta energy consumed for CPU with cpu_load : 0.000228 kWh, power : 56.75436036199999 W\n",
      "[codecarbon INFO @ 11:06:35] Energy consumed for All CPU : 0.033549 kWh\n",
      "[codecarbon INFO @ 11:06:35] Energy consumed for all GPUs : 0.106370 kWh. Total GPU Power : 186.22374923739756 W\n",
      "[codecarbon INFO @ 11:06:35] 0.171016 kWh of electricity used since the beginning.\n",
      "[codecarbon INFO @ 11:06:50] Energy consumed for RAM : 0.031315 kWh. RAM Power : 54.0 W\n",
      "[codecarbon INFO @ 11:06:50] Delta energy consumed for CPU with cpu_load : 0.000235 kWh, power : 58.4311195685 W\n",
      "[codecarbon INFO @ 11:06:50] Energy consumed for All CPU : 0.033784 kWh\n",
      "[codecarbon INFO @ 11:06:50] Energy consumed for all GPUs : 0.107134 kWh. Total GPU Power : 183.46096402377825 W\n",
      "[codecarbon INFO @ 11:06:50] 0.172233 kWh of electricity used since the beginning.\n",
      "[codecarbon INFO @ 11:06:50] 0.027003 g.CO2eq/s mean an estimation of 851.5678172710935 kg.CO2eq/year\n"
     ]
    },
    {
     "name": "stdout",
     "output_type": "stream",
     "text": [
      "epoch=3; train_loss=0.0415; val_loss=1.2532; val_map=0.0443\n"
     ]
    },
    {
     "data": {
      "application/vnd.jupyter.widget-view+json": {
       "model_id": "a9122d9bc833497d840245654da6fc16",
       "version_major": 2,
       "version_minor": 0
      },
      "text/plain": [
       "Train Epoch 1:   0%|          | 0/84 [00:00<?, ?it/s]"
      ]
     },
     "metadata": {},
     "output_type": "display_data"
    },
    {
     "name": "stderr",
     "output_type": "stream",
     "text": [
      "[codecarbon INFO @ 11:07:05] Energy consumed for RAM : 0.031532 kWh. RAM Power : 54.0 W\n",
      "[codecarbon INFO @ 11:07:05] Delta energy consumed for CPU with cpu_load : 0.000230 kWh, power : 57.181585065500016 W\n",
      "[codecarbon INFO @ 11:07:05] Energy consumed for All CPU : 0.034014 kWh\n",
      "[codecarbon INFO @ 11:07:05] Energy consumed for all GPUs : 0.107878 kWh. Total GPU Power : 178.61495192495445 W\n",
      "[codecarbon INFO @ 11:07:05] 0.173424 kWh of electricity used since the beginning.\n",
      "[codecarbon INFO @ 11:07:20] Energy consumed for RAM : 0.031749 kWh. RAM Power : 54.0 W\n",
      "[codecarbon INFO @ 11:07:20] Delta energy consumed for CPU with cpu_load : 0.000230 kWh, power : 57.060780644000005 W\n",
      "[codecarbon INFO @ 11:07:20] Energy consumed for All CPU : 0.034244 kWh\n",
      "[codecarbon INFO @ 11:07:20] Energy consumed for all GPUs : 0.108610 kWh. Total GPU Power : 175.79402231948384 W\n",
      "[codecarbon INFO @ 11:07:20] 0.174603 kWh of electricity used since the beginning.\n"
     ]
    },
    {
     "name": "stdout",
     "output_type": "stream",
     "text": [
      "epoch=1; train_loss=0.1314; val_loss=0.7987; val_map=0.0306\n"
     ]
    },
    {
     "data": {
      "application/vnd.jupyter.widget-view+json": {
       "model_id": "fc2bc82ef59c4ceba67b7a85a75ab7ca",
       "version_major": 2,
       "version_minor": 0
      },
      "text/plain": [
       "Train Epoch 2:   0%|          | 0/84 [00:00<?, ?it/s]"
      ]
     },
     "metadata": {},
     "output_type": "display_data"
    },
    {
     "name": "stderr",
     "output_type": "stream",
     "text": [
      "[codecarbon INFO @ 11:07:35] Energy consumed for RAM : 0.031967 kWh. RAM Power : 54.0 W\n",
      "[codecarbon INFO @ 11:07:35] Delta energy consumed for CPU with cpu_load : 0.000232 kWh, power : 57.549772626500015 W\n",
      "[codecarbon INFO @ 11:07:35] Energy consumed for All CPU : 0.034476 kWh\n",
      "[codecarbon INFO @ 11:07:35] Energy consumed for all GPUs : 0.109360 kWh. Total GPU Power : 179.98205549269397 W\n",
      "[codecarbon INFO @ 11:07:35] 0.175802 kWh of electricity used since the beginning.\n",
      "[codecarbon INFO @ 11:07:50] Energy consumed for RAM : 0.032184 kWh. RAM Power : 54.0 W\n",
      "[codecarbon INFO @ 11:07:50] Delta energy consumed for CPU with cpu_load : 0.000230 kWh, power : 57.25647568550001 W\n",
      "[codecarbon INFO @ 11:07:50] Energy consumed for All CPU : 0.034706 kWh\n",
      "[codecarbon INFO @ 11:07:50] Energy consumed for all GPUs : 0.110093 kWh. Total GPU Power : 176.0709715013609 W\n",
      "[codecarbon INFO @ 11:07:50] 0.176983 kWh of electricity used since the beginning.\n"
     ]
    },
    {
     "name": "stdout",
     "output_type": "stream",
     "text": [
      "epoch=2; train_loss=0.0625; val_loss=0.8224; val_map=0.0317\n"
     ]
    },
    {
     "data": {
      "application/vnd.jupyter.widget-view+json": {
       "model_id": "9b32d9cffc0b489b93ebc756e011c424",
       "version_major": 2,
       "version_minor": 0
      },
      "text/plain": [
       "Train Epoch 3:   0%|          | 0/84 [00:00<?, ?it/s]"
      ]
     },
     "metadata": {},
     "output_type": "display_data"
    },
    {
     "name": "stderr",
     "output_type": "stream",
     "text": [
      "[codecarbon INFO @ 11:08:05] Energy consumed for RAM : 0.032401 kWh. RAM Power : 54.0 W\n",
      "[codecarbon INFO @ 11:08:05] Delta energy consumed for CPU with cpu_load : 0.000229 kWh, power : 56.813276954 W\n",
      "[codecarbon INFO @ 11:08:05] Energy consumed for All CPU : 0.034935 kWh\n",
      "[codecarbon INFO @ 11:08:05] Energy consumed for all GPUs : 0.110842 kWh. Total GPU Power : 179.8043872848509 W\n",
      "[codecarbon INFO @ 11:08:05] 0.178178 kWh of electricity used since the beginning.\n",
      "[codecarbon INFO @ 11:08:20] Energy consumed for RAM : 0.032619 kWh. RAM Power : 54.0 W\n",
      "[codecarbon INFO @ 11:08:20] Delta energy consumed for CPU with cpu_load : 0.000227 kWh, power : 56.46953329850001 W\n",
      "[codecarbon INFO @ 11:08:20] Energy consumed for All CPU : 0.035162 kWh\n",
      "[codecarbon INFO @ 11:08:20] Energy consumed for all GPUs : 0.111582 kWh. Total GPU Power : 177.69012738575324 W\n",
      "[codecarbon INFO @ 11:08:20] 0.179363 kWh of electricity used since the beginning.\n"
     ]
    },
    {
     "name": "stdout",
     "output_type": "stream",
     "text": [
      "epoch=3; train_loss=0.0534; val_loss=0.8587; val_map=0.0470\n"
     ]
    },
    {
     "data": {
      "application/vnd.jupyter.widget-view+json": {
       "model_id": "9638d62285f146789fce7ebffc82d8b0",
       "version_major": 2,
       "version_minor": 0
      },
      "text/plain": [
       "Train Epoch 1:   0%|          | 0/84 [00:00<?, ?it/s]"
      ]
     },
     "metadata": {},
     "output_type": "display_data"
    },
    {
     "name": "stderr",
     "output_type": "stream",
     "text": [
      "[codecarbon INFO @ 11:08:35] Energy consumed for RAM : 0.032836 kWh. RAM Power : 54.0 W\n",
      "[codecarbon INFO @ 11:08:35] Delta energy consumed for CPU with cpu_load : 0.000227 kWh, power : 56.387361705500005 W\n",
      "[codecarbon INFO @ 11:08:35] Energy consumed for All CPU : 0.035389 kWh\n",
      "[codecarbon INFO @ 11:08:35] Energy consumed for all GPUs : 0.112334 kWh. Total GPU Power : 180.42423936303592 W\n",
      "[codecarbon INFO @ 11:08:35] 0.180559 kWh of electricity used since the beginning.\n",
      "[codecarbon INFO @ 11:08:50] Energy consumed for RAM : 0.033053 kWh. RAM Power : 54.0 W\n",
      "[codecarbon INFO @ 11:08:50] Delta energy consumed for CPU with cpu_load : 0.000232 kWh, power : 57.7076166695 W\n",
      "[codecarbon INFO @ 11:08:50] Energy consumed for All CPU : 0.035621 kWh\n",
      "[codecarbon INFO @ 11:08:50] Energy consumed for all GPUs : 0.113079 kWh. Total GPU Power : 178.9567877812691 W\n",
      "[codecarbon INFO @ 11:08:50] 0.181754 kWh of electricity used since the beginning.\n",
      "[codecarbon INFO @ 11:08:50] 0.026606 g.CO2eq/s mean an estimation of 839.0586385065353 kg.CO2eq/year\n"
     ]
    },
    {
     "name": "stdout",
     "output_type": "stream",
     "text": [
      "epoch=1; train_loss=0.1662; val_loss=0.6903; val_map=0.0246\n"
     ]
    },
    {
     "data": {
      "application/vnd.jupyter.widget-view+json": {
       "model_id": "166598b12bd448d1a68a7c7ed20daa4b",
       "version_major": 2,
       "version_minor": 0
      },
      "text/plain": [
       "Train Epoch 2:   0%|          | 0/84 [00:00<?, ?it/s]"
      ]
     },
     "metadata": {},
     "output_type": "display_data"
    },
    {
     "name": "stderr",
     "output_type": "stream",
     "text": [
      "[codecarbon INFO @ 11:09:05] Energy consumed for RAM : 0.033271 kWh. RAM Power : 54.0 W\n",
      "[codecarbon INFO @ 11:09:05] Delta energy consumed for CPU with cpu_load : 0.000228 kWh, power : 56.63216342000001 W\n",
      "[codecarbon INFO @ 11:09:05] Energy consumed for All CPU : 0.035849 kWh\n",
      "[codecarbon INFO @ 11:09:05] Energy consumed for all GPUs : 0.113823 kWh. Total GPU Power : 178.62766190653142 W\n",
      "[codecarbon INFO @ 11:09:05] 0.182943 kWh of electricity used since the beginning.\n",
      "[codecarbon INFO @ 11:09:20] Energy consumed for RAM : 0.033488 kWh. RAM Power : 54.0 W\n",
      "[codecarbon INFO @ 11:09:20] Delta energy consumed for CPU with cpu_load : 0.000228 kWh, power : 56.718959591000015 W\n",
      "[codecarbon INFO @ 11:09:20] Energy consumed for All CPU : 0.036078 kWh\n",
      "[codecarbon INFO @ 11:09:20] Energy consumed for all GPUs : 0.114567 kWh. Total GPU Power : 177.92453006669206 W\n",
      "[codecarbon INFO @ 11:09:20] 0.184133 kWh of electricity used since the beginning.\n"
     ]
    },
    {
     "name": "stdout",
     "output_type": "stream",
     "text": [
      "epoch=2; train_loss=0.0643; val_loss=0.7956; val_map=0.0246\n"
     ]
    },
    {
     "data": {
      "application/vnd.jupyter.widget-view+json": {
       "model_id": "393ba8d4feaa4f0cb7af557e3042da00",
       "version_major": 2,
       "version_minor": 0
      },
      "text/plain": [
       "Train Epoch 3:   0%|          | 0/84 [00:00<?, ?it/s]"
      ]
     },
     "metadata": {},
     "output_type": "display_data"
    },
    {
     "name": "stderr",
     "output_type": "stream",
     "text": [
      "[codecarbon INFO @ 11:09:35] Energy consumed for RAM : 0.033705 kWh. RAM Power : 54.0 W\n",
      "[codecarbon INFO @ 11:09:35] Delta energy consumed for CPU with cpu_load : 0.000228 kWh, power : 56.806910426 W\n",
      "[codecarbon INFO @ 11:09:35] Energy consumed for All CPU : 0.036305 kWh\n",
      "[codecarbon INFO @ 11:09:35] Energy consumed for all GPUs : 0.115331 kWh. Total GPU Power : 184.20165321613135 W\n",
      "[codecarbon INFO @ 11:09:35] 0.185341 kWh of electricity used since the beginning.\n"
     ]
    },
    {
     "name": "stdout",
     "output_type": "stream",
     "text": [
      "epoch=3; train_loss=0.0623; val_loss=0.6894; val_map=0.0296\n"
     ]
    },
    {
     "data": {
      "application/vnd.jupyter.widget-view+json": {
       "model_id": "55c6b6228366455fa29d757d272d6ce1",
       "version_major": 2,
       "version_minor": 0
      },
      "text/plain": [
       "Train Epoch 1:   0%|          | 0/84 [00:00<?, ?it/s]"
      ]
     },
     "metadata": {},
     "output_type": "display_data"
    },
    {
     "name": "stderr",
     "output_type": "stream",
     "text": [
      "[codecarbon INFO @ 11:09:50] Energy consumed for RAM : 0.033922 kWh. RAM Power : 54.0 W\n",
      "[codecarbon INFO @ 11:09:50] Delta energy consumed for CPU with cpu_load : 0.000228 kWh, power : 56.732677210999995 W\n",
      "[codecarbon INFO @ 11:09:50] Energy consumed for All CPU : 0.036534 kWh\n",
      "[codecarbon INFO @ 11:09:50] Energy consumed for all GPUs : 0.116089 kWh. Total GPU Power : 181.9616340037907 W\n",
      "[codecarbon INFO @ 11:09:50] 0.186545 kWh of electricity used since the beginning.\n",
      "[codecarbon INFO @ 11:10:05] Energy consumed for RAM : 0.034139 kWh. RAM Power : 54.0 W\n",
      "[codecarbon INFO @ 11:10:05] Delta energy consumed for CPU with cpu_load : 0.000227 kWh, power : 56.40322296350001 W\n",
      "[codecarbon INFO @ 11:10:05] Energy consumed for All CPU : 0.036761 kWh\n",
      "[codecarbon INFO @ 11:10:05] Energy consumed for all GPUs : 0.116873 kWh. Total GPU Power : 188.23209019173237 W\n",
      "[codecarbon INFO @ 11:10:05] 0.187773 kWh of electricity used since the beginning.\n"
     ]
    },
    {
     "name": "stdout",
     "output_type": "stream",
     "text": [
      "epoch=1; train_loss=0.5333; val_loss=0.6408; val_map=0.0233\n"
     ]
    },
    {
     "data": {
      "application/vnd.jupyter.widget-view+json": {
       "model_id": "d07452b45a5845be95776a392f7f9dd4",
       "version_major": 2,
       "version_minor": 0
      },
      "text/plain": [
       "Train Epoch 2:   0%|          | 0/84 [00:00<?, ?it/s]"
      ]
     },
     "metadata": {},
     "output_type": "display_data"
    },
    {
     "name": "stderr",
     "output_type": "stream",
     "text": [
      "[codecarbon INFO @ 11:10:20] Energy consumed for RAM : 0.034357 kWh. RAM Power : 54.0 W\n",
      "[codecarbon INFO @ 11:10:20] Delta energy consumed for CPU with cpu_load : 0.000227 kWh, power : 56.324754479000006 W\n",
      "[codecarbon INFO @ 11:10:20] Energy consumed for All CPU : 0.036987 kWh\n",
      "[codecarbon INFO @ 11:10:20] Energy consumed for all GPUs : 0.117666 kWh. Total GPU Power : 190.18657479363003 W\n",
      "[codecarbon INFO @ 11:10:20] 0.189010 kWh of electricity used since the beginning.\n",
      "[codecarbon INFO @ 11:10:35] Energy consumed for RAM : 0.034574 kWh. RAM Power : 54.0 W\n",
      "[codecarbon INFO @ 11:10:35] Delta energy consumed for CPU with cpu_load : 0.000227 kWh, power : 56.297158809500004 W\n",
      "[codecarbon INFO @ 11:10:35] Energy consumed for All CPU : 0.037214 kWh\n",
      "[codecarbon INFO @ 11:10:35] Energy consumed for all GPUs : 0.118458 kWh. Total GPU Power : 190.11343231940918 W\n",
      "[codecarbon INFO @ 11:10:35] 0.190246 kWh of electricity used since the beginning.\n"
     ]
    },
    {
     "name": "stdout",
     "output_type": "stream",
     "text": [
      "epoch=2; train_loss=0.2337; val_loss=1.2058; val_map=0.0241\n"
     ]
    },
    {
     "data": {
      "application/vnd.jupyter.widget-view+json": {
       "model_id": "0adfaa12ea3f4b4ebe35f29dd179377e",
       "version_major": 2,
       "version_minor": 0
      },
      "text/plain": [
       "Train Epoch 3:   0%|          | 0/84 [00:00<?, ?it/s]"
      ]
     },
     "metadata": {},
     "output_type": "display_data"
    },
    {
     "name": "stderr",
     "output_type": "stream",
     "text": [
      "[codecarbon INFO @ 11:10:50] Energy consumed for RAM : 0.034791 kWh. RAM Power : 54.0 W\n",
      "[codecarbon INFO @ 11:10:50] Delta energy consumed for CPU with cpu_load : 0.000233 kWh, power : 57.90050052500001 W\n",
      "[codecarbon INFO @ 11:10:50] Energy consumed for All CPU : 0.037447 kWh\n",
      "[codecarbon INFO @ 11:10:50] Energy consumed for all GPUs : 0.119249 kWh. Total GPU Power : 189.97679244534734 W\n",
      "[codecarbon INFO @ 11:10:50] 0.191487 kWh of electricity used since the beginning.\n",
      "[codecarbon INFO @ 11:10:50] 0.027199 g.CO2eq/s mean an estimation of 857.752140815345 kg.CO2eq/year\n"
     ]
    },
    {
     "name": "stdout",
     "output_type": "stream",
     "text": [
      "epoch=3; train_loss=0.1938; val_loss=1.2306; val_map=0.0208\n"
     ]
    },
    {
     "data": {
      "application/vnd.jupyter.widget-view+json": {
       "model_id": "c70e231333d04bb0b3bad184ccbd40b5",
       "version_major": 2,
       "version_minor": 0
      },
      "text/plain": [
       "Train Epoch 1:   0%|          | 0/84 [00:00<?, ?it/s]"
      ]
     },
     "metadata": {},
     "output_type": "display_data"
    },
    {
     "name": "stderr",
     "output_type": "stream",
     "text": [
      "[codecarbon INFO @ 11:11:05] Energy consumed for RAM : 0.035009 kWh. RAM Power : 54.0 W\n",
      "[codecarbon INFO @ 11:11:05] Delta energy consumed for CPU with cpu_load : 0.000229 kWh, power : 56.789685659 W\n",
      "[codecarbon INFO @ 11:11:05] Energy consumed for All CPU : 0.037676 kWh\n",
      "[codecarbon INFO @ 11:11:05] Energy consumed for all GPUs : 0.120031 kWh. Total GPU Power : 187.76600143034975 W\n",
      "[codecarbon INFO @ 11:11:05] 0.192716 kWh of electricity used since the beginning.\n",
      "[codecarbon INFO @ 11:11:20] Energy consumed for RAM : 0.035226 kWh. RAM Power : 54.0 W\n",
      "[codecarbon INFO @ 11:11:20] Delta energy consumed for CPU with cpu_load : 0.000229 kWh, power : 56.87600636900001 W\n",
      "[codecarbon INFO @ 11:11:20] Energy consumed for All CPU : 0.037905 kWh\n",
      "[codecarbon INFO @ 11:11:20] Energy consumed for all GPUs : 0.120806 kWh. Total GPU Power : 186.118796080736 W\n",
      "[codecarbon INFO @ 11:11:20] 0.193937 kWh of electricity used since the beginning.\n"
     ]
    },
    {
     "name": "stdout",
     "output_type": "stream",
     "text": [
      "epoch=1; train_loss=0.1489; val_loss=0.6034; val_map=0.0151\n"
     ]
    },
    {
     "data": {
      "application/vnd.jupyter.widget-view+json": {
       "model_id": "0b3c1605172d4ea788a99665e5312e8c",
       "version_major": 2,
       "version_minor": 0
      },
      "text/plain": [
       "Train Epoch 2:   0%|          | 0/84 [00:00<?, ?it/s]"
      ]
     },
     "metadata": {},
     "output_type": "display_data"
    },
    {
     "name": "stderr",
     "output_type": "stream",
     "text": [
      "[codecarbon INFO @ 11:11:35] Energy consumed for RAM : 0.035444 kWh. RAM Power : 54.0 W\n",
      "[codecarbon INFO @ 11:11:35] Delta energy consumed for CPU with cpu_load : 0.000236 kWh, power : 58.547898164 W\n",
      "[codecarbon INFO @ 11:11:35] Energy consumed for All CPU : 0.038141 kWh\n",
      "[codecarbon INFO @ 11:11:35] Energy consumed for all GPUs : 0.121570 kWh. Total GPU Power : 183.02234868401354 W\n",
      "[codecarbon INFO @ 11:11:35] 0.195155 kWh of electricity used since the beginning.\n",
      "[codecarbon INFO @ 11:11:50] Energy consumed for RAM : 0.035661 kWh. RAM Power : 54.0 W\n",
      "[codecarbon INFO @ 11:11:50] Delta energy consumed for CPU with cpu_load : 0.000235 kWh, power : 58.354872527000005 W\n",
      "[codecarbon INFO @ 11:11:50] Energy consumed for All CPU : 0.038376 kWh\n",
      "[codecarbon INFO @ 11:11:50] Energy consumed for all GPUs : 0.122326 kWh. Total GPU Power : 181.38992464505833 W\n",
      "[codecarbon INFO @ 11:11:50] 0.196363 kWh of electricity used since the beginning.\n"
     ]
    },
    {
     "name": "stdout",
     "output_type": "stream",
     "text": [
      "epoch=2; train_loss=0.0747; val_loss=0.7485; val_map=0.0267\n"
     ]
    },
    {
     "data": {
      "application/vnd.jupyter.widget-view+json": {
       "model_id": "dd8dfc9b1b0a4a2ea95dd760e784dc7e",
       "version_major": 2,
       "version_minor": 0
      },
      "text/plain": [
       "Train Epoch 3:   0%|          | 0/84 [00:00<?, ?it/s]"
      ]
     },
     "metadata": {},
     "output_type": "display_data"
    },
    {
     "name": "stderr",
     "output_type": "stream",
     "text": [
      "[codecarbon INFO @ 11:12:05] Energy consumed for RAM : 0.035879 kWh. RAM Power : 54.0 W\n",
      "[codecarbon INFO @ 11:12:05] Delta energy consumed for CPU with cpu_load : 0.000228 kWh, power : 56.52405113600001 W\n",
      "[codecarbon INFO @ 11:12:05] Energy consumed for All CPU : 0.038603 kWh\n",
      "[codecarbon INFO @ 11:12:05] Energy consumed for all GPUs : 0.123103 kWh. Total GPU Power : 186.60193659796911 W\n",
      "[codecarbon INFO @ 11:12:05] 0.197585 kWh of electricity used since the beginning.\n",
      "[codecarbon INFO @ 11:12:20] Energy consumed for RAM : 0.036096 kWh. RAM Power : 54.0 W\n",
      "[codecarbon INFO @ 11:12:20] Delta energy consumed for CPU with cpu_load : 0.000227 kWh, power : 56.300823519500014 W\n",
      "[codecarbon INFO @ 11:12:20] Energy consumed for All CPU : 0.038830 kWh\n",
      "[codecarbon INFO @ 11:12:20] Energy consumed for all GPUs : 0.123855 kWh. Total GPU Power : 180.52960596511105 W\n",
      "[codecarbon INFO @ 11:12:20] 0.198781 kWh of electricity used since the beginning.\n",
      "[codecarbon INFO @ 11:12:21] Energy consumed for RAM : 0.036109 kWh. RAM Power : 54.0 W\n"
     ]
    },
    {
     "name": "stdout",
     "output_type": "stream",
     "text": [
      "epoch=3; train_loss=0.0615; val_loss=0.7966; val_map=0.0298\n"
     ]
    },
    {
     "name": "stderr",
     "output_type": "stream",
     "text": [
      "[codecarbon INFO @ 11:12:22] Delta energy consumed for CPU with cpu_load : 0.000014 kWh, power : 56.129044832000005 W\n",
      "[codecarbon INFO @ 11:12:22] Energy consumed for All CPU : 0.038844 kWh\n",
      "[codecarbon INFO @ 11:12:22] Energy consumed for all GPUs : 0.123919 kWh. Total GPU Power : 165.54179903473565 W\n",
      "[codecarbon INFO @ 11:12:22] 0.198873 kWh of electricity used since the beginning.\n"
     ]
    },
    {
     "name": "stdout",
     "output_type": "stream",
     "text": [
      "Estimated CO2 emissions: 0.066689 kg\n"
     ]
    }
   ],
   "source": [
    "tracker = EmissionsTracker(log_level=\"info\")\n",
    "tracker.start()\n",
    "\n",
    "num_random_models = 30\n",
    "random_results = []\n",
    "for i in range(num_random_models):\n",
    "    config = sample_trial_config()\n",
    "    val_map = train_model(config)\n",
    "    random_results.append({\"model\": i + 1, \"val_map\": val_map, \"config\": config})\n",
    "\n",
    "emissions = tracker.stop()\n",
    "print(f\"Estimated CO2 emissions: {emissions:.6f} kg\")"
   ]
  },
  {
   "cell_type": "code",
   "execution_count": 3,
   "id": "ec3b17f5-e8ed-409c-adcc-7b0d1251a3f0",
   "metadata": {},
   "outputs": [
    {
     "name": "stdout",
     "output_type": "stream",
     "text": [
      "[{\"model\": 1, \"val_map\": 0.032504625618457794, \"config\": {\"enable_horizontal_flip\": true, \"enable_color_jitter\": true, \"enable_affine\": true, \"color_jitter_brightness\": 0.3, \"color_jitter_contrast\": 0.1, \"color_jitter_saturation\": 0.3, \"color_jitter_hue\": 0.1, \"enable_affine_scale\": true, \"enable_affine_rotate\": false, \"enable_affine_shear\": false, \"affine_scale_min\": 0.15, \"affine_scale_max\": 0.3}}, {\"model\": 2, \"val_map\": 0.04426325112581253, \"config\": {\"enable_horizontal_flip\": true, \"enable_color_jitter\": false, \"enable_affine\": false}}, {\"model\": 3, \"val_map\": 0.030274180695414543, \"config\": {\"enable_horizontal_flip\": false, \"enable_color_jitter\": false, \"enable_affine\": false}}, {\"model\": 4, \"val_map\": 0.028162816539406776, \"config\": {\"enable_horizontal_flip\": true, \"enable_color_jitter\": true, \"enable_affine\": false, \"color_jitter_brightness\": 0.1, \"color_jitter_contrast\": 0.2, \"color_jitter_saturation\": 0.4, \"color_jitter_hue\": 0.2}}, {\"model\": 5, \"val_map\": 0.018107034265995026, \"config\": {\"enable_horizontal_flip\": true, \"enable_color_jitter\": true, \"enable_affine\": true, \"color_jitter_brightness\": 0.2, \"color_jitter_contrast\": 0.5, \"color_jitter_saturation\": 0.3, \"color_jitter_hue\": 0.2, \"enable_affine_scale\": true, \"enable_affine_rotate\": true, \"enable_affine_shear\": false, \"affine_scale_min\": 0.05, \"affine_scale_max\": 0.5, \"affine_rotate_min\": -15, \"affine_rotate_max\": 18}}, {\"model\": 6, \"val_map\": 0.029570957645773888, \"config\": {\"enable_horizontal_flip\": true, \"enable_color_jitter\": true, \"enable_affine\": true, \"color_jitter_brightness\": 0.4, \"color_jitter_contrast\": 0.5, \"color_jitter_saturation\": 0.1, \"color_jitter_hue\": 0.15, \"enable_affine_scale\": true, \"enable_affine_rotate\": false, \"enable_affine_shear\": false, \"affine_scale_min\": 0.15, \"affine_scale_max\": 0.4}}, {\"model\": 7, \"val_map\": 0.0445544570684433, \"config\": {\"enable_horizontal_flip\": true, \"enable_color_jitter\": false, \"enable_affine\": false}}, {\"model\": 8, \"val_map\": 0.025971530005335808, \"config\": {\"enable_horizontal_flip\": false, \"enable_color_jitter\": false, \"enable_affine\": true, \"enable_affine_scale\": true, \"enable_affine_rotate\": false, \"enable_affine_shear\": false, \"affine_scale_min\": 0.15, \"affine_scale_max\": 0.3}}, {\"model\": 9, \"val_map\": 0.007309636101126671, \"config\": {\"enable_horizontal_flip\": true, \"enable_color_jitter\": true, \"enable_affine\": true, \"color_jitter_brightness\": 0.3, \"color_jitter_contrast\": 0.3, \"color_jitter_saturation\": 0.2, \"color_jitter_hue\": 0.2, \"enable_affine_scale\": false, \"enable_affine_rotate\": true, \"enable_affine_shear\": true, \"affine_rotate_min\": -15, \"affine_rotate_max\": 15, \"affine_shear_min\": -20, \"affine_shear_max\": 15}}, {\"model\": 10, \"val_map\": 0.042904291301965714, \"config\": {\"enable_horizontal_flip\": false, \"enable_color_jitter\": false, \"enable_affine\": false}}, {\"model\": 11, \"val_map\": 0.031406860798597336, \"config\": {\"enable_horizontal_flip\": false, \"enable_color_jitter\": false, \"enable_affine\": true, \"enable_affine_scale\": false, \"enable_affine_rotate\": true, \"enable_affine_shear\": false, \"affine_rotate_min\": -20, \"affine_rotate_max\": 15}}, {\"model\": 12, \"val_map\": 0.029702970758080482, \"config\": {\"enable_horizontal_flip\": false, \"enable_color_jitter\": false, \"enable_affine\": true, \"enable_affine_scale\": true, \"enable_affine_rotate\": false, \"enable_affine_shear\": true, \"affine_scale_min\": 0.1, \"affine_scale_max\": 0.2, \"affine_shear_min\": -20, \"affine_shear_max\": 18}}, {\"model\": 13, \"val_map\": 0.03330333158373833, \"config\": {\"enable_horizontal_flip\": false, \"enable_color_jitter\": true, \"enable_affine\": false, \"color_jitter_brightness\": 0.5, \"color_jitter_contrast\": 0.1, \"color_jitter_saturation\": 0.4, \"color_jitter_hue\": 0.15}}, {\"model\": 14, \"val_map\": 0.033368442207574844, \"config\": {\"enable_horizontal_flip\": false, \"enable_color_jitter\": false, \"enable_affine\": false}}, {\"model\": 15, \"val_map\": 0.02447744831442833, \"config\": {\"enable_horizontal_flip\": true, \"enable_color_jitter\": false, \"enable_affine\": false}}, {\"model\": 16, \"val_map\": 0.042118918150663376, \"config\": {\"enable_horizontal_flip\": true, \"enable_color_jitter\": true, \"enable_affine\": false, \"color_jitter_brightness\": 0.2, \"color_jitter_contrast\": 0.1, \"color_jitter_saturation\": 0.3, \"color_jitter_hue\": 0.15}}, {\"model\": 17, \"val_map\": 0.03132566809654236, \"config\": {\"enable_horizontal_flip\": false, \"enable_color_jitter\": true, \"enable_affine\": true, \"color_jitter_brightness\": 0.3, \"color_jitter_contrast\": 0.1, \"color_jitter_saturation\": 0.3, \"color_jitter_hue\": 0.1, \"enable_affine_scale\": false, \"enable_affine_rotate\": false, \"enable_affine_shear\": true, \"affine_shear_min\": -18, \"affine_shear_max\": 20}}, {\"model\": 18, \"val_map\": 0.0476190485060215, \"config\": {\"enable_horizontal_flip\": true, \"enable_color_jitter\": false, \"enable_affine\": false}}, {\"model\": 19, \"val_map\": 0.0294490996748209, \"config\": {\"enable_horizontal_flip\": false, \"enable_color_jitter\": true, \"enable_affine\": true, \"color_jitter_brightness\": 0.2, \"color_jitter_contrast\": 0.4, \"color_jitter_saturation\": 0.1, \"color_jitter_hue\": 0.15, \"enable_affine_scale\": false, \"enable_affine_rotate\": false, \"enable_affine_shear\": true, \"affine_shear_min\": -15, \"affine_shear_max\": 18}}, {\"model\": 20, \"val_map\": 0.04506158083677292, \"config\": {\"enable_horizontal_flip\": false, \"enable_color_jitter\": false, \"enable_affine\": true, \"enable_affine_scale\": false, \"enable_affine_rotate\": false, \"enable_affine_shear\": true, \"affine_shear_min\": -15, \"affine_shear_max\": 18}}, {\"model\": 21, \"val_map\": 0.03356677293777466, \"config\": {\"enable_horizontal_flip\": true, \"enable_color_jitter\": true, \"enable_affine\": false, \"color_jitter_brightness\": 0.3, \"color_jitter_contrast\": 0.1, \"color_jitter_saturation\": 0.4, \"color_jitter_hue\": 0.15}}, {\"model\": 22, \"val_map\": 0.0380406454205513, \"config\": {\"enable_horizontal_flip\": false, \"enable_color_jitter\": false, \"enable_affine\": false}}, {\"model\": 23, \"val_map\": 0.03600287437438965, \"config\": {\"enable_horizontal_flip\": true, \"enable_color_jitter\": true, \"enable_affine\": true, \"color_jitter_brightness\": 0.3, \"color_jitter_contrast\": 0.4, \"color_jitter_saturation\": 0.1, \"color_jitter_hue\": 0.2, \"enable_affine_scale\": true, \"enable_affine_rotate\": false, \"enable_affine_shear\": true, \"affine_scale_min\": 0.15, \"affine_scale_max\": 0.5, \"affine_shear_min\": -15, \"affine_shear_max\": 15}}, {\"model\": 24, \"val_map\": 0.03557022288441658, \"config\": {\"enable_horizontal_flip\": true, \"enable_color_jitter\": false, \"enable_affine\": false}}, {\"model\": 25, \"val_map\": 0.016585679724812508, \"config\": {\"enable_horizontal_flip\": true, \"enable_color_jitter\": false, \"enable_affine\": true, \"enable_affine_scale\": true, \"enable_affine_rotate\": true, \"enable_affine_shear\": false, \"affine_scale_min\": 0.05, \"affine_scale_max\": 0.2, \"affine_rotate_min\": -20, \"affine_rotate_max\": 18}}, {\"model\": 26, \"val_map\": 0.04426325112581253, \"config\": {\"enable_horizontal_flip\": false, \"enable_color_jitter\": false, \"enable_affine\": false}}, {\"model\": 27, \"val_map\": 0.04702107235789299, \"config\": {\"enable_horizontal_flip\": true, \"enable_color_jitter\": true, \"enable_affine\": false, \"color_jitter_brightness\": 0.1, \"color_jitter_contrast\": 0.3, \"color_jitter_saturation\": 0.5, \"color_jitter_hue\": 0.15}}, {\"model\": 28, \"val_map\": 0.02963561750948429, \"config\": {\"enable_horizontal_flip\": true, \"enable_color_jitter\": true, \"enable_affine\": true, \"color_jitter_brightness\": 0.5, \"color_jitter_contrast\": 0.5, \"color_jitter_saturation\": 0.3, \"color_jitter_hue\": 0.2, \"enable_affine_scale\": false, \"enable_affine_rotate\": false, \"enable_affine_shear\": false}}, {\"model\": 29, \"val_map\": 0.020792080089449883, \"config\": {\"enable_horizontal_flip\": false, \"enable_color_jitter\": false, \"enable_affine\": true, \"enable_affine_scale\": true, \"enable_affine_rotate\": false, \"enable_affine_shear\": false, \"affine_scale_min\": 0.1, \"affine_scale_max\": 0.3}}, {\"model\": 30, \"val_map\": 0.02977319061756134, \"config\": {\"enable_horizontal_flip\": true, \"enable_color_jitter\": true, \"enable_affine\": true, \"color_jitter_brightness\": 0.2, \"color_jitter_contrast\": 0.5, \"color_jitter_saturation\": 0.2, \"color_jitter_hue\": 0.1, \"enable_affine_scale\": false, \"enable_affine_rotate\": true, \"enable_affine_shear\": true, \"affine_rotate_min\": -18, \"affine_rotate_max\": 20, \"affine_shear_min\": -20, \"affine_shear_max\": 15}}]\n"
     ]
    }
   ],
   "source": [
    "import json\n",
    "\n",
    "print(json.dumps(random_results))"
   ]
  },
  {
   "cell_type": "code",
   "execution_count": 4,
   "id": "c648e60fe54d5a91",
   "metadata": {},
   "outputs": [
    {
     "name": "stderr",
     "output_type": "stream",
     "text": [
      "[I 2025-08-20 11:13:56,337] A new study created in memory with name: optuna_random_fusion\n"
     ]
    },
    {
     "data": {
      "application/vnd.jupyter.widget-view+json": {
       "model_id": "872be72fe507471085dfa2ac4fba434e",
       "version_major": 2,
       "version_minor": 0
      },
      "text/plain": [
       "Train Epoch 1:   0%|          | 0/84 [00:00<?, ?it/s]"
      ]
     },
     "metadata": {},
     "output_type": "display_data"
    },
    {
     "name": "stdout",
     "output_type": "stream",
     "text": [
      "epoch=1; train_loss=0.4477; val_loss=0.5977; val_map=0.0158\n"
     ]
    },
    {
     "data": {
      "application/vnd.jupyter.widget-view+json": {
       "model_id": "4a7e0b7b3cf14d41bb54e145debf622c",
       "version_major": 2,
       "version_minor": 0
      },
      "text/plain": [
       "Train Epoch 2:   0%|          | 0/84 [00:00<?, ?it/s]"
      ]
     },
     "metadata": {},
     "output_type": "display_data"
    },
    {
     "name": "stdout",
     "output_type": "stream",
     "text": [
      "epoch=2; train_loss=0.3055; val_loss=0.8978; val_map=0.0051\n"
     ]
    },
    {
     "data": {
      "application/vnd.jupyter.widget-view+json": {
       "model_id": "15ace39354bd4760b20b3fa3603a57ec",
       "version_major": 2,
       "version_minor": 0
      },
      "text/plain": [
       "Train Epoch 3:   0%|          | 0/84 [00:00<?, ?it/s]"
      ]
     },
     "metadata": {},
     "output_type": "display_data"
    },
    {
     "name": "stderr",
     "output_type": "stream",
     "text": [
      "[I 2025-08-20 11:15:20,063] Trial 0 finished with value: 0.03988448902964592 and parameters: {'enable_horizontal_flip': True, 'enable_color_jitter': True, 'color_jitter_brightness': 0.2308960294879046, 'color_jitter_contrast': 0.4361043403813796, 'color_jitter_saturation': 0.14896456066636754, 'color_jitter_hue': 0.18401889827308776, 'enable_affine': True, 'enable_affine_scale': True, 'affine_scale_min': 0.0909766850633183, 'affine_scale_max': 0.38341820316339, 'enable_affine_rotate': False, 'enable_affine_shear': True, 'affine_shear_min': -15.31814779200157, 'affine_shear_max': 18.543122158446018}. Best is trial 0 with value: 0.03988448902964592.\n"
     ]
    },
    {
     "name": "stdout",
     "output_type": "stream",
     "text": [
      "epoch=3; train_loss=0.2031; val_loss=0.8343; val_map=0.0399\n"
     ]
    },
    {
     "data": {
      "application/vnd.jupyter.widget-view+json": {
       "model_id": "adac004df485497fa4d5dd024e770286",
       "version_major": 2,
       "version_minor": 0
      },
      "text/plain": [
       "Train Epoch 1:   0%|          | 0/84 [00:00<?, ?it/s]"
      ]
     },
     "metadata": {},
     "output_type": "display_data"
    },
    {
     "name": "stdout",
     "output_type": "stream",
     "text": [
      "epoch=1; train_loss=0.1559; val_loss=0.7040; val_map=0.0304\n"
     ]
    },
    {
     "data": {
      "application/vnd.jupyter.widget-view+json": {
       "model_id": "dfebf5c463e64666a5b0ae75ac4ef277",
       "version_major": 2,
       "version_minor": 0
      },
      "text/plain": [
       "Train Epoch 2:   0%|          | 0/84 [00:00<?, ?it/s]"
      ]
     },
     "metadata": {},
     "output_type": "display_data"
    },
    {
     "name": "stdout",
     "output_type": "stream",
     "text": [
      "epoch=2; train_loss=0.0700; val_loss=0.5804; val_map=0.0396\n"
     ]
    },
    {
     "data": {
      "application/vnd.jupyter.widget-view+json": {
       "model_id": "ec927d3d46ce41eaa12cfb293ccc11a0",
       "version_major": 2,
       "version_minor": 0
      },
      "text/plain": [
       "Train Epoch 3:   0%|          | 0/84 [00:00<?, ?it/s]"
      ]
     },
     "metadata": {},
     "output_type": "display_data"
    },
    {
     "name": "stderr",
     "output_type": "stream",
     "text": [
      "[I 2025-08-20 11:16:39,169] Trial 1 finished with value: 0.0446958988904953 and parameters: {'enable_horizontal_flip': True, 'enable_color_jitter': False, 'enable_affine': True, 'enable_affine_scale': False, 'enable_affine_rotate': True, 'affine_rotate_min': -18.339482643745708, 'affine_rotate_max': 16.66560506830946, 'enable_affine_shear': False}. Best is trial 1 with value: 0.0446958988904953.\n"
     ]
    },
    {
     "name": "stdout",
     "output_type": "stream",
     "text": [
      "epoch=3; train_loss=0.0558; val_loss=0.9942; val_map=0.0447\n"
     ]
    },
    {
     "data": {
      "application/vnd.jupyter.widget-view+json": {
       "model_id": "c9e8459838e549e5b514bd6f45d69704",
       "version_major": 2,
       "version_minor": 0
      },
      "text/plain": [
       "Train Epoch 1:   0%|          | 0/84 [00:00<?, ?it/s]"
      ]
     },
     "metadata": {},
     "output_type": "display_data"
    },
    {
     "name": "stdout",
     "output_type": "stream",
     "text": [
      "epoch=1; train_loss=0.1160; val_loss=0.3695; val_map=0.0352\n"
     ]
    },
    {
     "data": {
      "application/vnd.jupyter.widget-view+json": {
       "model_id": "966a89d54e5049f2b30b044235778b2c",
       "version_major": 2,
       "version_minor": 0
      },
      "text/plain": [
       "Train Epoch 2:   0%|          | 0/84 [00:00<?, ?it/s]"
      ]
     },
     "metadata": {},
     "output_type": "display_data"
    },
    {
     "name": "stdout",
     "output_type": "stream",
     "text": [
      "epoch=2; train_loss=0.0591; val_loss=0.9352; val_map=0.0262\n"
     ]
    },
    {
     "data": {
      "application/vnd.jupyter.widget-view+json": {
       "model_id": "8849cd39161448f984c30670357059d9",
       "version_major": 2,
       "version_minor": 0
      },
      "text/plain": [
       "Train Epoch 3:   0%|          | 0/84 [00:00<?, ?it/s]"
      ]
     },
     "metadata": {},
     "output_type": "display_data"
    },
    {
     "name": "stderr",
     "output_type": "stream",
     "text": [
      "[I 2025-08-20 11:18:00,595] Trial 2 finished with value: 0.026489265263080597 and parameters: {'enable_horizontal_flip': False, 'enable_color_jitter': True, 'color_jitter_brightness': 0.22797784088113288, 'color_jitter_contrast': 0.40978082930463255, 'color_jitter_saturation': 0.43463019133259273, 'color_jitter_hue': 0.14139244547694998, 'enable_affine': False}. Best is trial 1 with value: 0.0446958988904953.\n"
     ]
    },
    {
     "name": "stdout",
     "output_type": "stream",
     "text": [
      "epoch=3; train_loss=0.0417; val_loss=1.1056; val_map=0.0265\n"
     ]
    },
    {
     "data": {
      "application/vnd.jupyter.widget-view+json": {
       "model_id": "79956dbed5cb43c2923f78fef8fd5422",
       "version_major": 2,
       "version_minor": 0
      },
      "text/plain": [
       "Train Epoch 1:   0%|          | 0/84 [00:00<?, ?it/s]"
      ]
     },
     "metadata": {},
     "output_type": "display_data"
    },
    {
     "name": "stdout",
     "output_type": "stream",
     "text": [
      "epoch=1; train_loss=0.1953; val_loss=0.5850; val_map=0.0305\n"
     ]
    },
    {
     "data": {
      "application/vnd.jupyter.widget-view+json": {
       "model_id": "860d9d9c7b874292a2c3ad797a5d95a1",
       "version_major": 2,
       "version_minor": 0
      },
      "text/plain": [
       "Train Epoch 2:   0%|          | 0/84 [00:00<?, ?it/s]"
      ]
     },
     "metadata": {},
     "output_type": "display_data"
    },
    {
     "name": "stdout",
     "output_type": "stream",
     "text": [
      "epoch=2; train_loss=0.0691; val_loss=0.8101; val_map=0.0430\n"
     ]
    },
    {
     "data": {
      "application/vnd.jupyter.widget-view+json": {
       "model_id": "1e616c34632748158ebb7b5d9a1c6917",
       "version_major": 2,
       "version_minor": 0
      },
      "text/plain": [
       "Train Epoch 3:   0%|          | 0/84 [00:00<?, ?it/s]"
      ]
     },
     "metadata": {},
     "output_type": "display_data"
    },
    {
     "name": "stderr",
     "output_type": "stream",
     "text": [
      "[I 2025-08-20 11:19:23,578] Trial 3 finished with value: 0.04230562597513199 and parameters: {'enable_horizontal_flip': True, 'enable_color_jitter': True, 'color_jitter_brightness': 0.3342097169622008, 'color_jitter_contrast': 0.4800025786474541, 'color_jitter_saturation': 0.3497070023866904, 'color_jitter_hue': 0.1854535340269582, 'enable_affine': False}. Best is trial 1 with value: 0.0446958988904953.\n"
     ]
    },
    {
     "name": "stdout",
     "output_type": "stream",
     "text": [
      "epoch=3; train_loss=0.0538; val_loss=0.8153; val_map=0.0423\n"
     ]
    },
    {
     "data": {
      "application/vnd.jupyter.widget-view+json": {
       "model_id": "188dea950e924f088848cb6b0f229be5",
       "version_major": 2,
       "version_minor": 0
      },
      "text/plain": [
       "Train Epoch 1:   0%|          | 0/84 [00:00<?, ?it/s]"
      ]
     },
     "metadata": {},
     "output_type": "display_data"
    },
    {
     "name": "stdout",
     "output_type": "stream",
     "text": [
      "epoch=1; train_loss=0.1576; val_loss=0.4219; val_map=0.0282\n"
     ]
    },
    {
     "data": {
      "application/vnd.jupyter.widget-view+json": {
       "model_id": "828be4135bf846d4bb7ce6765c902df3",
       "version_major": 2,
       "version_minor": 0
      },
      "text/plain": [
       "Train Epoch 2:   0%|          | 0/84 [00:00<?, ?it/s]"
      ]
     },
     "metadata": {},
     "output_type": "display_data"
    },
    {
     "name": "stdout",
     "output_type": "stream",
     "text": [
      "epoch=2; train_loss=0.0606; val_loss=0.9436; val_map=0.0453\n"
     ]
    },
    {
     "data": {
      "application/vnd.jupyter.widget-view+json": {
       "model_id": "3bd7e21a6299485886d84155791786f0",
       "version_major": 2,
       "version_minor": 0
      },
      "text/plain": [
       "Train Epoch 3:   0%|          | 0/84 [00:00<?, ?it/s]"
      ]
     },
     "metadata": {},
     "output_type": "display_data"
    },
    {
     "name": "stderr",
     "output_type": "stream",
     "text": [
      "[I 2025-08-20 11:20:46,752] Trial 4 finished with value: 0.04388546943664551 and parameters: {'enable_horizontal_flip': True, 'enable_color_jitter': True, 'color_jitter_brightness': 0.20673953068595102, 'color_jitter_contrast': 0.1127693387835497, 'color_jitter_saturation': 0.41390875235567615, 'color_jitter_hue': 0.1549161175840751, 'enable_affine': False}. Best is trial 1 with value: 0.0446958988904953.\n"
     ]
    },
    {
     "name": "stdout",
     "output_type": "stream",
     "text": [
      "epoch=3; train_loss=0.0519; val_loss=1.2706; val_map=0.0439\n"
     ]
    },
    {
     "data": {
      "application/vnd.jupyter.widget-view+json": {
       "model_id": "f4879a84767b49fb9540a79fd1576e9a",
       "version_major": 2,
       "version_minor": 0
      },
      "text/plain": [
       "Train Epoch 1:   0%|          | 0/84 [00:00<?, ?it/s]"
      ]
     },
     "metadata": {},
     "output_type": "display_data"
    },
    {
     "name": "stdout",
     "output_type": "stream",
     "text": [
      "epoch=1; train_loss=0.1239; val_loss=1.2574; val_map=0.0243\n"
     ]
    },
    {
     "data": {
      "application/vnd.jupyter.widget-view+json": {
       "model_id": "a8739808dfb845b49b18df3cd0522f0e",
       "version_major": 2,
       "version_minor": 0
      },
      "text/plain": [
       "Train Epoch 2:   0%|          | 0/84 [00:00<?, ?it/s]"
      ]
     },
     "metadata": {},
     "output_type": "display_data"
    },
    {
     "name": "stdout",
     "output_type": "stream",
     "text": [
      "epoch=2; train_loss=0.0506; val_loss=1.2026; val_map=0.0302\n"
     ]
    },
    {
     "data": {
      "application/vnd.jupyter.widget-view+json": {
       "model_id": "32be98e6f855486bb15fdc50e20222bf",
       "version_major": 2,
       "version_minor": 0
      },
      "text/plain": [
       "Train Epoch 3:   0%|          | 0/84 [00:00<?, ?it/s]"
      ]
     },
     "metadata": {},
     "output_type": "display_data"
    },
    {
     "name": "stderr",
     "output_type": "stream",
     "text": [
      "[I 2025-08-20 11:22:04,948] Trial 5 finished with value: 0.043032992631196976 and parameters: {'enable_horizontal_flip': True, 'enable_color_jitter': False, 'enable_affine': False}. Best is trial 1 with value: 0.0446958988904953.\n"
     ]
    },
    {
     "name": "stdout",
     "output_type": "stream",
     "text": [
      "epoch=3; train_loss=0.0451; val_loss=1.2208; val_map=0.0430\n"
     ]
    },
    {
     "data": {
      "application/vnd.jupyter.widget-view+json": {
       "model_id": "e404e8e36a3c4420a7fb297231a4ff86",
       "version_major": 2,
       "version_minor": 0
      },
      "text/plain": [
       "Train Epoch 1:   0%|          | 0/84 [00:00<?, ?it/s]"
      ]
     },
     "metadata": {},
     "output_type": "display_data"
    },
    {
     "name": "stdout",
     "output_type": "stream",
     "text": [
      "epoch=1; train_loss=0.1502; val_loss=0.8691; val_map=0.0238\n"
     ]
    },
    {
     "data": {
      "application/vnd.jupyter.widget-view+json": {
       "model_id": "e36fd8d73f4343c7a7907cd3e773a283",
       "version_major": 2,
       "version_minor": 0
      },
      "text/plain": [
       "Train Epoch 2:   0%|          | 0/84 [00:00<?, ?it/s]"
      ]
     },
     "metadata": {},
     "output_type": "display_data"
    },
    {
     "name": "stdout",
     "output_type": "stream",
     "text": [
      "epoch=2; train_loss=0.0648; val_loss=1.2693; val_map=0.0135\n"
     ]
    },
    {
     "data": {
      "application/vnd.jupyter.widget-view+json": {
       "model_id": "19c268a4a7824f8aa755b2192cfadcfe",
       "version_major": 2,
       "version_minor": 0
      },
      "text/plain": [
       "Train Epoch 3:   0%|          | 0/84 [00:00<?, ?it/s]"
      ]
     },
     "metadata": {},
     "output_type": "display_data"
    },
    {
     "name": "stderr",
     "output_type": "stream",
     "text": [
      "[I 2025-08-20 11:23:28,705] Trial 6 finished with value: 0.026433629915118217 and parameters: {'enable_horizontal_flip': True, 'enable_color_jitter': True, 'color_jitter_brightness': 0.462977227067781, 'color_jitter_contrast': 0.3942265870036685, 'color_jitter_saturation': 0.2382321234283622, 'color_jitter_hue': 0.17427485116292196, 'enable_affine': True, 'enable_affine_scale': False, 'enable_affine_rotate': False, 'enable_affine_shear': False}. Best is trial 1 with value: 0.0446958988904953.\n"
     ]
    },
    {
     "name": "stdout",
     "output_type": "stream",
     "text": [
      "epoch=3; train_loss=0.0546; val_loss=0.6765; val_map=0.0264\n"
     ]
    },
    {
     "data": {
      "application/vnd.jupyter.widget-view+json": {
       "model_id": "2ddfa7a30e1f436db380bc952daa0236",
       "version_major": 2,
       "version_minor": 0
      },
      "text/plain": [
       "Train Epoch 1:   0%|          | 0/84 [00:00<?, ?it/s]"
      ]
     },
     "metadata": {},
     "output_type": "display_data"
    },
    {
     "name": "stdout",
     "output_type": "stream",
     "text": [
      "epoch=1; train_loss=0.1612; val_loss=0.6211; val_map=0.0119\n"
     ]
    },
    {
     "data": {
      "application/vnd.jupyter.widget-view+json": {
       "model_id": "752bf67f0a8245f7b15fb502b4913891",
       "version_major": 2,
       "version_minor": 0
      },
      "text/plain": [
       "Train Epoch 2:   0%|          | 0/84 [00:00<?, ?it/s]"
      ]
     },
     "metadata": {},
     "output_type": "display_data"
    },
    {
     "name": "stdout",
     "output_type": "stream",
     "text": [
      "epoch=2; train_loss=0.0729; val_loss=0.7301; val_map=0.0290\n"
     ]
    },
    {
     "data": {
      "application/vnd.jupyter.widget-view+json": {
       "model_id": "ff46bc81783e42d6873ec46f42a99d61",
       "version_major": 2,
       "version_minor": 0
      },
      "text/plain": [
       "Train Epoch 3:   0%|          | 0/84 [00:00<?, ?it/s]"
      ]
     },
     "metadata": {},
     "output_type": "display_data"
    },
    {
     "name": "stderr",
     "output_type": "stream",
     "text": [
      "[I 2025-08-20 11:24:55,422] Trial 7 finished with value: 0.02505304105579853 and parameters: {'enable_horizontal_flip': True, 'enable_color_jitter': True, 'color_jitter_brightness': 0.20117914637245948, 'color_jitter_contrast': 0.4050057734646244, 'color_jitter_saturation': 0.49718185715778296, 'color_jitter_hue': 0.1251202788587742, 'enable_affine': True, 'enable_affine_scale': False, 'enable_affine_rotate': True, 'affine_rotate_min': -19.301606789217644, 'affine_rotate_max': 16.88466322142522, 'enable_affine_shear': False}. Best is trial 1 with value: 0.0446958988904953.\n"
     ]
    },
    {
     "name": "stdout",
     "output_type": "stream",
     "text": [
      "epoch=3; train_loss=0.0546; val_loss=0.7505; val_map=0.0251\n"
     ]
    },
    {
     "data": {
      "application/vnd.jupyter.widget-view+json": {
       "model_id": "716aae33c241401fa1b10086fa094c43",
       "version_major": 2,
       "version_minor": 0
      },
      "text/plain": [
       "Train Epoch 1:   0%|          | 0/84 [00:00<?, ?it/s]"
      ]
     },
     "metadata": {},
     "output_type": "display_data"
    },
    {
     "name": "stdout",
     "output_type": "stream",
     "text": [
      "epoch=1; train_loss=0.1553; val_loss=0.6999; val_map=0.0239\n"
     ]
    },
    {
     "data": {
      "application/vnd.jupyter.widget-view+json": {
       "model_id": "131c40fe0fec4f1c8e259b82d31f6042",
       "version_major": 2,
       "version_minor": 0
      },
      "text/plain": [
       "Train Epoch 2:   0%|          | 0/84 [00:00<?, ?it/s]"
      ]
     },
     "metadata": {},
     "output_type": "display_data"
    },
    {
     "name": "stdout",
     "output_type": "stream",
     "text": [
      "epoch=2; train_loss=0.0719; val_loss=0.6483; val_map=0.0308\n"
     ]
    },
    {
     "data": {
      "application/vnd.jupyter.widget-view+json": {
       "model_id": "97d6684db8d8452c8991805818017bb5",
       "version_major": 2,
       "version_minor": 0
      },
      "text/plain": [
       "Train Epoch 3:   0%|          | 0/84 [00:00<?, ?it/s]"
      ]
     },
     "metadata": {},
     "output_type": "display_data"
    },
    {
     "name": "stderr",
     "output_type": "stream",
     "text": [
      "[I 2025-08-20 11:26:20,542] Trial 8 finished with value: 0.030086729675531387 and parameters: {'enable_horizontal_flip': False, 'enable_color_jitter': True, 'color_jitter_brightness': 0.39354603446267367, 'color_jitter_contrast': 0.4596263353690486, 'color_jitter_saturation': 0.25440574463433596, 'color_jitter_hue': 0.12441681652245623, 'enable_affine': False}. Best is trial 1 with value: 0.0446958988904953.\n"
     ]
    },
    {
     "name": "stdout",
     "output_type": "stream",
     "text": [
      "epoch=3; train_loss=0.0571; val_loss=0.7095; val_map=0.0301\n"
     ]
    },
    {
     "data": {
      "application/vnd.jupyter.widget-view+json": {
       "model_id": "c5b91e43aa964a73a13075fbace83d98",
       "version_major": 2,
       "version_minor": 0
      },
      "text/plain": [
       "Train Epoch 1:   0%|          | 0/84 [00:00<?, ?it/s]"
      ]
     },
     "metadata": {},
     "output_type": "display_data"
    },
    {
     "name": "stdout",
     "output_type": "stream",
     "text": [
      "epoch=1; train_loss=0.1581; val_loss=1.0705; val_map=0.0274\n"
     ]
    },
    {
     "data": {
      "application/vnd.jupyter.widget-view+json": {
       "model_id": "0dcab2a1ca5a45f288a0a62bc62600fe",
       "version_major": 2,
       "version_minor": 0
      },
      "text/plain": [
       "Train Epoch 2:   0%|          | 0/84 [00:00<?, ?it/s]"
      ]
     },
     "metadata": {},
     "output_type": "display_data"
    },
    {
     "name": "stdout",
     "output_type": "stream",
     "text": [
      "epoch=2; train_loss=0.0574; val_loss=1.2415; val_map=0.0294\n"
     ]
    },
    {
     "data": {
      "application/vnd.jupyter.widget-view+json": {
       "model_id": "bc032d9f62b146e188fc23a133929097",
       "version_major": 2,
       "version_minor": 0
      },
      "text/plain": [
       "Train Epoch 3:   0%|          | 0/84 [00:00<?, ?it/s]"
      ]
     },
     "metadata": {},
     "output_type": "display_data"
    },
    {
     "name": "stderr",
     "output_type": "stream",
     "text": [
      "[I 2025-08-20 11:27:41,086] Trial 9 finished with value: 0.03330333158373833 and parameters: {'enable_horizontal_flip': False, 'enable_color_jitter': False, 'enable_affine': False}. Best is trial 1 with value: 0.0446958988904953.\n"
     ]
    },
    {
     "name": "stdout",
     "output_type": "stream",
     "text": [
      "epoch=3; train_loss=0.0393; val_loss=1.1604; val_map=0.0333\n"
     ]
    },
    {
     "data": {
      "application/vnd.jupyter.widget-view+json": {
       "model_id": "73006b9499344587ada70523f0ca7112",
       "version_major": 2,
       "version_minor": 0
      },
      "text/plain": [
       "Train Epoch 1:   0%|          | 0/84 [00:00<?, ?it/s]"
      ]
     },
     "metadata": {},
     "output_type": "display_data"
    },
    {
     "name": "stdout",
     "output_type": "stream",
     "text": [
      "epoch=1; train_loss=0.1549; val_loss=1.0085; val_map=0.0154\n"
     ]
    },
    {
     "data": {
      "application/vnd.jupyter.widget-view+json": {
       "model_id": "d65df43d93ab429c9a113b635ac82ac2",
       "version_major": 2,
       "version_minor": 0
      },
      "text/plain": [
       "Train Epoch 2:   0%|          | 0/84 [00:00<?, ?it/s]"
      ]
     },
     "metadata": {},
     "output_type": "display_data"
    },
    {
     "name": "stdout",
     "output_type": "stream",
     "text": [
      "epoch=2; train_loss=0.0710; val_loss=0.6692; val_map=0.0258\n"
     ]
    },
    {
     "data": {
      "application/vnd.jupyter.widget-view+json": {
       "model_id": "50ada4af86094c5f871f4d8951601c55",
       "version_major": 2,
       "version_minor": 0
      },
      "text/plain": [
       "Train Epoch 3:   0%|          | 0/84 [00:00<?, ?it/s]"
      ]
     },
     "metadata": {},
     "output_type": "display_data"
    },
    {
     "name": "stderr",
     "output_type": "stream",
     "text": [
      "[I 2025-08-20 11:29:05,048] Trial 10 finished with value: 0.019705384969711304 and parameters: {'enable_horizontal_flip': False, 'enable_color_jitter': False, 'enable_affine': True, 'enable_affine_scale': False, 'enable_affine_rotate': True, 'affine_rotate_min': -16.432771996238465, 'affine_rotate_max': 15.148721085529816, 'enable_affine_shear': False}. Best is trial 1 with value: 0.0446958988904953.\n"
     ]
    },
    {
     "name": "stdout",
     "output_type": "stream",
     "text": [
      "epoch=3; train_loss=0.0533; val_loss=0.9809; val_map=0.0197\n"
     ]
    },
    {
     "data": {
      "application/vnd.jupyter.widget-view+json": {
       "model_id": "5bd4f227f8244623aa202f8233f9517a",
       "version_major": 2,
       "version_minor": 0
      },
      "text/plain": [
       "Train Epoch 1:   0%|          | 0/84 [00:00<?, ?it/s]"
      ]
     },
     "metadata": {},
     "output_type": "display_data"
    },
    {
     "name": "stdout",
     "output_type": "stream",
     "text": [
      "epoch=1; train_loss=0.4328; val_loss=0.4078; val_map=0.0172\n"
     ]
    },
    {
     "data": {
      "application/vnd.jupyter.widget-view+json": {
       "model_id": "d07a7b8f0a4c4f58bcfb0724fc362d66",
       "version_major": 2,
       "version_minor": 0
      },
      "text/plain": [
       "Train Epoch 2:   0%|          | 0/84 [00:00<?, ?it/s]"
      ]
     },
     "metadata": {},
     "output_type": "display_data"
    },
    {
     "name": "stdout",
     "output_type": "stream",
     "text": [
      "epoch=2; train_loss=0.2617; val_loss=0.4860; val_map=0.0161\n"
     ]
    },
    {
     "data": {
      "application/vnd.jupyter.widget-view+json": {
       "model_id": "b87b86e57a3243ea80f58bc85f56691b",
       "version_major": 2,
       "version_minor": 0
      },
      "text/plain": [
       "Train Epoch 3:   0%|          | 0/84 [00:00<?, ?it/s]"
      ]
     },
     "metadata": {},
     "output_type": "display_data"
    },
    {
     "name": "stderr",
     "output_type": "stream",
     "text": [
      "[I 2025-08-20 11:30:31,546] Trial 11 finished with value: 0.04714757204055786 and parameters: {'enable_horizontal_flip': True, 'enable_color_jitter': False, 'enable_affine': True, 'enable_affine_scale': True, 'affine_scale_min': 0.18796364830177004, 'affine_scale_max': 0.20160556506500124, 'enable_affine_rotate': True, 'affine_rotate_min': -18.517025625927655, 'affine_rotate_max': 19.50820020054424, 'enable_affine_shear': True, 'affine_shear_min': -19.424137233879602, 'affine_shear_max': 15.001345476705026}. Best is trial 11 with value: 0.04714757204055786.\n"
     ]
    },
    {
     "name": "stdout",
     "output_type": "stream",
     "text": [
      "epoch=3; train_loss=0.2078; val_loss=0.6474; val_map=0.0471\n"
     ]
    },
    {
     "data": {
      "application/vnd.jupyter.widget-view+json": {
       "model_id": "ea331ce9261c4e998f4c99ca4a84890b",
       "version_major": 2,
       "version_minor": 0
      },
      "text/plain": [
       "Train Epoch 1:   0%|          | 0/84 [00:00<?, ?it/s]"
      ]
     },
     "metadata": {},
     "output_type": "display_data"
    },
    {
     "name": "stdout",
     "output_type": "stream",
     "text": [
      "epoch=1; train_loss=0.3561; val_loss=0.4528; val_map=0.0086\n"
     ]
    },
    {
     "data": {
      "application/vnd.jupyter.widget-view+json": {
       "model_id": "8e47f588a7a843a9b573fbe540d158f3",
       "version_major": 2,
       "version_minor": 0
      },
      "text/plain": [
       "Train Epoch 2:   0%|          | 0/84 [00:00<?, ?it/s]"
      ]
     },
     "metadata": {},
     "output_type": "display_data"
    },
    {
     "name": "stdout",
     "output_type": "stream",
     "text": [
      "epoch=2; train_loss=0.2341; val_loss=0.4420; val_map=0.0313\n"
     ]
    },
    {
     "data": {
      "application/vnd.jupyter.widget-view+json": {
       "model_id": "80d4cc7c4ec247979bc35871f6b5e254",
       "version_major": 2,
       "version_minor": 0
      },
      "text/plain": [
       "Train Epoch 3:   0%|          | 0/84 [00:00<?, ?it/s]"
      ]
     },
     "metadata": {},
     "output_type": "display_data"
    },
    {
     "name": "stderr",
     "output_type": "stream",
     "text": [
      "[I 2025-08-20 11:31:58,420] Trial 12 finished with value: 0.031166594475507736 and parameters: {'enable_horizontal_flip': True, 'enable_color_jitter': False, 'enable_affine': True, 'enable_affine_scale': True, 'affine_scale_min': 0.1997626258097611, 'affine_scale_max': 0.200084226578598, 'enable_affine_rotate': True, 'affine_rotate_min': -18.547372035813943, 'affine_rotate_max': 19.913349727477968, 'enable_affine_shear': True, 'affine_shear_min': -19.894695850887953, 'affine_shear_max': 15.081326329304252}. Best is trial 11 with value: 0.04714757204055786.\n"
     ]
    },
    {
     "name": "stdout",
     "output_type": "stream",
     "text": [
      "epoch=3; train_loss=0.2120; val_loss=0.7726; val_map=0.0312\n"
     ]
    },
    {
     "data": {
      "application/vnd.jupyter.widget-view+json": {
       "model_id": "58112631803344e3985998041f944220",
       "version_major": 2,
       "version_minor": 0
      },
      "text/plain": [
       "Train Epoch 1:   0%|          | 0/84 [00:00<?, ?it/s]"
      ]
     },
     "metadata": {},
     "output_type": "display_data"
    },
    {
     "name": "stdout",
     "output_type": "stream",
     "text": [
      "epoch=1; train_loss=0.4303; val_loss=1.4468; val_map=0.0100\n"
     ]
    },
    {
     "data": {
      "application/vnd.jupyter.widget-view+json": {
       "model_id": "ad33ebb125614ee1949073d280bd32aa",
       "version_major": 2,
       "version_minor": 0
      },
      "text/plain": [
       "Train Epoch 2:   0%|          | 0/84 [00:00<?, ?it/s]"
      ]
     },
     "metadata": {},
     "output_type": "display_data"
    },
    {
     "name": "stdout",
     "output_type": "stream",
     "text": [
      "epoch=2; train_loss=0.2443; val_loss=1.4008; val_map=0.0169\n"
     ]
    },
    {
     "data": {
      "application/vnd.jupyter.widget-view+json": {
       "model_id": "2fa5a8e8afe04a4383076c74325c0afb",
       "version_major": 2,
       "version_minor": 0
      },
      "text/plain": [
       "Train Epoch 3:   0%|          | 0/84 [00:00<?, ?it/s]"
      ]
     },
     "metadata": {},
     "output_type": "display_data"
    },
    {
     "name": "stderr",
     "output_type": "stream",
     "text": [
      "[I 2025-08-20 11:33:24,773] Trial 13 finished with value: 0.029592365026474 and parameters: {'enable_horizontal_flip': True, 'enable_color_jitter': False, 'enable_affine': True, 'enable_affine_scale': True, 'affine_scale_min': 0.18937008606203293, 'affine_scale_max': 0.19164245156464213, 'enable_affine_rotate': True, 'affine_rotate_min': -17.880435333556402, 'affine_rotate_max': 19.837360990837436, 'enable_affine_shear': True, 'affine_shear_min': -19.689390906996568, 'affine_shear_max': 15.301358186380329}. Best is trial 11 with value: 0.04714757204055786.\n"
     ]
    },
    {
     "name": "stdout",
     "output_type": "stream",
     "text": [
      "epoch=3; train_loss=0.2258; val_loss=1.3893; val_map=0.0296\n"
     ]
    },
    {
     "data": {
      "application/vnd.jupyter.widget-view+json": {
       "model_id": "ae2a21839a45489cb37a73d8bf8fdebf",
       "version_major": 2,
       "version_minor": 0
      },
      "text/plain": [
       "Train Epoch 1:   0%|          | 0/84 [00:00<?, ?it/s]"
      ]
     },
     "metadata": {},
     "output_type": "display_data"
    },
    {
     "name": "stdout",
     "output_type": "stream",
     "text": [
      "epoch=1; train_loss=0.1574; val_loss=0.3916; val_map=0.0197\n"
     ]
    },
    {
     "data": {
      "application/vnd.jupyter.widget-view+json": {
       "model_id": "940b2985a3d24edbac21b7328c16d48c",
       "version_major": 2,
       "version_minor": 0
      },
      "text/plain": [
       "Train Epoch 2:   0%|          | 0/84 [00:00<?, ?it/s]"
      ]
     },
     "metadata": {},
     "output_type": "display_data"
    },
    {
     "name": "stdout",
     "output_type": "stream",
     "text": [
      "epoch=2; train_loss=0.0691; val_loss=0.9797; val_map=0.0435\n"
     ]
    },
    {
     "data": {
      "application/vnd.jupyter.widget-view+json": {
       "model_id": "1b847765ca284f49b46dd3ec64c8fdf1",
       "version_major": 2,
       "version_minor": 0
      },
      "text/plain": [
       "Train Epoch 3:   0%|          | 0/84 [00:00<?, ?it/s]"
      ]
     },
     "metadata": {},
     "output_type": "display_data"
    },
    {
     "name": "stderr",
     "output_type": "stream",
     "text": [
      "[I 2025-08-20 11:34:49,175] Trial 14 finished with value: 0.0330033004283905 and parameters: {'enable_horizontal_flip': True, 'enable_color_jitter': False, 'enable_affine': True, 'enable_affine_scale': False, 'enable_affine_rotate': True, 'affine_rotate_min': -19.89230320568225, 'affine_rotate_max': 17.31429715404746, 'enable_affine_shear': True, 'affine_shear_min': -17.724813023921318, 'affine_shear_max': 16.72607067275471}. Best is trial 11 with value: 0.04714757204055786.\n"
     ]
    },
    {
     "name": "stdout",
     "output_type": "stream",
     "text": [
      "epoch=3; train_loss=0.0533; val_loss=1.0736; val_map=0.0330\n"
     ]
    },
    {
     "data": {
      "application/vnd.jupyter.widget-view+json": {
       "model_id": "06f17583cfb244dfb78a40b54dd8b7f0",
       "version_major": 2,
       "version_minor": 0
      },
      "text/plain": [
       "Train Epoch 1:   0%|          | 0/84 [00:00<?, ?it/s]"
      ]
     },
     "metadata": {},
     "output_type": "display_data"
    },
    {
     "name": "stdout",
     "output_type": "stream",
     "text": [
      "epoch=1; train_loss=0.4165; val_loss=0.4359; val_map=0.0106\n"
     ]
    },
    {
     "data": {
      "application/vnd.jupyter.widget-view+json": {
       "model_id": "ae95aa1970a84c23bd5f374ea1ed23cb",
       "version_major": 2,
       "version_minor": 0
      },
      "text/plain": [
       "Train Epoch 2:   0%|          | 0/84 [00:00<?, ?it/s]"
      ]
     },
     "metadata": {},
     "output_type": "display_data"
    },
    {
     "name": "stdout",
     "output_type": "stream",
     "text": [
      "epoch=2; train_loss=0.2325; val_loss=0.6799; val_map=0.0367\n"
     ]
    },
    {
     "data": {
      "application/vnd.jupyter.widget-view+json": {
       "model_id": "ffebecd688dc4527a6e507747b890e44",
       "version_major": 2,
       "version_minor": 0
      },
      "text/plain": [
       "Train Epoch 3:   0%|          | 0/84 [00:00<?, ?it/s]"
      ]
     },
     "metadata": {},
     "output_type": "display_data"
    },
    {
     "name": "stderr",
     "output_type": "stream",
     "text": [
      "[I 2025-08-20 11:36:13,997] Trial 15 finished with value: 0.013246222399175167 and parameters: {'enable_horizontal_flip': True, 'enable_color_jitter': False, 'enable_affine': True, 'enable_affine_scale': True, 'affine_scale_min': 0.14041780621479616, 'affine_scale_max': 0.2812294952007153, 'enable_affine_rotate': True, 'affine_rotate_min': -17.025348237104048, 'affine_rotate_max': 18.343537018574146, 'enable_affine_shear': False}. Best is trial 11 with value: 0.04714757204055786.\n"
     ]
    },
    {
     "name": "stdout",
     "output_type": "stream",
     "text": [
      "epoch=3; train_loss=0.2099; val_loss=0.8548; val_map=0.0132\n"
     ]
    },
    {
     "data": {
      "application/vnd.jupyter.widget-view+json": {
       "model_id": "51c1b777a253416e9410434f26e496dc",
       "version_major": 2,
       "version_minor": 0
      },
      "text/plain": [
       "Train Epoch 1:   0%|          | 0/84 [00:00<?, ?it/s]"
      ]
     },
     "metadata": {},
     "output_type": "display_data"
    },
    {
     "name": "stdout",
     "output_type": "stream",
     "text": [
      "epoch=1; train_loss=0.4214; val_loss=0.9181; val_map=0.0263\n"
     ]
    },
    {
     "data": {
      "application/vnd.jupyter.widget-view+json": {
       "model_id": "308f156938314d158eb663acee5eac90",
       "version_major": 2,
       "version_minor": 0
      },
      "text/plain": [
       "Train Epoch 2:   0%|          | 0/84 [00:00<?, ?it/s]"
      ]
     },
     "metadata": {},
     "output_type": "display_data"
    },
    {
     "name": "stdout",
     "output_type": "stream",
     "text": [
      "epoch=2; train_loss=0.2306; val_loss=0.6859; val_map=0.0109\n"
     ]
    },
    {
     "data": {
      "application/vnd.jupyter.widget-view+json": {
       "model_id": "c3f2ab3ccabe4909ac6135ed30167c5d",
       "version_major": 2,
       "version_minor": 0
      },
      "text/plain": [
       "Train Epoch 3:   0%|          | 0/84 [00:00<?, ?it/s]"
      ]
     },
     "metadata": {},
     "output_type": "display_data"
    },
    {
     "name": "stderr",
     "output_type": "stream",
     "text": [
      "[I 2025-08-20 11:37:34,085] Trial 16 finished with value: 0.014399123378098011 and parameters: {'enable_horizontal_flip': True, 'enable_color_jitter': False, 'enable_affine': True, 'enable_affine_scale': True, 'affine_scale_min': 0.13983711376770613, 'affine_scale_max': 0.49400480413988535, 'enable_affine_rotate': True, 'affine_rotate_min': -15.054960622770343, 'affine_rotate_max': 16.035883442509206, 'enable_affine_shear': True, 'affine_shear_min': -18.047271551131086, 'affine_shear_max': 19.902667972110173}. Best is trial 11 with value: 0.04714757204055786.\n"
     ]
    },
    {
     "name": "stdout",
     "output_type": "stream",
     "text": [
      "epoch=3; train_loss=0.1909; val_loss=1.0076; val_map=0.0144\n"
     ]
    },
    {
     "data": {
      "application/vnd.jupyter.widget-view+json": {
       "model_id": "8d10ffd2a62e425b84faf1e28ddca8a9",
       "version_major": 2,
       "version_minor": 0
      },
      "text/plain": [
       "Train Epoch 1:   0%|          | 0/84 [00:00<?, ?it/s]"
      ]
     },
     "metadata": {},
     "output_type": "display_data"
    },
    {
     "name": "stdout",
     "output_type": "stream",
     "text": [
      "epoch=1; train_loss=0.1639; val_loss=1.0140; val_map=0.0437\n"
     ]
    },
    {
     "data": {
      "application/vnd.jupyter.widget-view+json": {
       "model_id": "d6ff1a5f72ff41a5a65ce5ea8be9e528",
       "version_major": 2,
       "version_minor": 0
      },
      "text/plain": [
       "Train Epoch 2:   0%|          | 0/84 [00:00<?, ?it/s]"
      ]
     },
     "metadata": {},
     "output_type": "display_data"
    },
    {
     "name": "stdout",
     "output_type": "stream",
     "text": [
      "epoch=2; train_loss=0.0642; val_loss=0.6445; val_map=0.0454\n"
     ]
    },
    {
     "data": {
      "application/vnd.jupyter.widget-view+json": {
       "model_id": "82b01bcc75dd4b7f9d2e00396b729c17",
       "version_major": 2,
       "version_minor": 0
      },
      "text/plain": [
       "Train Epoch 3:   0%|          | 0/84 [00:00<?, ?it/s]"
      ]
     },
     "metadata": {},
     "output_type": "display_data"
    },
    {
     "name": "stderr",
     "output_type": "stream",
     "text": [
      "[I 2025-08-20 11:38:49,193] Trial 17 finished with value: 0.044408854097127914 and parameters: {'enable_horizontal_flip': True, 'enable_color_jitter': False, 'enable_affine': True, 'enable_affine_scale': False, 'enable_affine_rotate': False, 'enable_affine_shear': False}. Best is trial 11 with value: 0.04714757204055786.\n"
     ]
    },
    {
     "name": "stdout",
     "output_type": "stream",
     "text": [
      "epoch=3; train_loss=0.0493; val_loss=1.1237; val_map=0.0444\n"
     ]
    },
    {
     "data": {
      "application/vnd.jupyter.widget-view+json": {
       "model_id": "35d6838d2cdc4008bd4f0a77a3b18f8a",
       "version_major": 2,
       "version_minor": 0
      },
      "text/plain": [
       "Train Epoch 1:   0%|          | 0/84 [00:00<?, ?it/s]"
      ]
     },
     "metadata": {},
     "output_type": "display_data"
    },
    {
     "name": "stdout",
     "output_type": "stream",
     "text": [
      "epoch=1; train_loss=0.1514; val_loss=0.8373; val_map=0.0289\n"
     ]
    },
    {
     "data": {
      "application/vnd.jupyter.widget-view+json": {
       "model_id": "4f056d9b876a481797ad706f2a4c81eb",
       "version_major": 2,
       "version_minor": 0
      },
      "text/plain": [
       "Train Epoch 2:   0%|          | 0/84 [00:00<?, ?it/s]"
      ]
     },
     "metadata": {},
     "output_type": "display_data"
    },
    {
     "name": "stdout",
     "output_type": "stream",
     "text": [
      "epoch=2; train_loss=0.0684; val_loss=0.8077; val_map=0.0343\n"
     ]
    },
    {
     "data": {
      "application/vnd.jupyter.widget-view+json": {
       "model_id": "95e8f85e4fa64baaab0225d43fdab555",
       "version_major": 2,
       "version_minor": 0
      },
      "text/plain": [
       "Train Epoch 3:   0%|          | 0/84 [00:00<?, ?it/s]"
      ]
     },
     "metadata": {},
     "output_type": "display_data"
    },
    {
     "name": "stderr",
     "output_type": "stream",
     "text": [
      "[I 2025-08-20 11:40:05,917] Trial 18 finished with value: 0.041206978261470795 and parameters: {'enable_horizontal_flip': False, 'enable_color_jitter': False, 'enable_affine': True, 'enable_affine_scale': False, 'enable_affine_rotate': True, 'affine_rotate_min': -18.55327684790358, 'affine_rotate_max': 18.719877896771404, 'enable_affine_shear': False}. Best is trial 11 with value: 0.04714757204055786.\n"
     ]
    },
    {
     "name": "stdout",
     "output_type": "stream",
     "text": [
      "epoch=3; train_loss=0.0620; val_loss=0.9420; val_map=0.0412\n"
     ]
    },
    {
     "data": {
      "application/vnd.jupyter.widget-view+json": {
       "model_id": "4a7749a2bb20475ba9d170c0d892eb61",
       "version_major": 2,
       "version_minor": 0
      },
      "text/plain": [
       "Train Epoch 1:   0%|          | 0/84 [00:00<?, ?it/s]"
      ]
     },
     "metadata": {},
     "output_type": "display_data"
    },
    {
     "name": "stdout",
     "output_type": "stream",
     "text": [
      "epoch=1; train_loss=0.7019; val_loss=1.7874; val_map=0.0255\n"
     ]
    },
    {
     "data": {
      "application/vnd.jupyter.widget-view+json": {
       "model_id": "93b6efe7f489485db1ebbb8821bde45f",
       "version_major": 2,
       "version_minor": 0
      },
      "text/plain": [
       "Train Epoch 2:   0%|          | 0/84 [00:00<?, ?it/s]"
      ]
     },
     "metadata": {},
     "output_type": "display_data"
    },
    {
     "name": "stdout",
     "output_type": "stream",
     "text": [
      "epoch=2; train_loss=0.3016; val_loss=1.0857; val_map=0.0092\n"
     ]
    },
    {
     "data": {
      "application/vnd.jupyter.widget-view+json": {
       "model_id": "bcdc5f6010a842ba9de4ae3c5b835eeb",
       "version_major": 2,
       "version_minor": 0
      },
      "text/plain": [
       "Train Epoch 3:   0%|          | 0/84 [00:00<?, ?it/s]"
      ]
     },
     "metadata": {},
     "output_type": "display_data"
    },
    {
     "name": "stderr",
     "output_type": "stream",
     "text": [
      "[I 2025-08-20 11:41:23,966] Trial 19 finished with value: 0.014209127984941006 and parameters: {'enable_horizontal_flip': True, 'enable_color_jitter': False, 'enable_affine': True, 'enable_affine_scale': True, 'affine_scale_min': 0.053397577151065426, 'affine_scale_max': 0.08155165893655524, 'enable_affine_rotate': True, 'affine_rotate_min': -18.01493057677981, 'affine_rotate_max': 16.481854556836517, 'enable_affine_shear': True, 'affine_shear_min': -16.004314276640013, 'affine_shear_max': 16.889384882829372}. Best is trial 11 with value: 0.04714757204055786.\n"
     ]
    },
    {
     "name": "stdout",
     "output_type": "stream",
     "text": [
      "epoch=3; train_loss=0.2735; val_loss=1.6393; val_map=0.0142\n"
     ]
    },
    {
     "data": {
      "application/vnd.jupyter.widget-view+json": {
       "model_id": "7e80789e37464c179ec8e93c77ae9212",
       "version_major": 2,
       "version_minor": 0
      },
      "text/plain": [
       "Train Epoch 1:   0%|          | 0/84 [00:00<?, ?it/s]"
      ]
     },
     "metadata": {},
     "output_type": "display_data"
    },
    {
     "name": "stdout",
     "output_type": "stream",
     "text": [
      "epoch=1; train_loss=0.1655; val_loss=1.0812; val_map=0.0292\n"
     ]
    },
    {
     "data": {
      "application/vnd.jupyter.widget-view+json": {
       "model_id": "5168f2361c8f486aba1fc92a0b3af03f",
       "version_major": 2,
       "version_minor": 0
      },
      "text/plain": [
       "Train Epoch 2:   0%|          | 0/84 [00:00<?, ?it/s]"
      ]
     },
     "metadata": {},
     "output_type": "display_data"
    },
    {
     "name": "stdout",
     "output_type": "stream",
     "text": [
      "epoch=2; train_loss=0.0773; val_loss=0.8039; val_map=0.0416\n"
     ]
    },
    {
     "data": {
      "application/vnd.jupyter.widget-view+json": {
       "model_id": "5266732072af46f09ecae5b1f369c28a",
       "version_major": 2,
       "version_minor": 0
      },
      "text/plain": [
       "Train Epoch 3:   0%|          | 0/84 [00:00<?, ?it/s]"
      ]
     },
     "metadata": {},
     "output_type": "display_data"
    },
    {
     "name": "stderr",
     "output_type": "stream",
     "text": [
      "[I 2025-08-20 11:42:39,911] Trial 20 finished with value: 0.03984566032886505 and parameters: {'enable_horizontal_flip': True, 'enable_color_jitter': False, 'enable_affine': True, 'enable_affine_scale': False, 'enable_affine_rotate': False, 'enable_affine_shear': True, 'affine_shear_min': -18.79322787023266, 'affine_shear_max': 18.10627559438266}. Best is trial 11 with value: 0.04714757204055786.\n"
     ]
    },
    {
     "name": "stdout",
     "output_type": "stream",
     "text": [
      "epoch=3; train_loss=0.0566; val_loss=0.8937; val_map=0.0398\n"
     ]
    },
    {
     "data": {
      "application/vnd.jupyter.widget-view+json": {
       "model_id": "06427897ffbd4cde8613555e4a6f458a",
       "version_major": 2,
       "version_minor": 0
      },
      "text/plain": [
       "Train Epoch 1:   0%|          | 0/84 [00:00<?, ?it/s]"
      ]
     },
     "metadata": {},
     "output_type": "display_data"
    },
    {
     "name": "stdout",
     "output_type": "stream",
     "text": [
      "epoch=1; train_loss=0.1410; val_loss=1.1323; val_map=0.0296\n"
     ]
    },
    {
     "data": {
      "application/vnd.jupyter.widget-view+json": {
       "model_id": "83ca241acd2b40fb98d09d914e56ccab",
       "version_major": 2,
       "version_minor": 0
      },
      "text/plain": [
       "Train Epoch 2:   0%|          | 0/84 [00:00<?, ?it/s]"
      ]
     },
     "metadata": {},
     "output_type": "display_data"
    },
    {
     "name": "stdout",
     "output_type": "stream",
     "text": [
      "epoch=2; train_loss=0.0522; val_loss=1.1040; val_map=0.0338\n"
     ]
    },
    {
     "data": {
      "application/vnd.jupyter.widget-view+json": {
       "model_id": "2d2f9a551cff4dd68013361b45aebdf0",
       "version_major": 2,
       "version_minor": 0
      },
      "text/plain": [
       "Train Epoch 3:   0%|          | 0/84 [00:00<?, ?it/s]"
      ]
     },
     "metadata": {},
     "output_type": "display_data"
    },
    {
     "name": "stderr",
     "output_type": "stream",
     "text": [
      "[I 2025-08-20 11:43:56,075] Trial 21 finished with value: 0.04426325112581253 and parameters: {'enable_horizontal_flip': True, 'enable_color_jitter': False, 'enable_affine': True, 'enable_affine_scale': False, 'enable_affine_rotate': False, 'enable_affine_shear': False}. Best is trial 11 with value: 0.04714757204055786.\n"
     ]
    },
    {
     "name": "stdout",
     "output_type": "stream",
     "text": [
      "epoch=3; train_loss=0.0551; val_loss=1.2726; val_map=0.0443\n"
     ]
    },
    {
     "data": {
      "application/vnd.jupyter.widget-view+json": {
       "model_id": "58980857660e4c84abd1405d0d9d57b5",
       "version_major": 2,
       "version_minor": 0
      },
      "text/plain": [
       "Train Epoch 1:   0%|          | 0/84 [00:00<?, ?it/s]"
      ]
     },
     "metadata": {},
     "output_type": "display_data"
    },
    {
     "name": "stdout",
     "output_type": "stream",
     "text": [
      "epoch=1; train_loss=0.1440; val_loss=0.8820; val_map=0.0226\n"
     ]
    },
    {
     "data": {
      "application/vnd.jupyter.widget-view+json": {
       "model_id": "ee20b9c0417b495b9b7a13d2e993565f",
       "version_major": 2,
       "version_minor": 0
      },
      "text/plain": [
       "Train Epoch 2:   0%|          | 0/84 [00:00<?, ?it/s]"
      ]
     },
     "metadata": {},
     "output_type": "display_data"
    },
    {
     "name": "stdout",
     "output_type": "stream",
     "text": [
      "epoch=2; train_loss=0.0580; val_loss=0.7885; val_map=0.0293\n"
     ]
    },
    {
     "data": {
      "application/vnd.jupyter.widget-view+json": {
       "model_id": "3f221089dbdf4df0b5c209a7df5c535f",
       "version_major": 2,
       "version_minor": 0
      },
      "text/plain": [
       "Train Epoch 3:   0%|          | 0/84 [00:00<?, ?it/s]"
      ]
     },
     "metadata": {},
     "output_type": "display_data"
    },
    {
     "name": "stderr",
     "output_type": "stream",
     "text": [
      "[I 2025-08-20 11:45:12,219] Trial 22 finished with value: 0.037803780287504196 and parameters: {'enable_horizontal_flip': True, 'enable_color_jitter': False, 'enable_affine': True, 'enable_affine_scale': False, 'enable_affine_rotate': False, 'enable_affine_shear': False}. Best is trial 11 with value: 0.04714757204055786.\n"
     ]
    },
    {
     "name": "stdout",
     "output_type": "stream",
     "text": [
      "epoch=3; train_loss=0.0558; val_loss=0.8516; val_map=0.0378\n"
     ]
    },
    {
     "data": {
      "application/vnd.jupyter.widget-view+json": {
       "model_id": "aee9c3b7bd4c40ee89134c7a5d29ecf0",
       "version_major": 2,
       "version_minor": 0
      },
      "text/plain": [
       "Train Epoch 1:   0%|          | 0/84 [00:00<?, ?it/s]"
      ]
     },
     "metadata": {},
     "output_type": "display_data"
    },
    {
     "name": "stdout",
     "output_type": "stream",
     "text": [
      "epoch=1; train_loss=0.1228; val_loss=1.3724; val_map=0.0266\n"
     ]
    },
    {
     "data": {
      "application/vnd.jupyter.widget-view+json": {
       "model_id": "9c5406778893406185b9c66997625b29",
       "version_major": 2,
       "version_minor": 0
      },
      "text/plain": [
       "Train Epoch 2:   0%|          | 0/84 [00:00<?, ?it/s]"
      ]
     },
     "metadata": {},
     "output_type": "display_data"
    },
    {
     "name": "stdout",
     "output_type": "stream",
     "text": [
      "epoch=2; train_loss=0.0541; val_loss=1.3089; val_map=0.0295\n"
     ]
    },
    {
     "data": {
      "application/vnd.jupyter.widget-view+json": {
       "model_id": "95bf52752a584368849279a551fb102a",
       "version_major": 2,
       "version_minor": 0
      },
      "text/plain": [
       "Train Epoch 3:   0%|          | 0/84 [00:00<?, ?it/s]"
      ]
     },
     "metadata": {},
     "output_type": "display_data"
    },
    {
     "name": "stderr",
     "output_type": "stream",
     "text": [
      "[I 2025-08-20 11:46:29,209] Trial 23 finished with value: 0.03410341218113899 and parameters: {'enable_horizontal_flip': True, 'enable_color_jitter': False, 'enable_affine': True, 'enable_affine_scale': False, 'enable_affine_rotate': False, 'enable_affine_shear': False}. Best is trial 11 with value: 0.04714757204055786.\n"
     ]
    },
    {
     "name": "stdout",
     "output_type": "stream",
     "text": [
      "epoch=3; train_loss=0.0437; val_loss=1.3640; val_map=0.0341\n"
     ]
    },
    {
     "data": {
      "application/vnd.jupyter.widget-view+json": {
       "model_id": "e5b9dd786b6d4ad0941dd50fc1826f4e",
       "version_major": 2,
       "version_minor": 0
      },
      "text/plain": [
       "Train Epoch 1:   0%|          | 0/84 [00:00<?, ?it/s]"
      ]
     },
     "metadata": {},
     "output_type": "display_data"
    },
    {
     "name": "stdout",
     "output_type": "stream",
     "text": [
      "epoch=1; train_loss=0.4191; val_loss=0.4416; val_map=0.0073\n"
     ]
    },
    {
     "data": {
      "application/vnd.jupyter.widget-view+json": {
       "model_id": "d8f1f8a23ebc4a438b27f9101ed9eb4f",
       "version_major": 2,
       "version_minor": 0
      },
      "text/plain": [
       "Train Epoch 2:   0%|          | 0/84 [00:00<?, ?it/s]"
      ]
     },
     "metadata": {},
     "output_type": "display_data"
    },
    {
     "name": "stdout",
     "output_type": "stream",
     "text": [
      "epoch=2; train_loss=0.2145; val_loss=0.5350; val_map=0.0159\n"
     ]
    },
    {
     "data": {
      "application/vnd.jupyter.widget-view+json": {
       "model_id": "7aa808ff14354d73b1257a4f07b21109",
       "version_major": 2,
       "version_minor": 0
      },
      "text/plain": [
       "Train Epoch 3:   0%|          | 0/84 [00:00<?, ?it/s]"
      ]
     },
     "metadata": {},
     "output_type": "display_data"
    },
    {
     "name": "stderr",
     "output_type": "stream",
     "text": [
      "[I 2025-08-20 11:47:52,454] Trial 24 finished with value: 0.02280704863369465 and parameters: {'enable_horizontal_flip': True, 'enable_color_jitter': False, 'enable_affine': True, 'enable_affine_scale': True, 'affine_scale_min': 0.16723626352270698, 'affine_scale_max': 0.34773809725584326, 'enable_affine_rotate': True, 'affine_rotate_min': -19.194524365776832, 'affine_rotate_max': 18.507130479005863, 'enable_affine_shear': False}. Best is trial 11 with value: 0.04714757204055786.\n"
     ]
    },
    {
     "name": "stdout",
     "output_type": "stream",
     "text": [
      "epoch=3; train_loss=0.2005; val_loss=0.4982; val_map=0.0228\n"
     ]
    },
    {
     "data": {
      "application/vnd.jupyter.widget-view+json": {
       "model_id": "210a59dbde034f3fadeb858fcc9fcabf",
       "version_major": 2,
       "version_minor": 0
      },
      "text/plain": [
       "Train Epoch 1:   0%|          | 0/84 [00:00<?, ?it/s]"
      ]
     },
     "metadata": {},
     "output_type": "display_data"
    },
    {
     "name": "stdout",
     "output_type": "stream",
     "text": [
      "epoch=1; train_loss=0.1466; val_loss=0.8997; val_map=0.0262\n"
     ]
    },
    {
     "data": {
      "application/vnd.jupyter.widget-view+json": {
       "model_id": "d64f0d1c440140f6917c34c82ab5481f",
       "version_major": 2,
       "version_minor": 0
      },
      "text/plain": [
       "Train Epoch 2:   0%|          | 0/84 [00:00<?, ?it/s]"
      ]
     },
     "metadata": {},
     "output_type": "display_data"
    },
    {
     "name": "stdout",
     "output_type": "stream",
     "text": [
      "epoch=2; train_loss=0.0513; val_loss=1.1654; val_map=0.0275\n"
     ]
    },
    {
     "data": {
      "application/vnd.jupyter.widget-view+json": {
       "model_id": "a13e262731e743728b2066060e599d55",
       "version_major": 2,
       "version_minor": 0
      },
      "text/plain": [
       "Train Epoch 3:   0%|          | 0/84 [00:00<?, ?it/s]"
      ]
     },
     "metadata": {},
     "output_type": "display_data"
    },
    {
     "name": "stderr",
     "output_type": "stream",
     "text": [
      "[I 2025-08-20 11:49:14,272] Trial 25 finished with value: 0.03706524521112442 and parameters: {'enable_horizontal_flip': True, 'enable_color_jitter': False, 'enable_affine': True, 'enable_affine_scale': False, 'enable_affine_rotate': False, 'enable_affine_shear': False}. Best is trial 11 with value: 0.04714757204055786.\n"
     ]
    },
    {
     "name": "stdout",
     "output_type": "stream",
     "text": [
      "epoch=3; train_loss=0.0440; val_loss=1.2060; val_map=0.0371\n"
     ]
    },
    {
     "data": {
      "application/vnd.jupyter.widget-view+json": {
       "model_id": "7ab3221881ed41eda1d7a997b6e48517",
       "version_major": 2,
       "version_minor": 0
      },
      "text/plain": [
       "Train Epoch 1:   0%|          | 0/84 [00:00<?, ?it/s]"
      ]
     },
     "metadata": {},
     "output_type": "display_data"
    },
    {
     "name": "stdout",
     "output_type": "stream",
     "text": [
      "epoch=1; train_loss=0.1291; val_loss=0.3632; val_map=0.0296\n"
     ]
    },
    {
     "data": {
      "application/vnd.jupyter.widget-view+json": {
       "model_id": "8016a86291cb4b7483aed68c2a27ab1f",
       "version_major": 2,
       "version_minor": 0
      },
      "text/plain": [
       "Train Epoch 2:   0%|          | 0/84 [00:00<?, ?it/s]"
      ]
     },
     "metadata": {},
     "output_type": "display_data"
    },
    {
     "name": "stdout",
     "output_type": "stream",
     "text": [
      "epoch=2; train_loss=0.0644; val_loss=0.7387; val_map=0.0114\n"
     ]
    },
    {
     "data": {
      "application/vnd.jupyter.widget-view+json": {
       "model_id": "460a2dbda48d41d187dcefc656ea0b1b",
       "version_major": 2,
       "version_minor": 0
      },
      "text/plain": [
       "Train Epoch 3:   0%|          | 0/84 [00:00<?, ?it/s]"
      ]
     },
     "metadata": {},
     "output_type": "display_data"
    },
    {
     "name": "stderr",
     "output_type": "stream",
     "text": [
      "[I 2025-08-20 11:50:36,266] Trial 26 finished with value: 0.024705328047275543 and parameters: {'enable_horizontal_flip': False, 'enable_color_jitter': False, 'enable_affine': True, 'enable_affine_scale': False, 'enable_affine_rotate': True, 'affine_rotate_min': -17.146443116506234, 'affine_rotate_max': 17.781082140901148, 'enable_affine_shear': False}. Best is trial 11 with value: 0.04714757204055786.\n"
     ]
    },
    {
     "name": "stdout",
     "output_type": "stream",
     "text": [
      "epoch=3; train_loss=0.0536; val_loss=0.9672; val_map=0.0247\n"
     ]
    },
    {
     "data": {
      "application/vnd.jupyter.widget-view+json": {
       "model_id": "0893e17e4cf04b759363573444352cd2",
       "version_major": 2,
       "version_minor": 0
      },
      "text/plain": [
       "Train Epoch 1:   0%|          | 0/84 [00:00<?, ?it/s]"
      ]
     },
     "metadata": {},
     "output_type": "display_data"
    },
    {
     "name": "stdout",
     "output_type": "stream",
     "text": [
      "epoch=1; train_loss=nan; val_loss=nan; val_map=0.0000\n"
     ]
    },
    {
     "data": {
      "application/vnd.jupyter.widget-view+json": {
       "model_id": "b966a789e42b435ca6ad887da9d49975",
       "version_major": 2,
       "version_minor": 0
      },
      "text/plain": [
       "Train Epoch 2:   0%|          | 0/84 [00:00<?, ?it/s]"
      ]
     },
     "metadata": {},
     "output_type": "display_data"
    },
    {
     "name": "stdout",
     "output_type": "stream",
     "text": [
      "epoch=2; train_loss=nan; val_loss=nan; val_map=0.0000\n"
     ]
    },
    {
     "data": {
      "application/vnd.jupyter.widget-view+json": {
       "model_id": "a37ad78ffded44a781a0e5489193ff07",
       "version_major": 2,
       "version_minor": 0
      },
      "text/plain": [
       "Train Epoch 3:   0%|          | 0/84 [00:00<?, ?it/s]"
      ]
     },
     "metadata": {},
     "output_type": "display_data"
    },
    {
     "name": "stderr",
     "output_type": "stream",
     "text": [
      "[I 2025-08-20 11:51:54,068] Trial 27 finished with value: 0.0 and parameters: {'enable_horizontal_flip': True, 'enable_color_jitter': False, 'enable_affine': True, 'enable_affine_scale': True, 'affine_scale_min': 0.10175995830342986, 'affine_scale_max': 0.10219529806019136, 'enable_affine_rotate': False, 'enable_affine_shear': True, 'affine_shear_min': -18.86849745762585, 'affine_shear_max': 16.03599040523198}. Best is trial 11 with value: 0.04714757204055786.\n"
     ]
    },
    {
     "name": "stdout",
     "output_type": "stream",
     "text": [
      "epoch=3; train_loss=nan; val_loss=nan; val_map=0.0000\n"
     ]
    },
    {
     "data": {
      "application/vnd.jupyter.widget-view+json": {
       "model_id": "76073fed6c384f3d8d02eb72437e2d6d",
       "version_major": 2,
       "version_minor": 0
      },
      "text/plain": [
       "Train Epoch 1:   0%|          | 0/84 [00:00<?, ?it/s]"
      ]
     },
     "metadata": {},
     "output_type": "display_data"
    },
    {
     "name": "stdout",
     "output_type": "stream",
     "text": [
      "epoch=1; train_loss=0.1542; val_loss=1.2573; val_map=0.0304\n"
     ]
    },
    {
     "data": {
      "application/vnd.jupyter.widget-view+json": {
       "model_id": "ce415220f3664acea02eba2e650f969f",
       "version_major": 2,
       "version_minor": 0
      },
      "text/plain": [
       "Train Epoch 2:   0%|          | 0/84 [00:00<?, ?it/s]"
      ]
     },
     "metadata": {},
     "output_type": "display_data"
    },
    {
     "name": "stdout",
     "output_type": "stream",
     "text": [
      "epoch=2; train_loss=0.0702; val_loss=1.3840; val_map=0.0372\n"
     ]
    },
    {
     "data": {
      "application/vnd.jupyter.widget-view+json": {
       "model_id": "ec9696416ff448fe83962231cd5a8ed6",
       "version_major": 2,
       "version_minor": 0
      },
      "text/plain": [
       "Train Epoch 3:   0%|          | 0/84 [00:00<?, ?it/s]"
      ]
     },
     "metadata": {},
     "output_type": "display_data"
    },
    {
     "name": "stderr",
     "output_type": "stream",
     "text": [
      "[I 2025-08-20 11:53:17,843] Trial 28 finished with value: 0.05569104477763176 and parameters: {'enable_horizontal_flip': True, 'enable_color_jitter': False, 'enable_affine': True, 'enable_affine_scale': False, 'enable_affine_rotate': True, 'affine_rotate_min': -18.631520297837287, 'affine_rotate_max': 15.739799078745644, 'enable_affine_shear': False}. Best is trial 28 with value: 0.05569104477763176.\n"
     ]
    },
    {
     "name": "stdout",
     "output_type": "stream",
     "text": [
      "epoch=3; train_loss=0.0591; val_loss=0.5752; val_map=0.0557\n"
     ]
    },
    {
     "data": {
      "application/vnd.jupyter.widget-view+json": {
       "model_id": "bdc64a2f17774540817b02f7e809cf9b",
       "version_major": 2,
       "version_minor": 0
      },
      "text/plain": [
       "Train Epoch 1:   0%|          | 0/84 [00:00<?, ?it/s]"
      ]
     },
     "metadata": {},
     "output_type": "display_data"
    },
    {
     "name": "stdout",
     "output_type": "stream",
     "text": [
      "epoch=1; train_loss=0.4995; val_loss=0.6664; val_map=0.0222\n"
     ]
    },
    {
     "data": {
      "application/vnd.jupyter.widget-view+json": {
       "model_id": "1478af933912435187054fca61830946",
       "version_major": 2,
       "version_minor": 0
      },
      "text/plain": [
       "Train Epoch 2:   0%|          | 0/84 [00:00<?, ?it/s]"
      ]
     },
     "metadata": {},
     "output_type": "display_data"
    },
    {
     "name": "stdout",
     "output_type": "stream",
     "text": [
      "epoch=2; train_loss=0.2368; val_loss=0.8900; val_map=0.0085\n"
     ]
    },
    {
     "data": {
      "application/vnd.jupyter.widget-view+json": {
       "model_id": "134170859938489e96037e769dc9bb35",
       "version_major": 2,
       "version_minor": 0
      },
      "text/plain": [
       "Train Epoch 3:   0%|          | 0/84 [00:00<?, ?it/s]"
      ]
     },
     "metadata": {},
     "output_type": "display_data"
    },
    {
     "name": "stderr",
     "output_type": "stream",
     "text": [
      "[I 2025-08-20 11:54:42,744] Trial 29 finished with value: 0.008140814490616322 and parameters: {'enable_horizontal_flip': True, 'enable_color_jitter': False, 'enable_affine': True, 'enable_affine_scale': True, 'affine_scale_min': 0.16568583861431424, 'affine_scale_max': 0.27248332963809047, 'enable_affine_rotate': True, 'affine_rotate_min': -18.594385748834284, 'affine_rotate_max': 15.575336909291119, 'enable_affine_shear': True, 'affine_shear_min': -16.384464583129535, 'affine_shear_max': 19.474027393256858}. Best is trial 28 with value: 0.05569104477763176.\n"
     ]
    },
    {
     "name": "stdout",
     "output_type": "stream",
     "text": [
      "epoch=3; train_loss=0.1835; val_loss=1.1441; val_map=0.0081\n"
     ]
    }
   ],
   "source": [
    "study = optuna.create_study(direction=\"maximize\", study_name=\"optuna_random_fusion\")\n",
    "study.optimize(objective, n_trials=30)  # adjust number of trials"
   ]
  },
  {
   "cell_type": "code",
   "execution_count": 5,
   "id": "47a217ff-5838-4256-9a2c-a3895b2191ba",
   "metadata": {},
   "outputs": [
    {
     "name": "stdout",
     "output_type": "stream",
     "text": [
      "[{\"trial_number\": 0, \"value\": 0.03988448902964592, \"params\": {\"enable_horizontal_flip\": true, \"enable_color_jitter\": true, \"color_jitter_brightness\": 0.2308960294879046, \"color_jitter_contrast\": 0.4361043403813796, \"color_jitter_saturation\": 0.14896456066636754, \"color_jitter_hue\": 0.18401889827308776, \"enable_affine\": true, \"enable_affine_scale\": true, \"affine_scale_min\": 0.0909766850633183, \"affine_scale_max\": 0.38341820316339, \"enable_affine_rotate\": false, \"enable_affine_shear\": true, \"affine_shear_min\": -15.31814779200157, \"affine_shear_max\": 18.543122158446018}, \"state\": \"TrialState.COMPLETE\"}, {\"trial_number\": 1, \"value\": 0.0446958988904953, \"params\": {\"enable_horizontal_flip\": true, \"enable_color_jitter\": false, \"enable_affine\": true, \"enable_affine_scale\": false, \"enable_affine_rotate\": true, \"affine_rotate_min\": -18.339482643745708, \"affine_rotate_max\": 16.66560506830946, \"enable_affine_shear\": false}, \"state\": \"TrialState.COMPLETE\"}, {\"trial_number\": 2, \"value\": 0.026489265263080597, \"params\": {\"enable_horizontal_flip\": false, \"enable_color_jitter\": true, \"color_jitter_brightness\": 0.22797784088113288, \"color_jitter_contrast\": 0.40978082930463255, \"color_jitter_saturation\": 0.43463019133259273, \"color_jitter_hue\": 0.14139244547694998, \"enable_affine\": false}, \"state\": \"TrialState.COMPLETE\"}, {\"trial_number\": 3, \"value\": 0.04230562597513199, \"params\": {\"enable_horizontal_flip\": true, \"enable_color_jitter\": true, \"color_jitter_brightness\": 0.3342097169622008, \"color_jitter_contrast\": 0.4800025786474541, \"color_jitter_saturation\": 0.3497070023866904, \"color_jitter_hue\": 0.1854535340269582, \"enable_affine\": false}, \"state\": \"TrialState.COMPLETE\"}, {\"trial_number\": 4, \"value\": 0.04388546943664551, \"params\": {\"enable_horizontal_flip\": true, \"enable_color_jitter\": true, \"color_jitter_brightness\": 0.20673953068595102, \"color_jitter_contrast\": 0.1127693387835497, \"color_jitter_saturation\": 0.41390875235567615, \"color_jitter_hue\": 0.1549161175840751, \"enable_affine\": false}, \"state\": \"TrialState.COMPLETE\"}, {\"trial_number\": 5, \"value\": 0.043032992631196976, \"params\": {\"enable_horizontal_flip\": true, \"enable_color_jitter\": false, \"enable_affine\": false}, \"state\": \"TrialState.COMPLETE\"}, {\"trial_number\": 6, \"value\": 0.026433629915118217, \"params\": {\"enable_horizontal_flip\": true, \"enable_color_jitter\": true, \"color_jitter_brightness\": 0.462977227067781, \"color_jitter_contrast\": 0.3942265870036685, \"color_jitter_saturation\": 0.2382321234283622, \"color_jitter_hue\": 0.17427485116292196, \"enable_affine\": true, \"enable_affine_scale\": false, \"enable_affine_rotate\": false, \"enable_affine_shear\": false}, \"state\": \"TrialState.COMPLETE\"}, {\"trial_number\": 7, \"value\": 0.02505304105579853, \"params\": {\"enable_horizontal_flip\": true, \"enable_color_jitter\": true, \"color_jitter_brightness\": 0.20117914637245948, \"color_jitter_contrast\": 0.4050057734646244, \"color_jitter_saturation\": 0.49718185715778296, \"color_jitter_hue\": 0.1251202788587742, \"enable_affine\": true, \"enable_affine_scale\": false, \"enable_affine_rotate\": true, \"affine_rotate_min\": -19.301606789217644, \"affine_rotate_max\": 16.88466322142522, \"enable_affine_shear\": false}, \"state\": \"TrialState.COMPLETE\"}, {\"trial_number\": 8, \"value\": 0.030086729675531387, \"params\": {\"enable_horizontal_flip\": false, \"enable_color_jitter\": true, \"color_jitter_brightness\": 0.39354603446267367, \"color_jitter_contrast\": 0.4596263353690486, \"color_jitter_saturation\": 0.25440574463433596, \"color_jitter_hue\": 0.12441681652245623, \"enable_affine\": false}, \"state\": \"TrialState.COMPLETE\"}, {\"trial_number\": 9, \"value\": 0.03330333158373833, \"params\": {\"enable_horizontal_flip\": false, \"enable_color_jitter\": false, \"enable_affine\": false}, \"state\": \"TrialState.COMPLETE\"}, {\"trial_number\": 10, \"value\": 0.019705384969711304, \"params\": {\"enable_horizontal_flip\": false, \"enable_color_jitter\": false, \"enable_affine\": true, \"enable_affine_scale\": false, \"enable_affine_rotate\": true, \"affine_rotate_min\": -16.432771996238465, \"affine_rotate_max\": 15.148721085529816, \"enable_affine_shear\": false}, \"state\": \"TrialState.COMPLETE\"}, {\"trial_number\": 11, \"value\": 0.04714757204055786, \"params\": {\"enable_horizontal_flip\": true, \"enable_color_jitter\": false, \"enable_affine\": true, \"enable_affine_scale\": true, \"affine_scale_min\": 0.18796364830177004, \"affine_scale_max\": 0.20160556506500124, \"enable_affine_rotate\": true, \"affine_rotate_min\": -18.517025625927655, \"affine_rotate_max\": 19.50820020054424, \"enable_affine_shear\": true, \"affine_shear_min\": -19.424137233879602, \"affine_shear_max\": 15.001345476705026}, \"state\": \"TrialState.COMPLETE\"}, {\"trial_number\": 12, \"value\": 0.031166594475507736, \"params\": {\"enable_horizontal_flip\": true, \"enable_color_jitter\": false, \"enable_affine\": true, \"enable_affine_scale\": true, \"affine_scale_min\": 0.1997626258097611, \"affine_scale_max\": 0.200084226578598, \"enable_affine_rotate\": true, \"affine_rotate_min\": -18.547372035813943, \"affine_rotate_max\": 19.913349727477968, \"enable_affine_shear\": true, \"affine_shear_min\": -19.894695850887953, \"affine_shear_max\": 15.081326329304252}, \"state\": \"TrialState.COMPLETE\"}, {\"trial_number\": 13, \"value\": 0.029592365026474, \"params\": {\"enable_horizontal_flip\": true, \"enable_color_jitter\": false, \"enable_affine\": true, \"enable_affine_scale\": true, \"affine_scale_min\": 0.18937008606203293, \"affine_scale_max\": 0.19164245156464213, \"enable_affine_rotate\": true, \"affine_rotate_min\": -17.880435333556402, \"affine_rotate_max\": 19.837360990837436, \"enable_affine_shear\": true, \"affine_shear_min\": -19.689390906996568, \"affine_shear_max\": 15.301358186380329}, \"state\": \"TrialState.COMPLETE\"}, {\"trial_number\": 14, \"value\": 0.0330033004283905, \"params\": {\"enable_horizontal_flip\": true, \"enable_color_jitter\": false, \"enable_affine\": true, \"enable_affine_scale\": false, \"enable_affine_rotate\": true, \"affine_rotate_min\": -19.89230320568225, \"affine_rotate_max\": 17.31429715404746, \"enable_affine_shear\": true, \"affine_shear_min\": -17.724813023921318, \"affine_shear_max\": 16.72607067275471}, \"state\": \"TrialState.COMPLETE\"}, {\"trial_number\": 15, \"value\": 0.013246222399175167, \"params\": {\"enable_horizontal_flip\": true, \"enable_color_jitter\": false, \"enable_affine\": true, \"enable_affine_scale\": true, \"affine_scale_min\": 0.14041780621479616, \"affine_scale_max\": 0.2812294952007153, \"enable_affine_rotate\": true, \"affine_rotate_min\": -17.025348237104048, \"affine_rotate_max\": 18.343537018574146, \"enable_affine_shear\": false}, \"state\": \"TrialState.COMPLETE\"}, {\"trial_number\": 16, \"value\": 0.014399123378098011, \"params\": {\"enable_horizontal_flip\": true, \"enable_color_jitter\": false, \"enable_affine\": true, \"enable_affine_scale\": true, \"affine_scale_min\": 0.13983711376770613, \"affine_scale_max\": 0.49400480413988535, \"enable_affine_rotate\": true, \"affine_rotate_min\": -15.054960622770343, \"affine_rotate_max\": 16.035883442509206, \"enable_affine_shear\": true, \"affine_shear_min\": -18.047271551131086, \"affine_shear_max\": 19.902667972110173}, \"state\": \"TrialState.COMPLETE\"}, {\"trial_number\": 17, \"value\": 0.044408854097127914, \"params\": {\"enable_horizontal_flip\": true, \"enable_color_jitter\": false, \"enable_affine\": true, \"enable_affine_scale\": false, \"enable_affine_rotate\": false, \"enable_affine_shear\": false}, \"state\": \"TrialState.COMPLETE\"}, {\"trial_number\": 18, \"value\": 0.041206978261470795, \"params\": {\"enable_horizontal_flip\": false, \"enable_color_jitter\": false, \"enable_affine\": true, \"enable_affine_scale\": false, \"enable_affine_rotate\": true, \"affine_rotate_min\": -18.55327684790358, \"affine_rotate_max\": 18.719877896771404, \"enable_affine_shear\": false}, \"state\": \"TrialState.COMPLETE\"}, {\"trial_number\": 19, \"value\": 0.014209127984941006, \"params\": {\"enable_horizontal_flip\": true, \"enable_color_jitter\": false, \"enable_affine\": true, \"enable_affine_scale\": true, \"affine_scale_min\": 0.053397577151065426, \"affine_scale_max\": 0.08155165893655524, \"enable_affine_rotate\": true, \"affine_rotate_min\": -18.01493057677981, \"affine_rotate_max\": 16.481854556836517, \"enable_affine_shear\": true, \"affine_shear_min\": -16.004314276640013, \"affine_shear_max\": 16.889384882829372}, \"state\": \"TrialState.COMPLETE\"}, {\"trial_number\": 20, \"value\": 0.03984566032886505, \"params\": {\"enable_horizontal_flip\": true, \"enable_color_jitter\": false, \"enable_affine\": true, \"enable_affine_scale\": false, \"enable_affine_rotate\": false, \"enable_affine_shear\": true, \"affine_shear_min\": -18.79322787023266, \"affine_shear_max\": 18.10627559438266}, \"state\": \"TrialState.COMPLETE\"}, {\"trial_number\": 21, \"value\": 0.04426325112581253, \"params\": {\"enable_horizontal_flip\": true, \"enable_color_jitter\": false, \"enable_affine\": true, \"enable_affine_scale\": false, \"enable_affine_rotate\": false, \"enable_affine_shear\": false}, \"state\": \"TrialState.COMPLETE\"}, {\"trial_number\": 22, \"value\": 0.037803780287504196, \"params\": {\"enable_horizontal_flip\": true, \"enable_color_jitter\": false, \"enable_affine\": true, \"enable_affine_scale\": false, \"enable_affine_rotate\": false, \"enable_affine_shear\": false}, \"state\": \"TrialState.COMPLETE\"}, {\"trial_number\": 23, \"value\": 0.03410341218113899, \"params\": {\"enable_horizontal_flip\": true, \"enable_color_jitter\": false, \"enable_affine\": true, \"enable_affine_scale\": false, \"enable_affine_rotate\": false, \"enable_affine_shear\": false}, \"state\": \"TrialState.COMPLETE\"}, {\"trial_number\": 24, \"value\": 0.02280704863369465, \"params\": {\"enable_horizontal_flip\": true, \"enable_color_jitter\": false, \"enable_affine\": true, \"enable_affine_scale\": true, \"affine_scale_min\": 0.16723626352270698, \"affine_scale_max\": 0.34773809725584326, \"enable_affine_rotate\": true, \"affine_rotate_min\": -19.194524365776832, \"affine_rotate_max\": 18.507130479005863, \"enable_affine_shear\": false}, \"state\": \"TrialState.COMPLETE\"}, {\"trial_number\": 25, \"value\": 0.03706524521112442, \"params\": {\"enable_horizontal_flip\": true, \"enable_color_jitter\": false, \"enable_affine\": true, \"enable_affine_scale\": false, \"enable_affine_rotate\": false, \"enable_affine_shear\": false}, \"state\": \"TrialState.COMPLETE\"}, {\"trial_number\": 26, \"value\": 0.024705328047275543, \"params\": {\"enable_horizontal_flip\": false, \"enable_color_jitter\": false, \"enable_affine\": true, \"enable_affine_scale\": false, \"enable_affine_rotate\": true, \"affine_rotate_min\": -17.146443116506234, \"affine_rotate_max\": 17.781082140901148, \"enable_affine_shear\": false}, \"state\": \"TrialState.COMPLETE\"}, {\"trial_number\": 27, \"value\": 0.0, \"params\": {\"enable_horizontal_flip\": true, \"enable_color_jitter\": false, \"enable_affine\": true, \"enable_affine_scale\": true, \"affine_scale_min\": 0.10175995830342986, \"affine_scale_max\": 0.10219529806019136, \"enable_affine_rotate\": false, \"enable_affine_shear\": true, \"affine_shear_min\": -18.86849745762585, \"affine_shear_max\": 16.03599040523198}, \"state\": \"TrialState.COMPLETE\"}, {\"trial_number\": 28, \"value\": 0.05569104477763176, \"params\": {\"enable_horizontal_flip\": true, \"enable_color_jitter\": false, \"enable_affine\": true, \"enable_affine_scale\": false, \"enable_affine_rotate\": true, \"affine_rotate_min\": -18.631520297837287, \"affine_rotate_max\": 15.739799078745644, \"enable_affine_shear\": false}, \"state\": \"TrialState.COMPLETE\"}, {\"trial_number\": 29, \"value\": 0.008140814490616322, \"params\": {\"enable_horizontal_flip\": true, \"enable_color_jitter\": false, \"enable_affine\": true, \"enable_affine_scale\": true, \"affine_scale_min\": 0.16568583861431424, \"affine_scale_max\": 0.27248332963809047, \"enable_affine_rotate\": true, \"affine_rotate_min\": -18.594385748834284, \"affine_rotate_max\": 15.575336909291119, \"enable_affine_shear\": true, \"affine_shear_min\": -16.384464583129535, \"affine_shear_max\": 19.474027393256858}, \"state\": \"TrialState.COMPLETE\"}]\n"
     ]
    }
   ],
   "source": [
    "trial_results = []\n",
    "for trial in study.trials:\n",
    "    trial_results.append({\n",
    "        \"trial_number\": trial.number,\n",
    "        \"value\": trial.value,\n",
    "        \"params\": trial.params,\n",
    "        \"state\": str(trial.state)\n",
    "    })\n",
    "\n",
    "print(json.dumps(trial_results))"
   ]
  }
 ],
 "metadata": {
  "kernelspec": {
   "display_name": "Python3 (main venv)",
   "language": "python",
   "name": "main"
  },
  "language_info": {
   "codemirror_mode": {
    "name": "ipython",
    "version": 3
   },
   "file_extension": ".py",
   "mimetype": "text/x-python",
   "name": "python",
   "nbconvert_exporter": "python",
   "pygments_lexer": "ipython3",
   "version": "3.10.12"
  }
 },
 "nbformat": 4,
 "nbformat_minor": 5
}
